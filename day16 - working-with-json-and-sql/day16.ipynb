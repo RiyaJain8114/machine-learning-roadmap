{
  "cells": [
    {
      "cell_type": "code",
      "execution_count": null,
      "metadata": {
        "id": "-bwz3ZT7Hpsw"
      },
      "outputs": [],
      "source": [
        "import pandas as pd"
      ]
    },
    {
      "cell_type": "markdown",
      "metadata": {
        "id": "8W9iZbIkHpsy"
      },
      "source": [
        "# Woking with JSON"
      ]
    },
    {
      "cell_type": "code",
      "execution_count": null,
      "metadata": {
        "id": "1v5ylCCFHps0",
        "outputId": "71a33502-74aa-4bbf-bdcf-c14cad749fe9"
      },
      "outputs": [
        {
          "data": {
            "text/html": [
              "<div>\n",
              "<style scoped>\n",
              "    .dataframe tbody tr th:only-of-type {\n",
              "        vertical-align: middle;\n",
              "    }\n",
              "\n",
              "    .dataframe tbody tr th {\n",
              "        vertical-align: top;\n",
              "    }\n",
              "\n",
              "    .dataframe thead th {\n",
              "        text-align: right;\n",
              "    }\n",
              "</style>\n",
              "<table border=\"1\" class=\"dataframe\">\n",
              "  <thead>\n",
              "    <tr style=\"text-align: right;\">\n",
              "      <th></th>\n",
              "      <th>id</th>\n",
              "      <th>cuisine</th>\n",
              "      <th>ingredients</th>\n",
              "    </tr>\n",
              "  </thead>\n",
              "  <tbody>\n",
              "    <tr>\n",
              "      <th>0</th>\n",
              "      <td>10259</td>\n",
              "      <td>greek</td>\n",
              "      <td>[romaine lettuce, black olives, grape tomatoes...</td>\n",
              "    </tr>\n",
              "    <tr>\n",
              "      <th>1</th>\n",
              "      <td>25693</td>\n",
              "      <td>southern_us</td>\n",
              "      <td>[plain flour, ground pepper, salt, tomatoes, g...</td>\n",
              "    </tr>\n",
              "    <tr>\n",
              "      <th>2</th>\n",
              "      <td>20130</td>\n",
              "      <td>filipino</td>\n",
              "      <td>[eggs, pepper, salt, mayonaise, cooking oil, g...</td>\n",
              "    </tr>\n",
              "    <tr>\n",
              "      <th>3</th>\n",
              "      <td>22213</td>\n",
              "      <td>indian</td>\n",
              "      <td>[water, vegetable oil, wheat, salt]</td>\n",
              "    </tr>\n",
              "    <tr>\n",
              "      <th>4</th>\n",
              "      <td>13162</td>\n",
              "      <td>indian</td>\n",
              "      <td>[black pepper, shallots, cornflour, cayenne pe...</td>\n",
              "    </tr>\n",
              "    <tr>\n",
              "      <th>...</th>\n",
              "      <td>...</td>\n",
              "      <td>...</td>\n",
              "      <td>...</td>\n",
              "    </tr>\n",
              "    <tr>\n",
              "      <th>39769</th>\n",
              "      <td>29109</td>\n",
              "      <td>irish</td>\n",
              "      <td>[light brown sugar, granulated sugar, butter, ...</td>\n",
              "    </tr>\n",
              "    <tr>\n",
              "      <th>39770</th>\n",
              "      <td>11462</td>\n",
              "      <td>italian</td>\n",
              "      <td>[KRAFT Zesty Italian Dressing, purple onion, b...</td>\n",
              "    </tr>\n",
              "    <tr>\n",
              "      <th>39771</th>\n",
              "      <td>2238</td>\n",
              "      <td>irish</td>\n",
              "      <td>[eggs, citrus fruit, raisins, sourdough starte...</td>\n",
              "    </tr>\n",
              "    <tr>\n",
              "      <th>39772</th>\n",
              "      <td>41882</td>\n",
              "      <td>chinese</td>\n",
              "      <td>[boneless chicken skinless thigh, minced garli...</td>\n",
              "    </tr>\n",
              "    <tr>\n",
              "      <th>39773</th>\n",
              "      <td>2362</td>\n",
              "      <td>mexican</td>\n",
              "      <td>[green chile, jalapeno chilies, onions, ground...</td>\n",
              "    </tr>\n",
              "  </tbody>\n",
              "</table>\n",
              "<p>39774 rows × 3 columns</p>\n",
              "</div>"
            ],
            "text/plain": [
              "          id      cuisine                                        ingredients\n",
              "0      10259        greek  [romaine lettuce, black olives, grape tomatoes...\n",
              "1      25693  southern_us  [plain flour, ground pepper, salt, tomatoes, g...\n",
              "2      20130     filipino  [eggs, pepper, salt, mayonaise, cooking oil, g...\n",
              "3      22213       indian                [water, vegetable oil, wheat, salt]\n",
              "4      13162       indian  [black pepper, shallots, cornflour, cayenne pe...\n",
              "...      ...          ...                                                ...\n",
              "39769  29109        irish  [light brown sugar, granulated sugar, butter, ...\n",
              "39770  11462      italian  [KRAFT Zesty Italian Dressing, purple onion, b...\n",
              "39771   2238        irish  [eggs, citrus fruit, raisins, sourdough starte...\n",
              "39772  41882      chinese  [boneless chicken skinless thigh, minced garli...\n",
              "39773   2362      mexican  [green chile, jalapeno chilies, onions, ground...\n",
              "\n",
              "[39774 rows x 3 columns]"
            ]
          },
          "execution_count": 12,
          "metadata": {},
          "output_type": "execute_result"
        }
      ],
      "source": [
        "pd.read_json('train.json')"
      ]
    },
    {
      "cell_type": "code",
      "execution_count": null,
      "metadata": {
        "id": "MQufybNdHps2",
        "outputId": "17355d24-0e22-4173-a224-0a4357a29eee"
      },
      "outputs": [
        {
          "data": {
            "text/html": [
              "<div>\n",
              "<style scoped>\n",
              "    .dataframe tbody tr th:only-of-type {\n",
              "        vertical-align: middle;\n",
              "    }\n",
              "\n",
              "    .dataframe tbody tr th {\n",
              "        vertical-align: top;\n",
              "    }\n",
              "\n",
              "    .dataframe thead th {\n",
              "        text-align: right;\n",
              "    }\n",
              "</style>\n",
              "<table border=\"1\" class=\"dataframe\">\n",
              "  <thead>\n",
              "    <tr style=\"text-align: right;\">\n",
              "      <th></th>\n",
              "      <th>api_url</th>\n",
              "      <th>api_docs</th>\n",
              "      <th>api_terms</th>\n",
              "      <th>base</th>\n",
              "      <th>date</th>\n",
              "      <th>time_last_updated</th>\n",
              "      <th>rates</th>\n",
              "    </tr>\n",
              "  </thead>\n",
              "  <tbody>\n",
              "    <tr>\n",
              "      <th>AED</th>\n",
              "      <td>https://www.exchangerate-api.com</td>\n",
              "      <td>https://www.exchangerate-api.com/docs/free</td>\n",
              "      <td>https://www.exchangerate-api.com/terms</td>\n",
              "      <td>INR</td>\n",
              "      <td>2021-03-31</td>\n",
              "      <td>1617148801</td>\n",
              "      <td>0.050110</td>\n",
              "    </tr>\n",
              "    <tr>\n",
              "      <th>AFN</th>\n",
              "      <td>https://www.exchangerate-api.com</td>\n",
              "      <td>https://www.exchangerate-api.com/docs/free</td>\n",
              "      <td>https://www.exchangerate-api.com/terms</td>\n",
              "      <td>INR</td>\n",
              "      <td>2021-03-31</td>\n",
              "      <td>1617148801</td>\n",
              "      <td>1.051777</td>\n",
              "    </tr>\n",
              "    <tr>\n",
              "      <th>ALL</th>\n",
              "      <td>https://www.exchangerate-api.com</td>\n",
              "      <td>https://www.exchangerate-api.com/docs/free</td>\n",
              "      <td>https://www.exchangerate-api.com/terms</td>\n",
              "      <td>INR</td>\n",
              "      <td>2021-03-31</td>\n",
              "      <td>1617148801</td>\n",
              "      <td>1.426475</td>\n",
              "    </tr>\n",
              "    <tr>\n",
              "      <th>AMD</th>\n",
              "      <td>https://www.exchangerate-api.com</td>\n",
              "      <td>https://www.exchangerate-api.com/docs/free</td>\n",
              "      <td>https://www.exchangerate-api.com/terms</td>\n",
              "      <td>INR</td>\n",
              "      <td>2021-03-31</td>\n",
              "      <td>1617148801</td>\n",
              "      <td>7.270000</td>\n",
              "    </tr>\n",
              "    <tr>\n",
              "      <th>ANG</th>\n",
              "      <td>https://www.exchangerate-api.com</td>\n",
              "      <td>https://www.exchangerate-api.com/docs/free</td>\n",
              "      <td>https://www.exchangerate-api.com/terms</td>\n",
              "      <td>INR</td>\n",
              "      <td>2021-03-31</td>\n",
              "      <td>1617148801</td>\n",
              "      <td>0.024424</td>\n",
              "    </tr>\n",
              "    <tr>\n",
              "      <th>...</th>\n",
              "      <td>...</td>\n",
              "      <td>...</td>\n",
              "      <td>...</td>\n",
              "      <td>...</td>\n",
              "      <td>...</td>\n",
              "      <td>...</td>\n",
              "      <td>...</td>\n",
              "    </tr>\n",
              "    <tr>\n",
              "      <th>XOF</th>\n",
              "      <td>https://www.exchangerate-api.com</td>\n",
              "      <td>https://www.exchangerate-api.com/docs/free</td>\n",
              "      <td>https://www.exchangerate-api.com/terms</td>\n",
              "      <td>INR</td>\n",
              "      <td>2021-03-31</td>\n",
              "      <td>1617148801</td>\n",
              "      <td>7.637893</td>\n",
              "    </tr>\n",
              "    <tr>\n",
              "      <th>XPF</th>\n",
              "      <td>https://www.exchangerate-api.com</td>\n",
              "      <td>https://www.exchangerate-api.com/docs/free</td>\n",
              "      <td>https://www.exchangerate-api.com/terms</td>\n",
              "      <td>INR</td>\n",
              "      <td>2021-03-31</td>\n",
              "      <td>1617148801</td>\n",
              "      <td>1.389489</td>\n",
              "    </tr>\n",
              "    <tr>\n",
              "      <th>YER</th>\n",
              "      <td>https://www.exchangerate-api.com</td>\n",
              "      <td>https://www.exchangerate-api.com/docs/free</td>\n",
              "      <td>https://www.exchangerate-api.com/terms</td>\n",
              "      <td>INR</td>\n",
              "      <td>2021-03-31</td>\n",
              "      <td>1617148801</td>\n",
              "      <td>3.411028</td>\n",
              "    </tr>\n",
              "    <tr>\n",
              "      <th>ZAR</th>\n",
              "      <td>https://www.exchangerate-api.com</td>\n",
              "      <td>https://www.exchangerate-api.com/docs/free</td>\n",
              "      <td>https://www.exchangerate-api.com/terms</td>\n",
              "      <td>INR</td>\n",
              "      <td>2021-03-31</td>\n",
              "      <td>1617148801</td>\n",
              "      <td>0.204121</td>\n",
              "    </tr>\n",
              "    <tr>\n",
              "      <th>ZMW</th>\n",
              "      <td>https://www.exchangerate-api.com</td>\n",
              "      <td>https://www.exchangerate-api.com/docs/free</td>\n",
              "      <td>https://www.exchangerate-api.com/terms</td>\n",
              "      <td>INR</td>\n",
              "      <td>2021-03-31</td>\n",
              "      <td>1617148801</td>\n",
              "      <td>0.301281</td>\n",
              "    </tr>\n",
              "  </tbody>\n",
              "</table>\n",
              "<p>160 rows × 7 columns</p>\n",
              "</div>"
            ],
            "text/plain": [
              "                              api_url  \\\n",
              "AED  https://www.exchangerate-api.com   \n",
              "AFN  https://www.exchangerate-api.com   \n",
              "ALL  https://www.exchangerate-api.com   \n",
              "AMD  https://www.exchangerate-api.com   \n",
              "ANG  https://www.exchangerate-api.com   \n",
              "..                                ...   \n",
              "XOF  https://www.exchangerate-api.com   \n",
              "XPF  https://www.exchangerate-api.com   \n",
              "YER  https://www.exchangerate-api.com   \n",
              "ZAR  https://www.exchangerate-api.com   \n",
              "ZMW  https://www.exchangerate-api.com   \n",
              "\n",
              "                                       api_docs  \\\n",
              "AED  https://www.exchangerate-api.com/docs/free   \n",
              "AFN  https://www.exchangerate-api.com/docs/free   \n",
              "ALL  https://www.exchangerate-api.com/docs/free   \n",
              "AMD  https://www.exchangerate-api.com/docs/free   \n",
              "ANG  https://www.exchangerate-api.com/docs/free   \n",
              "..                                          ...   \n",
              "XOF  https://www.exchangerate-api.com/docs/free   \n",
              "XPF  https://www.exchangerate-api.com/docs/free   \n",
              "YER  https://www.exchangerate-api.com/docs/free   \n",
              "ZAR  https://www.exchangerate-api.com/docs/free   \n",
              "ZMW  https://www.exchangerate-api.com/docs/free   \n",
              "\n",
              "                                  api_terms base       date  \\\n",
              "AED  https://www.exchangerate-api.com/terms  INR 2021-03-31   \n",
              "AFN  https://www.exchangerate-api.com/terms  INR 2021-03-31   \n",
              "ALL  https://www.exchangerate-api.com/terms  INR 2021-03-31   \n",
              "AMD  https://www.exchangerate-api.com/terms  INR 2021-03-31   \n",
              "ANG  https://www.exchangerate-api.com/terms  INR 2021-03-31   \n",
              "..                                      ...  ...        ...   \n",
              "XOF  https://www.exchangerate-api.com/terms  INR 2021-03-31   \n",
              "XPF  https://www.exchangerate-api.com/terms  INR 2021-03-31   \n",
              "YER  https://www.exchangerate-api.com/terms  INR 2021-03-31   \n",
              "ZAR  https://www.exchangerate-api.com/terms  INR 2021-03-31   \n",
              "ZMW  https://www.exchangerate-api.com/terms  INR 2021-03-31   \n",
              "\n",
              "     time_last_updated     rates  \n",
              "AED         1617148801  0.050110  \n",
              "AFN         1617148801  1.051777  \n",
              "ALL         1617148801  1.426475  \n",
              "AMD         1617148801  7.270000  \n",
              "ANG         1617148801  0.024424  \n",
              "..                 ...       ...  \n",
              "XOF         1617148801  7.637893  \n",
              "XPF         1617148801  1.389489  \n",
              "YER         1617148801  3.411028  \n",
              "ZAR         1617148801  0.204121  \n",
              "ZMW         1617148801  0.301281  \n",
              "\n",
              "[160 rows x 7 columns]"
            ]
          },
          "execution_count": 16,
          "metadata": {},
          "output_type": "execute_result"
        }
      ],
      "source": [
        "pd.read_json('https://api.exchangerate-api.com/v4/latest/INR')"
      ]
    },
    {
      "cell_type": "markdown",
      "metadata": {
        "id": "5NJjuZ30Hps3"
      },
      "source": [
        "# Working with SQL"
      ]
    },
    {
      "cell_type": "code",
      "execution_count": null,
      "metadata": {
        "id": "J7MZy4AXHps4",
        "outputId": "79acca50-91b9-491d-d07c-d3ff8a029428"
      },
      "outputs": [
        {
          "name": "stdout",
          "output_type": "stream",
          "text": [
            "Processing c:\\users\\91842\\appdata\\local\\pip\\cache\\wheels\\57\\e4\\98\\5feafb5c393dd2540e44b064a6f95832990d543e5b4f53ea8f\\mysql_connector-2.2.9-cp38-cp38-win_amd64.whl\n",
            "Installing collected packages: mysql.connector\n",
            "Successfully installed mysql.connector\n"
          ]
        }
      ],
      "source": [
        "!pip install mysql.connector"
      ]
    },
    {
      "cell_type": "code",
      "execution_count": null,
      "metadata": {
        "id": "wVkxnfCDHps5"
      },
      "outputs": [],
      "source": [
        "import mysql.connector"
      ]
    },
    {
      "cell_type": "code",
      "execution_count": null,
      "metadata": {
        "id": "zCLx0rOmHps7"
      },
      "outputs": [],
      "source": [
        "conn = mysql.connector.connect(host='localhost',user='root',password='',database='world')"
      ]
    },
    {
      "cell_type": "code",
      "execution_count": null,
      "metadata": {
        "id": "xKmfpmEjHps7"
      },
      "outputs": [],
      "source": [
        "df = pd.read_sql_query(\"SELECT * FROM countrylanguage\",conn)"
      ]
    },
    {
      "cell_type": "code",
      "execution_count": null,
      "metadata": {
        "id": "z66JNNKhHps8",
        "outputId": "a7a4296e-ca08-41e6-fe42-a445dbb271a8"
      },
      "outputs": [
        {
          "data": {
            "text/html": [
              "<div>\n",
              "<style scoped>\n",
              "    .dataframe tbody tr th:only-of-type {\n",
              "        vertical-align: middle;\n",
              "    }\n",
              "\n",
              "    .dataframe tbody tr th {\n",
              "        vertical-align: top;\n",
              "    }\n",
              "\n",
              "    .dataframe thead th {\n",
              "        text-align: right;\n",
              "    }\n",
              "</style>\n",
              "<table border=\"1\" class=\"dataframe\">\n",
              "  <thead>\n",
              "    <tr style=\"text-align: right;\">\n",
              "      <th></th>\n",
              "      <th>CountryCode</th>\n",
              "      <th>Language</th>\n",
              "      <th>IsOfficial</th>\n",
              "      <th>Percentage</th>\n",
              "    </tr>\n",
              "  </thead>\n",
              "  <tbody>\n",
              "    <tr>\n",
              "      <th>0</th>\n",
              "      <td>ABW</td>\n",
              "      <td>Dutch</td>\n",
              "      <td>T</td>\n",
              "      <td>5.3</td>\n",
              "    </tr>\n",
              "    <tr>\n",
              "      <th>1</th>\n",
              "      <td>ABW</td>\n",
              "      <td>English</td>\n",
              "      <td>F</td>\n",
              "      <td>9.5</td>\n",
              "    </tr>\n",
              "    <tr>\n",
              "      <th>2</th>\n",
              "      <td>ABW</td>\n",
              "      <td>Papiamento</td>\n",
              "      <td>F</td>\n",
              "      <td>76.7</td>\n",
              "    </tr>\n",
              "    <tr>\n",
              "      <th>3</th>\n",
              "      <td>ABW</td>\n",
              "      <td>Spanish</td>\n",
              "      <td>F</td>\n",
              "      <td>7.4</td>\n",
              "    </tr>\n",
              "    <tr>\n",
              "      <th>4</th>\n",
              "      <td>AFG</td>\n",
              "      <td>Balochi</td>\n",
              "      <td>F</td>\n",
              "      <td>0.9</td>\n",
              "    </tr>\n",
              "    <tr>\n",
              "      <th>...</th>\n",
              "      <td>...</td>\n",
              "      <td>...</td>\n",
              "      <td>...</td>\n",
              "      <td>...</td>\n",
              "    </tr>\n",
              "    <tr>\n",
              "      <th>979</th>\n",
              "      <td>ZMB</td>\n",
              "      <td>Tongan</td>\n",
              "      <td>F</td>\n",
              "      <td>11.0</td>\n",
              "    </tr>\n",
              "    <tr>\n",
              "      <th>980</th>\n",
              "      <td>ZWE</td>\n",
              "      <td>English</td>\n",
              "      <td>T</td>\n",
              "      <td>2.2</td>\n",
              "    </tr>\n",
              "    <tr>\n",
              "      <th>981</th>\n",
              "      <td>ZWE</td>\n",
              "      <td>Ndebele</td>\n",
              "      <td>F</td>\n",
              "      <td>16.2</td>\n",
              "    </tr>\n",
              "    <tr>\n",
              "      <th>982</th>\n",
              "      <td>ZWE</td>\n",
              "      <td>Nyanja</td>\n",
              "      <td>F</td>\n",
              "      <td>2.2</td>\n",
              "    </tr>\n",
              "    <tr>\n",
              "      <th>983</th>\n",
              "      <td>ZWE</td>\n",
              "      <td>Shona</td>\n",
              "      <td>F</td>\n",
              "      <td>72.1</td>\n",
              "    </tr>\n",
              "  </tbody>\n",
              "</table>\n",
              "<p>984 rows × 4 columns</p>\n",
              "</div>"
            ],
            "text/plain": [
              "    CountryCode    Language IsOfficial  Percentage\n",
              "0           ABW       Dutch          T         5.3\n",
              "1           ABW     English          F         9.5\n",
              "2           ABW  Papiamento          F        76.7\n",
              "3           ABW     Spanish          F         7.4\n",
              "4           AFG     Balochi          F         0.9\n",
              "..          ...         ...        ...         ...\n",
              "979         ZMB      Tongan          F        11.0\n",
              "980         ZWE     English          T         2.2\n",
              "981         ZWE     Ndebele          F        16.2\n",
              "982         ZWE      Nyanja          F         2.2\n",
              "983         ZWE       Shona          F        72.1\n",
              "\n",
              "[984 rows x 4 columns]"
            ]
          },
          "execution_count": 28,
          "metadata": {},
          "output_type": "execute_result"
        }
      ],
      "source": [
        "df"
      ]
    },
    {
      "cell_type": "code",
      "execution_count": null,
      "metadata": {
        "id": "yFURNSieHps9"
      },
      "outputs": [],
      "source": []
    },
    {
      "cell_type": "code",
      "execution_count": null,
      "metadata": {
        "id": "E8tWSJJSHq9n"
      },
      "outputs": [],
      "source": [
        "import pandas as pd\n",
        "import requests"
      ]
    },
    {
      "cell_type": "code",
      "execution_count": null,
      "metadata": {
        "id": "NflIEvGOHq9p"
      },
      "outputs": [],
      "source": [
        "response = requests.get('https://api.themoviedb.org/3/movie/top_rated?api_key=8265bd1679663a7ea12ac168da84d2e8&language=en-US&page=1')"
      ]
    },
    {
      "cell_type": "code",
      "execution_count": null,
      "metadata": {
        "id": "avvnv38gHq9q"
      },
      "outputs": [],
      "source": [
        "temp_df = pd.DataFrame(response.json()['results'])[['id','title','overview','release_date','popularity','vote_average','vote_count']]"
      ]
    },
    {
      "cell_type": "code",
      "execution_count": null,
      "metadata": {
        "id": "h2c9G2zPHq9r",
        "outputId": "6be3b657-4c69-4681-8def-215c017d7b94"
      },
      "outputs": [
        {
          "data": {
            "text/html": [
              "<div>\n",
              "<style scoped>\n",
              "    .dataframe tbody tr th:only-of-type {\n",
              "        vertical-align: middle;\n",
              "    }\n",
              "\n",
              "    .dataframe tbody tr th {\n",
              "        vertical-align: top;\n",
              "    }\n",
              "\n",
              "    .dataframe thead th {\n",
              "        text-align: right;\n",
              "    }\n",
              "</style>\n",
              "<table border=\"1\" class=\"dataframe\">\n",
              "  <thead>\n",
              "    <tr style=\"text-align: right;\">\n",
              "      <th></th>\n",
              "      <th>id</th>\n",
              "      <th>title</th>\n",
              "      <th>overview</th>\n",
              "      <th>release_date</th>\n",
              "      <th>popularity</th>\n",
              "      <th>vote_average</th>\n",
              "      <th>vote_count</th>\n",
              "    </tr>\n",
              "  </thead>\n",
              "  <tbody>\n",
              "    <tr>\n",
              "      <th>0</th>\n",
              "      <td>19404</td>\n",
              "      <td>Dilwale Dulhania Le Jayenge</td>\n",
              "      <td>Raj is a rich, carefree, happy-go-lucky second...</td>\n",
              "      <td>1995-10-20</td>\n",
              "      <td>18.433</td>\n",
              "      <td>8.7</td>\n",
              "      <td>2763</td>\n",
              "    </tr>\n",
              "    <tr>\n",
              "      <th>1</th>\n",
              "      <td>724089</td>\n",
              "      <td>Gabriel's Inferno Part II</td>\n",
              "      <td>Professor Gabriel Emerson finally learns the t...</td>\n",
              "      <td>2020-07-31</td>\n",
              "      <td>8.439</td>\n",
              "      <td>8.7</td>\n",
              "      <td>1223</td>\n",
              "    </tr>\n",
              "    <tr>\n",
              "      <th>2</th>\n",
              "      <td>278</td>\n",
              "      <td>The Shawshank Redemption</td>\n",
              "      <td>Framed in the 1940s for the double murder of h...</td>\n",
              "      <td>1994-09-23</td>\n",
              "      <td>65.570</td>\n",
              "      <td>8.7</td>\n",
              "      <td>18637</td>\n",
              "    </tr>\n",
              "    <tr>\n",
              "      <th>3</th>\n",
              "      <td>238</td>\n",
              "      <td>The Godfather</td>\n",
              "      <td>Spanning the years 1945 to 1955, a chronicle o...</td>\n",
              "      <td>1972-03-14</td>\n",
              "      <td>63.277</td>\n",
              "      <td>8.7</td>\n",
              "      <td>14052</td>\n",
              "    </tr>\n",
              "    <tr>\n",
              "      <th>4</th>\n",
              "      <td>761053</td>\n",
              "      <td>Gabriel's Inferno Part III</td>\n",
              "      <td>The final part of the film adaption of the ero...</td>\n",
              "      <td>2020-11-19</td>\n",
              "      <td>26.691</td>\n",
              "      <td>8.7</td>\n",
              "      <td>773</td>\n",
              "    </tr>\n",
              "  </tbody>\n",
              "</table>\n",
              "</div>"
            ],
            "text/plain": [
              "       id                        title  \\\n",
              "0   19404  Dilwale Dulhania Le Jayenge   \n",
              "1  724089    Gabriel's Inferno Part II   \n",
              "2     278     The Shawshank Redemption   \n",
              "3     238                The Godfather   \n",
              "4  761053   Gabriel's Inferno Part III   \n",
              "\n",
              "                                            overview release_date  popularity  \\\n",
              "0  Raj is a rich, carefree, happy-go-lucky second...   1995-10-20      18.433   \n",
              "1  Professor Gabriel Emerson finally learns the t...   2020-07-31       8.439   \n",
              "2  Framed in the 1940s for the double murder of h...   1994-09-23      65.570   \n",
              "3  Spanning the years 1945 to 1955, a chronicle o...   1972-03-14      63.277   \n",
              "4  The final part of the film adaption of the ero...   2020-11-19      26.691   \n",
              "\n",
              "   vote_average  vote_count  \n",
              "0           8.7        2763  \n",
              "1           8.7        1223  \n",
              "2           8.7       18637  \n",
              "3           8.7       14052  \n",
              "4           8.7         773  "
            ]
          },
          "execution_count": 34,
          "metadata": {},
          "output_type": "execute_result"
        }
      ],
      "source": [
        "df.head()"
      ]
    },
    {
      "cell_type": "code",
      "execution_count": null,
      "metadata": {
        "id": "zYZyT-IHHq9s"
      },
      "outputs": [],
      "source": [
        "df = pd.DataFrame()"
      ]
    },
    {
      "cell_type": "code",
      "execution_count": null,
      "metadata": {
        "id": "ybjTrpKDHq9t",
        "outputId": "3978715d-d41b-4a0e-cbfb-9d439e678b3f"
      },
      "outputs": [
        {
          "data": {
            "text/html": [
              "<div>\n",
              "<style scoped>\n",
              "    .dataframe tbody tr th:only-of-type {\n",
              "        vertical-align: middle;\n",
              "    }\n",
              "\n",
              "    .dataframe tbody tr th {\n",
              "        vertical-align: top;\n",
              "    }\n",
              "\n",
              "    .dataframe thead th {\n",
              "        text-align: right;\n",
              "    }\n",
              "</style>\n",
              "<table border=\"1\" class=\"dataframe\">\n",
              "  <thead>\n",
              "    <tr style=\"text-align: right;\">\n",
              "      <th></th>\n",
              "    </tr>\n",
              "  </thead>\n",
              "  <tbody>\n",
              "  </tbody>\n",
              "</table>\n",
              "</div>"
            ],
            "text/plain": [
              "Empty DataFrame\n",
              "Columns: []\n",
              "Index: []"
            ]
          },
          "execution_count": 18,
          "metadata": {},
          "output_type": "execute_result"
        }
      ],
      "source": [
        "df"
      ]
    },
    {
      "cell_type": "code",
      "execution_count": null,
      "metadata": {
        "id": "ZmebtPCOHq9u"
      },
      "outputs": [],
      "source": [
        "for i in range(1,429):\n",
        "    response = requests.get('https://api.themoviedb.org/3/movie/top_rated?api_key=8265bd1679663a7ea12ac168da84d2e8&language=en-US&page={}'.format(i))\n",
        "    temp_df = pd.DataFrame(response.json()['results'])[['id','title','overview','release_date','popularity','vote_average','vote_count']]\n",
        "    df = df.append(temp_df,ignore_index=True)\n"
      ]
    },
    {
      "cell_type": "code",
      "execution_count": null,
      "metadata": {
        "id": "Q2A1XDAGHq9v",
        "outputId": "d5ea842a-d19a-4354-bfdc-e38d352a03a9"
      },
      "outputs": [
        {
          "data": {
            "text/html": [
              "<div>\n",
              "<style scoped>\n",
              "    .dataframe tbody tr th:only-of-type {\n",
              "        vertical-align: middle;\n",
              "    }\n",
              "\n",
              "    .dataframe tbody tr th {\n",
              "        vertical-align: top;\n",
              "    }\n",
              "\n",
              "    .dataframe thead th {\n",
              "        text-align: right;\n",
              "    }\n",
              "</style>\n",
              "<table border=\"1\" class=\"dataframe\">\n",
              "  <thead>\n",
              "    <tr style=\"text-align: right;\">\n",
              "      <th></th>\n",
              "      <th>id</th>\n",
              "      <th>title</th>\n",
              "      <th>overview</th>\n",
              "      <th>release_date</th>\n",
              "      <th>popularity</th>\n",
              "      <th>vote_average</th>\n",
              "      <th>vote_count</th>\n",
              "    </tr>\n",
              "  </thead>\n",
              "  <tbody>\n",
              "    <tr>\n",
              "      <th>0</th>\n",
              "      <td>19404</td>\n",
              "      <td>Dilwale Dulhania Le Jayenge</td>\n",
              "      <td>Raj is a rich, carefree, happy-go-lucky second...</td>\n",
              "      <td>1995-10-20</td>\n",
              "      <td>18.433</td>\n",
              "      <td>8.7</td>\n",
              "      <td>2763</td>\n",
              "    </tr>\n",
              "    <tr>\n",
              "      <th>1</th>\n",
              "      <td>724089</td>\n",
              "      <td>Gabriel's Inferno Part II</td>\n",
              "      <td>Professor Gabriel Emerson finally learns the t...</td>\n",
              "      <td>2020-07-31</td>\n",
              "      <td>8.439</td>\n",
              "      <td>8.7</td>\n",
              "      <td>1223</td>\n",
              "    </tr>\n",
              "    <tr>\n",
              "      <th>2</th>\n",
              "      <td>278</td>\n",
              "      <td>The Shawshank Redemption</td>\n",
              "      <td>Framed in the 1940s for the double murder of h...</td>\n",
              "      <td>1994-09-23</td>\n",
              "      <td>65.570</td>\n",
              "      <td>8.7</td>\n",
              "      <td>18637</td>\n",
              "    </tr>\n",
              "    <tr>\n",
              "      <th>3</th>\n",
              "      <td>238</td>\n",
              "      <td>The Godfather</td>\n",
              "      <td>Spanning the years 1945 to 1955, a chronicle o...</td>\n",
              "      <td>1972-03-14</td>\n",
              "      <td>63.277</td>\n",
              "      <td>8.7</td>\n",
              "      <td>14052</td>\n",
              "    </tr>\n",
              "    <tr>\n",
              "      <th>4</th>\n",
              "      <td>761053</td>\n",
              "      <td>Gabriel's Inferno Part III</td>\n",
              "      <td>The final part of the film adaption of the ero...</td>\n",
              "      <td>2020-11-19</td>\n",
              "      <td>26.691</td>\n",
              "      <td>8.7</td>\n",
              "      <td>773</td>\n",
              "    </tr>\n",
              "    <tr>\n",
              "      <th>...</th>\n",
              "      <td>...</td>\n",
              "      <td>...</td>\n",
              "      <td>...</td>\n",
              "      <td>...</td>\n",
              "      <td>...</td>\n",
              "      <td>...</td>\n",
              "      <td>...</td>\n",
              "    </tr>\n",
              "    <tr>\n",
              "      <th>8546</th>\n",
              "      <td>13805</td>\n",
              "      <td>Disaster Movie</td>\n",
              "      <td>The filmmaking team behind the hits \"Scary Mov...</td>\n",
              "      <td>2008-08-29</td>\n",
              "      <td>14.630</td>\n",
              "      <td>3.2</td>\n",
              "      <td>714</td>\n",
              "    </tr>\n",
              "    <tr>\n",
              "      <th>8547</th>\n",
              "      <td>5491</td>\n",
              "      <td>Battlefield Earth</td>\n",
              "      <td>In the year 3000, man is no match for the Psyc...</td>\n",
              "      <td>2000-05-12</td>\n",
              "      <td>10.647</td>\n",
              "      <td>3.0</td>\n",
              "      <td>543</td>\n",
              "    </tr>\n",
              "    <tr>\n",
              "      <th>8548</th>\n",
              "      <td>14164</td>\n",
              "      <td>Dragonball Evolution</td>\n",
              "      <td>The young warrior Son Goku sets out on a quest...</td>\n",
              "      <td>2009-03-12</td>\n",
              "      <td>32.244</td>\n",
              "      <td>2.8</td>\n",
              "      <td>1447</td>\n",
              "    </tr>\n",
              "    <tr>\n",
              "      <th>8549</th>\n",
              "      <td>11059</td>\n",
              "      <td>House of the Dead</td>\n",
              "      <td>Set on an island off the coast, a techno rave ...</td>\n",
              "      <td>2003-04-11</td>\n",
              "      <td>14.502</td>\n",
              "      <td>2.8</td>\n",
              "      <td>238</td>\n",
              "    </tr>\n",
              "    <tr>\n",
              "      <th>8550</th>\n",
              "      <td>40016</td>\n",
              "      <td>Birdemic: Shock and Terror</td>\n",
              "      <td>A platoon of eagles and vultures attacks the r...</td>\n",
              "      <td>2010-02-27</td>\n",
              "      <td>9.824</td>\n",
              "      <td>2.2</td>\n",
              "      <td>215</td>\n",
              "    </tr>\n",
              "  </tbody>\n",
              "</table>\n",
              "<p>8551 rows × 7 columns</p>\n",
              "</div>"
            ],
            "text/plain": [
              "          id                        title  \\\n",
              "0      19404  Dilwale Dulhania Le Jayenge   \n",
              "1     724089    Gabriel's Inferno Part II   \n",
              "2        278     The Shawshank Redemption   \n",
              "3        238                The Godfather   \n",
              "4     761053   Gabriel's Inferno Part III   \n",
              "...      ...                          ...   \n",
              "8546   13805               Disaster Movie   \n",
              "8547    5491            Battlefield Earth   \n",
              "8548   14164         Dragonball Evolution   \n",
              "8549   11059            House of the Dead   \n",
              "8550   40016   Birdemic: Shock and Terror   \n",
              "\n",
              "                                               overview release_date  \\\n",
              "0     Raj is a rich, carefree, happy-go-lucky second...   1995-10-20   \n",
              "1     Professor Gabriel Emerson finally learns the t...   2020-07-31   \n",
              "2     Framed in the 1940s for the double murder of h...   1994-09-23   \n",
              "3     Spanning the years 1945 to 1955, a chronicle o...   1972-03-14   \n",
              "4     The final part of the film adaption of the ero...   2020-11-19   \n",
              "...                                                 ...          ...   \n",
              "8546  The filmmaking team behind the hits \"Scary Mov...   2008-08-29   \n",
              "8547  In the year 3000, man is no match for the Psyc...   2000-05-12   \n",
              "8548  The young warrior Son Goku sets out on a quest...   2009-03-12   \n",
              "8549  Set on an island off the coast, a techno rave ...   2003-04-11   \n",
              "8550  A platoon of eagles and vultures attacks the r...   2010-02-27   \n",
              "\n",
              "      popularity  vote_average  vote_count  \n",
              "0         18.433           8.7        2763  \n",
              "1          8.439           8.7        1223  \n",
              "2         65.570           8.7       18637  \n",
              "3         63.277           8.7       14052  \n",
              "4         26.691           8.7         773  \n",
              "...          ...           ...         ...  \n",
              "8546      14.630           3.2         714  \n",
              "8547      10.647           3.0         543  \n",
              "8548      32.244           2.8        1447  \n",
              "8549      14.502           2.8         238  \n",
              "8550       9.824           2.2         215  \n",
              "\n",
              "[8551 rows x 7 columns]"
            ]
          },
          "execution_count": 21,
          "metadata": {},
          "output_type": "execute_result"
        }
      ],
      "source": [
        "df"
      ]
    },
    {
      "cell_type": "code",
      "execution_count": null,
      "metadata": {
        "id": "a4fNuW5fHq9v",
        "outputId": "6cbf44e4-1c30-4255-e6e7-cbc5aebdfc02"
      },
      "outputs": [
        {
          "data": {
            "text/plain": [
              "(8551, 7)"
            ]
          },
          "execution_count": 22,
          "metadata": {},
          "output_type": "execute_result"
        }
      ],
      "source": [
        "df.shape"
      ]
    },
    {
      "cell_type": "code",
      "execution_count": null,
      "metadata": {
        "id": "4XvaekI3Hq9w"
      },
      "outputs": [],
      "source": [
        "df.to_csv('movies.csv')"
      ]
    },
    {
      "cell_type": "code",
      "execution_count": null,
      "metadata": {
        "id": "8NmBcqwAHq9x"
      },
      "outputs": [],
      "source": [
        "#18"
      ]
    },
    {
      "cell_type": "code",
      "source": [],
      "metadata": {
        "id": "q0oLZTQDIEHf"
      },
      "execution_count": null,
      "outputs": []
    },
    {
      "cell_type": "code",
      "metadata": {
        "id": "h8gog_SyPBTC"
      },
      "source": [
        "import pandas as pd\n",
        "import requests\n",
        "from bs4 import BeautifulSoup\n",
        "import numpy as np"
      ],
      "execution_count": null,
      "outputs": []
    },
    {
      "cell_type": "markdown",
      "metadata": {
        "id": "UXXL00KE5GqP"
      },
      "source": [
        "# if response code is 403\n",
        " - headers={'User-Agent':'Mozilla/5.0 (Windows NT 6.3; Win 64 ; x64) Apple WeKit /537.36(KHTML , like Gecko) Chrome/80.0.3987.162 Safari/537.36'}\n",
        " -requests.get('url',headers=headers).text"
      ]
    },
    {
      "cell_type": "code",
      "metadata": {
        "id": "TLs7qzd-5FEX"
      },
      "source": [],
      "execution_count": null,
      "outputs": []
    },
    {
      "cell_type": "code",
      "metadata": {
        "id": "jTydSea9PcHE"
      },
      "source": [
        "webpage=requests.get('https://www.ambitionbox.com/list-of-companies?page=1').text\n",
        "\n"
      ],
      "execution_count": null,
      "outputs": []
    },
    {
      "cell_type": "code",
      "metadata": {
        "id": "ZpcHZyDiQayL"
      },
      "source": [
        "soup=BeautifulSoup(webpage,'lxml')"
      ],
      "execution_count": null,
      "outputs": []
    },
    {
      "cell_type": "code",
      "metadata": {
        "id": "pVlSaG1v1ufv"
      },
      "source": [
        "#print(soup.prettify())"
      ],
      "execution_count": null,
      "outputs": []
    },
    {
      "cell_type": "code",
      "metadata": {
        "id": "K15yMsdx14gX",
        "colab": {
          "base_uri": "https://localhost:8080/",
          "height": 35
        },
        "outputId": "a9bf3a0e-2b7c-4904-8426-d6aab8841d37"
      },
      "source": [
        "soup.find_all('h1')[0].text"
      ],
      "execution_count": null,
      "outputs": [
        {
          "output_type": "execute_result",
          "data": {
            "application/vnd.google.colaboratory.intrinsic+json": {
              "type": "string"
            },
            "text/plain": [
              "'List of companies in India'"
            ]
          },
          "metadata": {
            "tags": []
          },
          "execution_count": 6
        }
      ]
    },
    {
      "cell_type": "markdown",
      "metadata": {
        "id": "nlrJOjtw6Q-V"
      },
      "source": [
        "# TO FIND OUT NAMES OF THE COMPANIES"
      ]
    },
    {
      "cell_type": "code",
      "metadata": {
        "id": "if5OqNWI3Atj",
        "colab": {
          "base_uri": "https://localhost:8080/",
          "height": 527
        },
        "outputId": "b160b5d5-bb21-487e-9bba-d5b7316433d9"
      },
      "source": [
        "for i in soup.find_all('h2'):\n",
        "  print(i.text.strip())"
      ],
      "execution_count": null,
      "outputs": [
        {
          "output_type": "stream",
          "text": [
            "TCS\n",
            "Accenture\n",
            "ICICI Bank\n",
            "Cognizant\n",
            "HDFC Bank\n",
            "Capgemini\n",
            "Tech Mahindra\n",
            "HCL Technologies\n",
            "L&T\n",
            "Infosys\n",
            "Tata Motors\n",
            "IBM\n",
            "Genpact\n",
            "Reliance jio\n",
            "Axis Bank\n",
            "Wipro\n",
            "Concentrix Corporation\n",
            "HDB Financial Services\n",
            "Vodafone\n",
            "Bharti Airtel\n",
            "Kotak Mahindra Bank\n",
            "Amazon\n",
            "Reliance\n",
            "Bajaj Finserv\n",
            "IndusInd Bank\n",
            "Indian Army\n",
            "Teleperformance\n",
            "Hinduja Global Solutions\n",
            "Samsung\n",
            "Mahindra & Mahindra\n"
          ],
          "name": "stdout"
        }
      ]
    },
    {
      "cell_type": "code",
      "metadata": {
        "id": "QpjmJvQz3L_4",
        "colab": {
          "base_uri": "https://localhost:8080/",
          "height": 1000
        },
        "outputId": "2d1a706a-2740-49e3-8199-2a05c031a8a4"
      },
      "source": [
        "for i in soup.find_all('p'):\n",
        "  print(i.text.strip())"
      ],
      "execution_count": null,
      "outputs": [
        {
          "output_type": "stream",
          "text": [
            "Company Overview\n",
            "477,887 unique\n",
            "\t\t\tcompanies found\n",
            "Sort By:\n",
            "Popular\n",
            "3.9\n",
            "Public\n",
            "Mumbai + 164 more\n",
            "52 years old\n",
            "10000+ employees\n",
            "Tata Consultancy Services is an IT services, consulting and business solutions organisation that has been partnering with the world’s largest businesses in their transformation journeys for the last 50 years. \n",
            "\n",
            "A part of the Tata group, India's largest multinational business group, TCS has over 436,000 of the world’s best-trained consultants in 46 countries. The company is listed on the BSE (formerly Bombay Stock Exchange) and the NSE (National Stock Exchange) in India. \n",
            "\n",
            "TCS'​ proactive stance on climate change and award winning work with communities across the world have earned it a place in leading sustainability indices such as the Dow Jones Sustainability Index (DJSI), MSCI Global Sustainability Index and the FTSE4Good Emerging Index.\n",
            "4.0\n",
            "Private\n",
            "Dublin + 98 more\n",
            "31 years old\n",
            "10000+ employees\n",
            "Accenture is a leading global professional services company, providing a broad range of services and solutions in strategy, consulting, digital, technology and operations. Combining unmatched experience and specialized skills across more than 40 industries and all business functions – underpinned by the world’s largest delivery network – Accenture works at the intersection of business and technology to help clients improve their performance and create sustainable value for their stakeholders. With 449,000 people serving clients in more than 120 countries, Accenture drives innovation to improve the way the world works and lives. Visit us at www.accenture.com.\n",
            "4.1\n",
            "Public\n",
            "Mumbai + 743 more\n",
            "26 years old\n",
            "10000+ employees\n",
            "ICICI Bank is India's largest private sector bank with total consolidated assets of Rs. 11,242.81 billion (US$ 172.5 billion) at March 31, 2018 and profit after tax of Rs. 67.77 billion (US$ 1.0 billion) for the year ended March 31, 2018. \n",
            "\n",
            "ICICI Bank currently has a network of 4,867 Branches and 14,367 ATMs across India.\n",
            "\n",
            "ICICI Bank offers a wide range of banking products and financial services to corporate and retail customers through a variety of delivery channels and through its specialised subsidiaries in the areas of investment banking, life and non-life insurance, venture capital and asset management.\n",
            "3.9\n",
            "Private\n",
            "Teaneck + 46 more\n",
            "26 years old\n",
            "10000+ employees\n",
            "Cognizant (NASDAQ-100: CTSH) is one of the world’s leading professional services companies,\n",
            "transforming clients’ business, operating and technology models for the digital era. Our unique industry-based, consultative approach helps many of the best-known organizations in every industry and geography envision, build and run more innovative and efficient businesses.\n",
            "Founded in 1994 as a technology development arm of The Dun & Bradstreet Corporation, we were spun off as an independent company in 1996, and have worked closely with large organizations to help them build stronger businesses ever since. Today, Cognizant specializes in helping some of the world’s most established companies to stay the most loved brands in today’s fast-changing technology landscape by advancing every aspect of how they serve their customers: digitizing their products, services and customer experiences; automating their business processes; and modernizing their technology infrastructures\n",
            "4.0\n",
            "Public\n",
            "Mumbai + 729 more\n",
            "26 years old\n",
            "10000+ employees\n",
            "HDFC Bank is one of India’s leading private banks and was among the first to receive approval from the Reserve Bank of India (RBI) to set up a private sector bank in 1994.\n",
            "\n",
            "Today, HDFC Bank has a banking network of 5,314 branches and 13,640  ATMs spread across 2,768 cities and towns.\n",
            "\n",
            "HDFC Bank offers a diverse range of financial products and banking services to customers through a growing branch and ATM network and digital channels such as Netbanking, Phonebanking and MobileBanking.\n",
            "3.4\n",
            "Private\n",
            "Paris + 45 more\n",
            "53 years old\n",
            "10000+ employees\n",
            "Capgemini is a global leader in consulting, digital transformation, technology and engineering services. The Group is at the forefront of innovation to address the entire breadth of clients’ opportunities in the evolving world of cloud, digital and platforms. Building on its strong 50-year+ heritage and deep industry-specific expertise, Capgemini enables organizations to realize their business ambitions through an array of services from strategy to operations. Capgemini is driven by the conviction that the business value of technology comes from and through people. Today, it is a multicultural company of 270,000 team members in almost 50 countries. With Altran, the Group reported 2019 combined revenues of €17billion.\n",
            "\n",
            "Visit us at www.capgemini.com. People matter, results count.\n",
            "3.6\n",
            "Public\n",
            "Pune + 160 more\n",
            "34 years old\n",
            "10000+ employees\n",
            "Tech Mahindra represents the connected world, offering innovative and customer-centric information technology experiences, enabling Enterprises, Associates and the Society to Rise™. We are a USD 4.9 billion company with 125,700+ professionals across 90 countries, helping 941 global customers including Fortune 500 companies. Our convergent, digital, design experiences, innovation platforms and reusable assets connect across a number of technologies to deliver tangible business value and experiences to our stakeholders. Tech Mahindra is the highest ranked Non-U.S. company in the Forbes Global Digital 100 list (2018) and in the Forbes Fab 50 companies in Asia (2018).\n",
            "3.7\n",
            "Public\n",
            "Noida + 111 more\n",
            "14 years old\n",
            "10000+ employees\n",
            "HCL Learning, a wholly owned subsidiary of HCL Infosystems, offers education and training content to schools, colleges, individuals and enterprises. Flagship product DigiSchool is a classroom learning solution with interactive content for K-12. Provides customized content repository that caters to the students’ learning needs. Content is designed and developed by HCL Learning Development Centre, certified by Department of Scientific and Industrial Research.  Also offers vocational trainings in the field of IT and ITES. As of June 2015, claims to be catering to 3,500 schools and 3.5M+ students.\n",
            "4.2\n",
            "Public\n",
            "Mumbai + 337 more\n",
            "82 years old\n",
            "10000+ employees\n",
            "Larsen & Toubro is a major technology, engineering, construction, manufacturing and financial services conglomerate, with global operations. L&T addresses critical needs in key sectors - Hydrocarbon, Infrastructure, Power, Process Industries and Defence - for customers in over 30 countries around the world.\n",
            "\n",
            "L&T is engaged in core, high impact sectors of the economy and our integrated capabilities span the entire spectrum of ‘design to deliver’. With 8 decades of a strong, customer focused approach and a continuous quest for world-class quality, we have unmatched expertise across Technology, Engineering, Construction, Infrastructure Projects and Manufacturing, and maintain a leadership in all our major lines of business.\n",
            "\n",
            "Every aspect of L&T's businesses is characterised by professionalism and high standards of corporate governance. Sustainability is embedded into our long-term strategy for growth.\n",
            "3.9\n",
            "Public\n",
            "Bangalore + 68 more\n",
            "39 years old\n",
            "10000+ employees\n",
            "Infosys is a global leader in next-generation digital services and consulting. We enable clients in 45 countries to navigate their digital transformation. With over three decades of experience in managing the systems and workings of global enterprises, we expertly steer our clients through the many nexts of their digital journey. We do it by enabling the enterprise with an AI-powered core that helps prioritize the execution of change. We also empower the business with agile digital at scale to deliver unprecedented levels of performance and customer delight. Our always-on learning agenda drives their continuous improvement through building and transferring digital skills, expertise and ideas from our innovation ecosystem.\n",
            "4.1\n",
            "Public\n",
            "Pune + 344 more\n",
            "75 years old\n",
            "10000+ employees\n",
            "Tata Motors Limited, a USD 45 billion organisation, is a leading automobile manufacturer with a portfolio that includes a wide range of cars, utility vehicles, trucks, buses and defence vehicles. Our marque can be found on and off-road in over 175 countries around the globe.\n",
            "\n",
            "Our focus on connecting aspirations and our pipeline of tech-enabled products keeps us at the forefront of the market. We have identified six key mobility drivers that will lead us into the future – modular architecture, complexity reduction in manufacturing, connected & autonomous vehicles, clean drivelines, shared mobility, and low total cost of ownership. Our sub-brand TAMO is an incubating centre of innovation that will spark new mobility solutions through new technologies, business models and partnerships.\n",
            "4.1\n",
            "Private\n",
            "New York + 73 more\n",
            "109 years old\n",
            "10000+ employees\n",
            "At IBM, work is more than a job - it's a calling: To build. To design. To code. To consult. To think along with clients and sell. To make markets. To invent. To collaborate. Not just to do something better, but to attempt things you've never thought possible. To lead in this new era of technology and solve some of the world's most challenging problems.\n",
            " \n",
            "IBM is a leading cloud platform and cognitive solutions company. Restlessly reinventing since 1911, we are the largest technology and consulting employer in the world, with more than 350,000 employees serving clients in 170 countries. With Watson, the AI platform for business, powered by data, we are building industry-based solutions to real-world problems. For more than seven decades, IBM Research has defined the future of information technology with more than 3,000 researchers in 12 labs located across six continents.\n",
            "4.0\n",
            "Private\n",
            "New York + 31 more\n",
            "23 years old\n",
            "10000+ employees\n",
            "Genpact (NYSE: G) is a global professional services firm that makes business transformation real. We drive digital-led innovation and digitally-enabled intelligent operations for our clients, guided by our experience running thousands of processes primarily for Global Fortune 500 companies. We think with design, dream in digital, and solve problems with data and analytics. Combining our expertise in end-to-end operations and our AI-based platform, Genpact Cora, we focus on the details – all 87,000+ of us. From New York to New Delhi and more than 25 countries in between, we connect every dot, reimagine every process, and reinvent companies’ ways of working. We know that reimagining each step from start to finish will create better business outcomes. Whatever it is, we’ll be there with you – accelerating digital transformation to create bold, lasting results – because transformation happens here.\n",
            "\n",
            "Genpact began in 1997 as a business unit within General Electric. In January 2005, Genpact became an independent company to bring our process expertise and unique DNA in Lean management to clients beyond GE, and then in August 2007, we became a publicly-traded company. Bain Capital became Genpact’s largest shareholder in November 2012, with the strategic objective to grow the company further. Since December 31, 2005, we have expanded from 19,000+ employees and annual revenues of US$491.90 million to 87,000+ employees and annual revenues of US$3.00 billion as of December 31, 2018.\n",
            "4.0\n",
            "Public\n",
            "Navi Mumbai + 606 more\n",
            "10 years old\n",
            "10000+ employees\n",
            "Make a new start. A start that will build beautiful relationships, shape millions of ideas. Enable a new way to live, learn, work and play.\n",
            "\n",
            "At Jio, we build products and services of the future to empower billions of Indians make their dreams a reality.\n",
            "\n",
            "Jio is about YOU. Join the movement to make India Digital.\n",
            "4.0\n",
            "Public\n",
            "Mumbai + 670 more\n",
            "27 years old\n",
            "10000+ employees\n",
            "Axis Bank is the third largest private sector bank in India. The Bank offers the entire spectrum of financial services to customer segments covering Large and Mid-Corporates, MSME, Agriculture and Retail Businesses.\n",
            "\n",
            "The Bank has a large footprint of 4,050 domestic branches (including extension counters) with 11,801 ATMs & 4,917 cash recyclers spread across the country as on 31st March, 2019. The overseas operations of the Bank are spread over nine international offices with branches at Singapore, Hong Kong, Dubai (at the DIFC), Colombo and Shanghai; representative offices at Dhaka, Dubai, Abu Dhabi and an overseas subsidiary at London, UK. The international offices focus on corporate lending, trade finance, syndication, investment banking and liability businesses.\n",
            "3.8\n",
            "Public\n",
            "Bangalore + 123 more\n",
            "75 years old\n",
            "10000+ employees\n",
            "Wipro Limited (NYSE: WIT, BSE: 507685, NSE: WIPRO) is a leading global information technology, consulting and business process services company. We harness the power of cognitive computing, hyper-automation, robotics, cloud, analytics and emerging technologies to help our clients adapt to the digital world and make them successful. A company recognized globally for its comprehensive portfolio of services, a strong commitment to sustainability and good corporate citizenship, we have over 160,000 dedicated employees serving clients across six continents. Together, we discover ideas and connect the dots to build a better and a bold new future.\n",
            "4.0\n",
            "Public\n",
            "Fremont + 39 more\n",
            "37 years old\n",
            "10000+ employees\n",
            "Concentrix is a technology-enabled global business services company specializing in customer engagement and improving business performance. We partner with ambitious, progressive executives around the world to future-proof their business and stay ahead of the competition and customer expectations.\n",
            "\n",
            "It’s all about tapping into sentiment and building an emotional connection that keeps customers and staff fanatical about your brand. That’s where we come in—we create exceptional customer engagement, accelerate digital transformation, and deliver actionable CX insights.\n",
            "\n",
            "We help you reimagine your business—and get you there faster than you ever thought possible.\n",
            "4.0\n",
            "Private\n",
            "Ahmedabad + 463 more\n",
            "13 years old\n",
            "10000+ employees\n",
            "HDB Financial Services (HDBFS) is a leading Non-Banking Financial Company (NBFC) that caters to the growing needs of an Aspirational India, serving both Individual & Business Clients.\n",
            "\n",
            "Incorporated in 2007, we are a well-established business with strong capitalization. HDBFS is accredited with CARE AAA & CRISIL AAA ratings for its long-term debt & Bank facilities and an A1+ rating for its short-term debt & commercial papers, making it a strong and reliable financial institution.\n",
            "\n",
            "HDBFS maintains a strong commitment to ethical conduct. Transparency is ingrained in the structure of our Code of Ethics and our compliance policies to ensure that the highest standards of professional conduct are consistently reinforced and embedded in every corner of the organisation.\n",
            "4.2\n",
            "Public\n",
            "Berkshire + 364 more\n",
            "38 years old\n",
            "10000+ employees\n",
            "Vodafone is a leader in technology communications through mobile, fixed, broadband and TV.\n",
            "We have extensive experience in connectivity, convergence and the Internet of Things, as well as championing mobile financial services and digital transformation in emerging markets.\n",
            "\n",
            "Since making the first mobile call in the UK on 1 January 1985, Vodafone has grown into an international business and one of the most valuable brands in the world. We have mobile operations in 24 countries, partner with mobile networks in 42 more, and provide fixed broadband in 19 markets.\n",
            "\n",
            "As of 30 September 2019, Vodafone Group had approximately 625 million mobile customers, 27 million fixed broadband customers and 22 million TV customers, including all of the customers in Vodafone’s joint ventures and associates.\n",
            "\n",
            "We’re working hard to build a digital future that works for everyone\n",
            "4.2\n",
            "Public\n",
            "New Delhi + 347 more\n",
            "25 years old\n",
            "10000+ employees\n",
            "Bharti Airtel is a leading alternative provider of telecommunications services in India and among the top ten global carriers offering services in about 20 other countries, particularly in Africa. Through subsidiaries, the company operates three business units: Telemedia Services (broadband and telephone), Enterprise Services, and Mobile Services. The Enterprise Services group aids both long-distance carriers and corporate clients. Bharti Airtel has more than 220 million mainly mobile subscribers. It provides digital television service for 5 million in India. The company is a unit of Bharti Enterprises, a conglomerate with interests in financial services, food, and retail, besides telecom.\n",
            "3.8\n",
            "Public\n",
            "Mumbai + 361 more\n",
            "17 years old\n",
            "10000+ employees\n",
            "In February 2003, Kotak Mahindra Finance Ltd. (KMFL), the Group's flagship company, received banking license from the Reserve Bank of India (RBI), becoming the first non-banking finance company in India to convert into a bank - Kotak Mahindra Bank Ltd.\n",
            "Effective April 1, 2015, ING Vysya Bank Ltd. merged with Kotak Mahindra Bank Ltd. \n",
            "The Bank has four Strategic Business Units – Consumer Banking, Corporate Banking, Commercial Banking and Treasury, which cater to retail and corporate customers across urban and rural India.\n",
            "\n",
            "The Group offers a wide range of financial services that encompass every sphere of life. From commercial banking, to stock broking, mutual funds, life insurance and investment banking, the Group caters to the diverse financial needs of individuals and the corporate sector. The Group has a wide distribution network through branches and franchisees across India, and international offices in London, New York, California, Dubai, Abu Dhabi, Bahrain, Mauritius and Singapore.\n",
            "4.1\n",
            "Private\n",
            "Washington + 182 more\n",
            "26 years old\n",
            "10000+ employees\n",
            "Amazon is guided by four principles: customer obsession rather than competitor focus, passion for invention, commitment to operational excellence, and long-term thinking. We are driven by the excitement of building technologies, inventing products, and providing services that change lives. We embrace new ways of doing things, make decisions quickly, and are not afraid to fail. We have the scope and capabilities of a large company, and the spirit and heart of a small one.\n",
            "\n",
            "Together, Amazonians research and develop new technologies from Amazon Web Services to Alexa on behalf of our customers: shoppers, sellers, content creators, and developers around the world.\n",
            "4.2\n",
            "Public\n",
            "Mumbai + 216 more\n",
            "54 years old\n",
            "10000+ employees\n",
            "Reliance Industries Limited is a Fortune 500 company and the largest private sector corporation in India.\n",
            "\n",
            "Our motto “Growth is Life” aptly captures the ever-evolving spirit of Reliance. We have evolved from being a textiles and polyester company to an integrated player across energy, materials, retail, entertainment and digital services. In each of these areas, we are committed to innovation-led, exponential growth. Our vision has pushed us to achieve global leadership in many of our businesses.\n",
            "\n",
            "Reliance's products and services portfolio touches almost all Indians on a daily basis, across economic and social spectrums. We are now focussed on building platforms that will herald the Fourth Industrial Revolution and will create opportunities and avenues for India and all its citizens to realise their true potential.\n",
            "4.1\n",
            "Public\n",
            "Pune + 478 more\n",
            "13 years old\n",
            "10000+ employees\n",
            "Bajaj Finserv was formed in April 2007 as a result of its demerger from Bajaj Auto Limited to further the Group’s interests in financial services. This demerger enabled Bajaj Finserv to independently run the core businesses of Lending, Protection and savings. Bajaj Finserv Limited is the holding company for the businesses dealing with financial services of the Bajaj Group. It serves millions of customers in the financial services space by providing solutions for asset acquisition through financing, asset protection through general insurance, family protection and income protection in the form of life and health insurance and retirement and savings solutions\n",
            "3.6\n",
            "Public\n",
            "Mumbai + 365 more\n",
            "26 years old\n",
            "10000+ employees\n",
            "IndusInd Bank is a Mumbai based scheduled private bank founded in Mumbai in April 1994. This bank offers a wide range of banking as well as financial products and services to the customers and is headquartered in Mumbai, Maharashtra. The bank has over 745 branches with a total network of over 1635 operating ATMs. It has two representative offices outside India in London and Dubai respectively.\n",
            "IndusInd Bank stands tall today as one of the reputed banking brands in the country. The bank has been continuously investing in various advertising & marketing programs to enhance the brand image & recall. In an endeavor to emerge as best-in-class brand, IndusInd Bank has made 'Responsive Innovation' as a central theme of its brand building program. The Bank has combined responsiveness with innovation to launch a wide range of banking products and services which are unique, convenient and very relevant to Indian consumer.\n",
            "4.7\n",
            "Govt agency\n",
            "New Delhi + 211 more\n",
            "125 years old\n",
            "10000+ employees\n",
            "The principal task of the Ministry is to frame policy directions on defence and security related matters and communicate them for implementation to the Services Headquarters, Inter-Service Organisations, Production Establishments and Research & Development Organisations. It is required to ensure effective implementation of the Government's policy directions and the execution of approved programmes within the allocated resources.\n",
            "3.7\n",
            "Private\n",
            "Paris + 45 more\n",
            "42 years old\n",
            "10000+ employees\n",
            "Teleperformance is the agile business services partner that companies need in this digital world.\n",
            "For over 40 years, Teleperformance has been connecting customers with the world’s most successful companies. It is the global leader in customer experience outsourcing management and the trusted provider of digitally integrated business services.\n",
            "At Teleperformance, we combine human touch and high technology to deliver extraordinary customer experiences. While technology creates new and agile ways of working, our interaction experts remain committed to creating unique connections through empathy, adaptive communication skills, and more importantly, a passion to make it happen.\n",
            "3.8\n",
            "Public\n",
            "Bangalore + 52 more\n",
            "20 years old\n",
            "10000+ employees\n",
            "A global leader in business process management (BPM) and optimizing the customer experience lifecycle, HGS is helping make its clients more competitive every day. HGS combines technology-powered services in automation, analytics, and digital with domain expertise focusing on back-office processing, contact centers, and HRO solutions to deliver transformational impact to clients. HGS takes a true “globally local” approach, with our employees making a difference to some of the world’s leading brands across nine key verticals.\n",
            "\n",
            "HGS expertise spans the telecommunications and media, healthcare, insurance, banking, consumer electronics and technology, retail, and consumer packaged goods industries, as well as the public sector. HGS operates on a global landscape with around 37000 employees in 61 worldwide locations delivering localized solutions. For the year ended 31st March 2020, HGS had revenues of US$ 737 million. HGS, part of the multi-billion dollar Hinduja Group, has more than four decades of experience working with some of the world’s most recognized brands.\n",
            "4.2\n",
            "Private\n",
            "Seoul + 292 more\n",
            "82 years old\n",
            "10000+ employees\n",
            "Samsung Electronics is a global leader in technology, opening new possibilities for people everywhere. Through relentless innovation and discovery, we are transforming the worlds of TVs, smartphones, wearable devices, tablets, digital appliances, network systems, medical devices, semiconductors and LED solutions. Samsung is also leading in the Internet of Things space through, among others, our Smart Home and Digital Health initiatives. \n",
            "\n",
            "Since being established in 1969, Samsung Electronics has grown into one of the world’s leading technology companies, and become recognized as one of the top 10 global brands. Our network now extends across the world, and Samsung takes great pride in the creativity and diversity of its talented people, who drive our growth.  To discover more, please visit our website at www.samsung.com and our official newsroom at news.samsung.com\n",
            "4.2\n",
            "Public\n",
            "Mumbai + 268 more\n",
            "75 years old\n",
            "10000+ employees\n",
            "Mahindra & Mahindra Limited is an Indian multinational car manufacturing corporation headquartered in Mumbai, Maharashtra, India.  It is one of the largest vehicle manufacturers by production in India and the largest manufacturer of tractors in the world.\n",
            "\n",
            "Established in 1947, our core automotive business has grown to become India’s No.1 Utility Vehicle maker. But we’re not content to stop there. With a portfolio that extends from pick-ups to SUVs to LCVs & HCVs, we’re committed to making “Mahindra” synonymous with world-class automobiles and we’re building an innovation ecosystem that spans USA, Europe, India and S.Korea. Whether it’s our commitment to the Future of Mobility, social responsibility, or creating customer delight - you’ll find that our vehicles today are as global as the customers we serve.\n",
            "Helping over 2 million job seekers every month in choosing their right fit\n",
            "\t\t\t\tcompany\n",
            "Reviews\n",
            "Salaries\n",
            "Interviews\n",
            "Users/month\n",
            "Trademarks belong to their respective owners. All rights reserved © 2020 Info Edge\n",
            "\t\t\t(India) Ltd.\n"
          ],
          "name": "stdout"
        }
      ]
    },
    {
      "cell_type": "code",
      "metadata": {
        "id": "q0cDFHe94QTn"
      },
      "source": [
        "#for in soup.find_all('p'):\n",
        "  #print(i.text.strip())"
      ],
      "execution_count": null,
      "outputs": []
    },
    {
      "cell_type": "markdown",
      "metadata": {
        "id": "Sy9oKse_6WdF"
      },
      "source": [
        "## TO FIND OUT THE RATINGS"
      ]
    },
    {
      "cell_type": "code",
      "metadata": {
        "id": "oTJRDIHc4aPz",
        "colab": {
          "base_uri": "https://localhost:8080/",
          "height": 34
        },
        "outputId": "4c8e54c2-73a8-4147-ec2b-96153fd87d3a"
      },
      "source": [
        "len(soup.find_all('p',class_='rating'))"
      ],
      "execution_count": null,
      "outputs": [
        {
          "output_type": "execute_result",
          "data": {
            "text/plain": [
              "30"
            ]
          },
          "metadata": {
            "tags": []
          },
          "execution_count": 10
        }
      ]
    },
    {
      "cell_type": "markdown",
      "metadata": {
        "id": "aVLBIp1q6bKi"
      },
      "source": [
        "## TO FIND OUT THE NUMBER OF REVIEWS"
      ]
    },
    {
      "cell_type": "code",
      "metadata": {
        "id": "aee5Z2bK48Gf",
        "colab": {
          "base_uri": "https://localhost:8080/",
          "height": 34
        },
        "outputId": "90210131-9c03-408c-b059-82bd7244eb37"
      },
      "source": [
        "len(soup.find_all('a' , class_='review-count'))"
      ],
      "execution_count": null,
      "outputs": [
        {
          "output_type": "execute_result",
          "data": {
            "text/plain": [
              "30"
            ]
          },
          "metadata": {
            "tags": []
          },
          "execution_count": 11
        }
      ]
    },
    {
      "cell_type": "markdown",
      "metadata": {
        "id": "PA8HCbVD7dho"
      },
      "source": [
        "# CONSIDERING THE WHOLE CONTAINER\n",
        "\n"
      ]
    },
    {
      "cell_type": "code",
      "metadata": {
        "id": "5xH_T95B9wWO"
      },
      "source": [
        "company=soup.find_all('div',class_='company-content-wrapper')"
      ],
      "execution_count": null,
      "outputs": []
    },
    {
      "cell_type": "code",
      "metadata": {
        "id": "2ALc15yw9w2E",
        "colab": {
          "base_uri": "https://localhost:8080/",
          "height": 34
        },
        "outputId": "d33cf99f-364a-4598-fdb8-736dee63bf5b"
      },
      "source": [
        "len(company)"
      ],
      "execution_count": null,
      "outputs": [
        {
          "output_type": "execute_result",
          "data": {
            "text/plain": [
              "30"
            ]
          },
          "metadata": {
            "tags": []
          },
          "execution_count": 13
        }
      ]
    },
    {
      "cell_type": "code",
      "metadata": {
        "id": "lNrFbe6I9wzM"
      },
      "source": [
        "name=[]\n",
        "rating=[]\n",
        "reviews=[]\n",
        "ctype=[]\n",
        "hq=[]\n",
        "how_old=[]\n",
        "no_of_employee=[]\n",
        "\n",
        "for i in company:\n",
        "\n",
        "  name.append(i.find('h2').text.strip())\n",
        "  rating.append(i.find('p',class_='rating').text.strip())\n",
        "  reviews.append(i.find('a' , class_='review-count').text.strip())\n",
        "  ctype.append(i.find_all('p',class_='infoEntity')[0].text.strip())\n",
        "  hq.append(i.find_all('p',class_='infoEntity')[1].text.strip())\n",
        "  how_old.append(i.find_all('p',class_='infoEntity')[2].text.strip())\n",
        "  no_of_employee.append(i.find_all('p',class_='infoEntity')[3].text.strip())\n",
        "\n",
        "df=pd.DataFrame({'name':name,\n",
        "   'rating':rating,\n",
        "   'reviews':reviews,\n",
        "   'company_type':ctype,\n",
        "   'Head_Quarters':hq,\n",
        "   'Company_Age':how_old,\n",
        "   'No_of_Employee':no_of_employee,\n",
        "   })\n",
        "\n"
      ],
      "execution_count": null,
      "outputs": []
    },
    {
      "cell_type": "code",
      "metadata": {
        "id": "cqbu_DVu68V1",
        "colab": {
          "base_uri": "https://localhost:8080/",
          "height": 527
        },
        "outputId": "82ea9fda-e0a1-4de3-c2a2-a06cc862f809"
      },
      "source": [
        "name"
      ],
      "execution_count": null,
      "outputs": [
        {
          "output_type": "execute_result",
          "data": {
            "text/plain": [
              "['TCS',\n",
              " 'Accenture',\n",
              " 'ICICI Bank',\n",
              " 'Cognizant',\n",
              " 'HDFC Bank',\n",
              " 'Capgemini',\n",
              " 'Tech Mahindra',\n",
              " 'HCL Technologies',\n",
              " 'L&T',\n",
              " 'Infosys',\n",
              " 'Tata Motors',\n",
              " 'IBM',\n",
              " 'Genpact',\n",
              " 'Reliance jio',\n",
              " 'Axis Bank',\n",
              " 'Wipro',\n",
              " 'Concentrix Corporation',\n",
              " 'HDB Financial Services',\n",
              " 'Vodafone',\n",
              " 'Bharti Airtel',\n",
              " 'Kotak Mahindra Bank',\n",
              " 'Amazon',\n",
              " 'Reliance',\n",
              " 'Bajaj Finserv',\n",
              " 'IndusInd Bank',\n",
              " 'Indian Army',\n",
              " 'Teleperformance',\n",
              " 'Hinduja Global Solutions',\n",
              " 'Samsung',\n",
              " 'Mahindra & Mahindra']"
            ]
          },
          "metadata": {
            "tags": []
          },
          "execution_count": 15
        }
      ]
    },
    {
      "cell_type": "code",
      "metadata": {
        "id": "ge7M03Fr_Fz0",
        "colab": {
          "base_uri": "https://localhost:8080/",
          "height": 527
        },
        "outputId": "dd8461c8-83eb-4a19-b0da-876d17c44aba"
      },
      "source": [
        "rating"
      ],
      "execution_count": null,
      "outputs": [
        {
          "output_type": "execute_result",
          "data": {
            "text/plain": [
              "['3.9',\n",
              " '4.0',\n",
              " '4.1',\n",
              " '3.9',\n",
              " '4.0',\n",
              " '3.4',\n",
              " '3.6',\n",
              " '3.7',\n",
              " '4.2',\n",
              " '3.9',\n",
              " '4.1',\n",
              " '4.1',\n",
              " '4.0',\n",
              " '4.0',\n",
              " '4.0',\n",
              " '3.8',\n",
              " '4.0',\n",
              " '4.0',\n",
              " '4.2',\n",
              " '4.2',\n",
              " '3.8',\n",
              " '4.1',\n",
              " '4.2',\n",
              " '4.1',\n",
              " '3.6',\n",
              " '4.7',\n",
              " '3.7',\n",
              " '3.8',\n",
              " '4.2',\n",
              " '4.2']"
            ]
          },
          "metadata": {
            "tags": []
          },
          "execution_count": 16
        }
      ]
    },
    {
      "cell_type": "code",
      "metadata": {
        "id": "U1AdxIWh_cT2",
        "colab": {
          "base_uri": "https://localhost:8080/",
          "height": 527
        },
        "outputId": "fa8a2757-558e-4609-bfb4-8e68eb273087"
      },
      "source": [
        "reviews\n"
      ],
      "execution_count": null,
      "outputs": [
        {
          "output_type": "execute_result",
          "data": {
            "text/plain": [
              "['17.1k Reviews',\n",
              " '15k Reviews',\n",
              " '13.8k Reviews',\n",
              " '12.9k Reviews',\n",
              " '12k Reviews',\n",
              " '10k Reviews',\n",
              " '9.8k Reviews',\n",
              " '9.2k Reviews',\n",
              " '9.1k Reviews',\n",
              " '8.7k Reviews',\n",
              " '8.6k Reviews',\n",
              " '8.5k Reviews',\n",
              " '8.3k Reviews',\n",
              " '8.3k Reviews',\n",
              " '8.3k Reviews',\n",
              " '7.3k Reviews',\n",
              " '7.3k Reviews',\n",
              " '6.2k Reviews',\n",
              " '5.7k Reviews',\n",
              " '5.7k Reviews',\n",
              " '5.7k Reviews',\n",
              " '5.6k Reviews',\n",
              " '4.8k Reviews',\n",
              " '4.1k Reviews',\n",
              " '3.9k Reviews',\n",
              " '3.9k Reviews',\n",
              " '3.8k Reviews',\n",
              " '3.8k Reviews',\n",
              " '3.6k Reviews',\n",
              " '3.6k Reviews']"
            ]
          },
          "metadata": {
            "tags": []
          },
          "execution_count": 17
        }
      ]
    },
    {
      "cell_type": "code",
      "source": [
        "#19"
      ],
      "metadata": {
        "id": "UPSczEgOIHwi"
      },
      "execution_count": null,
      "outputs": []
    },
    {
      "cell_type": "code",
      "source": [
        "Skip to main content\n",
        "day19.ipynb\n",
        "day19.ipynb_\n",
        "\n",
        "[ ]\n",
        "import pandas as pd\n",
        "\n",
        "[ ]\n",
        "df = pd.read_csv('train.csv')\n",
        "1. How big is the data?\n",
        "\n",
        "[ ]\n",
        "df.shape\n",
        "(891, 12)\n",
        "2. How does the data look like?\n",
        "\n",
        "[ ]\n",
        "df.sample(5)\n",
        "\n",
        "3. What is the data type of cols?\n",
        "\n",
        "[ ]\n",
        "df.info()\n",
        "<class 'pandas.core.frame.DataFrame'>\n",
        "RangeIndex: 891 entries, 0 to 890\n",
        "Data columns (total 12 columns):\n",
        " #   Column       Non-Null Count  Dtype\n",
        "---  ------       --------------  -----\n",
        " 0   PassengerId  891 non-null    int64\n",
        " 1   Survived     891 non-null    int64\n",
        " 2   Pclass       891 non-null    int64\n",
        " 3   Name         891 non-null    object\n",
        " 4   Sex          891 non-null    object\n",
        " 5   Age          714 non-null    float64\n",
        " 6   SibSp        891 non-null    int64\n",
        " 7   Parch        891 non-null    int64\n",
        " 8   Ticket       891 non-null    object\n",
        " 9   Fare         891 non-null    float64\n",
        " 10  Cabin        204 non-null    object\n",
        " 11  Embarked     889 non-null    object\n",
        "dtypes: float64(2), int64(5), object(5)\n",
        "memory usage: 83.7+ KB\n",
        "4. Are there any missing values?\n",
        "\n",
        "[ ]\n",
        "df.isnull().sum()\n",
        "PassengerId      0\n",
        "Survived         0\n",
        "Pclass           0\n",
        "Name             0\n",
        "Sex              0\n",
        "Age            177\n",
        "SibSp            0\n",
        "Parch            0\n",
        "Ticket           0\n",
        "Fare             0\n",
        "Cabin          687\n",
        "Embarked         2\n",
        "dtype: int64\n",
        "5. How does the data look mathematically?\n",
        "\n",
        "[ ]\n",
        "df.describe()\n",
        "\n",
        "6. Are there duplicate values?\n",
        "\n",
        "[ ]\n",
        "df.duplicated().sum()\n",
        "0\n",
        "7. How is the correlation between cols?\n",
        "\n",
        "[ ]\n",
        "df.corr()['Survived']\n",
        "PassengerId   -0.005007\n",
        "Survived       1.000000\n",
        "Pclass        -0.338481\n",
        "Age           -0.077221\n",
        "SibSp         -0.035322\n",
        "Parch          0.081629\n",
        "Fare           0.257307\n",
        "Name: Survived, dtype: float64\n",
        "\n",
        "[ ]\n",
        "\n",
        "Start coding or generate with AI.\n",
        "Colab paid products - Cancel contracts here\n"
      ],
      "metadata": {
        "id": "X_D_NDfPILZK"
      },
      "execution_count": null,
      "outputs": []
    },
    {
      "cell_type": "code",
      "source": [
        "#20"
      ],
      "metadata": {
        "id": "iRio8F7YIMJV"
      },
      "execution_count": null,
      "outputs": []
    },
    {
      "cell_type": "code",
      "source": [
        "Skip to main content\n",
        "day20.ipynb\n",
        "day20.ipynb_\n",
        "\n",
        "[ ]\n",
        "import pandas as pd\n",
        "import seaborn as sns\n",
        "\n",
        "[ ]\n",
        "df = pd.read_csv('train.csv')\n",
        "\n",
        "[ ]\n",
        "df.head()\n",
        "\n",
        "1. Categorical Data\n",
        "a. Countplot\n",
        "\n",
        "[ ]\n",
        "sns.countplot(df['Embarked'])\n",
        "#df['Survived'].value_counts().plot(kind='bar')\n",
        "\n",
        "b. PieChart\n",
        "\n",
        "[ ]\n",
        "df['Sex'].value_counts().plot(kind='pie',autopct='%.2f')\n",
        "\n",
        "2. Numerical Data\n",
        "a. Histogram\n",
        "\n",
        "[ ]\n",
        "import matplotlib.pyplot as plt\n",
        "plt.hist(df['Age'],bins=5)\n",
        "\n",
        "b. Distplot\n",
        "\n",
        "[ ]\n",
        "sns.distplot(df['Age'])\n",
        "\n",
        "c. Boxplot\n",
        "\n",
        "[ ]\n",
        "sns.boxplot(df['Age'])\n",
        "\n",
        "\n",
        "[ ]\n",
        "df['Age'].min()\n",
        "0.42\n",
        "\n",
        "[ ]\n",
        "df['Age'].max()\n",
        "80.0\n",
        "\n",
        "[ ]\n",
        "df['Age'].mean()\n",
        "29.69911764705882\n",
        "\n",
        "[ ]\n",
        "df['Age'].skew()\n",
        "0.38910778230082704\n",
        "\n",
        "[ ]\n",
        "\n",
        "Start coding or generate with AI.\n",
        "Colab paid products - Cancel contracts here\n"
      ],
      "metadata": {
        "id": "T3UEP44XINgI"
      },
      "execution_count": null,
      "outputs": []
    },
    {
      "cell_type": "code",
      "source": [
        "#21"
      ],
      "metadata": {
        "id": "HDoT22RnIRQG"
      },
      "execution_count": null,
      "outputs": []
    },
    {
      "cell_type": "code",
      "source": [],
      "metadata": {
        "id": "MQsIxQpLIWGA"
      },
      "execution_count": null,
      "outputs": []
    },
    {
      "cell_type": "code",
      "execution_count": null,
      "metadata": {
        "id": "gwJ6GA2qHuuc"
      },
      "outputs": [],
      "source": [
        "import pandas as pd\n",
        "import seaborn as sns"
      ]
    },
    {
      "cell_type": "code",
      "execution_count": null,
      "metadata": {
        "id": "SSCVkOCyHuuf"
      },
      "outputs": [],
      "source": [
        "tips = sns.load_dataset('tips')"
      ]
    },
    {
      "cell_type": "code",
      "execution_count": null,
      "metadata": {
        "id": "l0D-5kJBHuuh",
        "outputId": "b4da575d-f408-41d2-feca-2bbef862819c"
      },
      "outputs": [
        {
          "data": {
            "text/html": [
              "<div>\n",
              "<style scoped>\n",
              "    .dataframe tbody tr th:only-of-type {\n",
              "        vertical-align: middle;\n",
              "    }\n",
              "\n",
              "    .dataframe tbody tr th {\n",
              "        vertical-align: top;\n",
              "    }\n",
              "\n",
              "    .dataframe thead th {\n",
              "        text-align: right;\n",
              "    }\n",
              "</style>\n",
              "<table border=\"1\" class=\"dataframe\">\n",
              "  <thead>\n",
              "    <tr style=\"text-align: right;\">\n",
              "      <th></th>\n",
              "      <th>total_bill</th>\n",
              "      <th>tip</th>\n",
              "      <th>sex</th>\n",
              "      <th>smoker</th>\n",
              "      <th>day</th>\n",
              "      <th>time</th>\n",
              "      <th>size</th>\n",
              "    </tr>\n",
              "  </thead>\n",
              "  <tbody>\n",
              "    <tr>\n",
              "      <th>0</th>\n",
              "      <td>16.99</td>\n",
              "      <td>1.01</td>\n",
              "      <td>Female</td>\n",
              "      <td>No</td>\n",
              "      <td>Sun</td>\n",
              "      <td>Dinner</td>\n",
              "      <td>2</td>\n",
              "    </tr>\n",
              "    <tr>\n",
              "      <th>1</th>\n",
              "      <td>10.34</td>\n",
              "      <td>1.66</td>\n",
              "      <td>Male</td>\n",
              "      <td>No</td>\n",
              "      <td>Sun</td>\n",
              "      <td>Dinner</td>\n",
              "      <td>3</td>\n",
              "    </tr>\n",
              "    <tr>\n",
              "      <th>2</th>\n",
              "      <td>21.01</td>\n",
              "      <td>3.50</td>\n",
              "      <td>Male</td>\n",
              "      <td>No</td>\n",
              "      <td>Sun</td>\n",
              "      <td>Dinner</td>\n",
              "      <td>3</td>\n",
              "    </tr>\n",
              "    <tr>\n",
              "      <th>3</th>\n",
              "      <td>23.68</td>\n",
              "      <td>3.31</td>\n",
              "      <td>Male</td>\n",
              "      <td>No</td>\n",
              "      <td>Sun</td>\n",
              "      <td>Dinner</td>\n",
              "      <td>2</td>\n",
              "    </tr>\n",
              "    <tr>\n",
              "      <th>4</th>\n",
              "      <td>24.59</td>\n",
              "      <td>3.61</td>\n",
              "      <td>Female</td>\n",
              "      <td>No</td>\n",
              "      <td>Sun</td>\n",
              "      <td>Dinner</td>\n",
              "      <td>4</td>\n",
              "    </tr>\n",
              "  </tbody>\n",
              "</table>\n",
              "</div>"
            ],
            "text/plain": [
              "   total_bill   tip     sex smoker  day    time  size\n",
              "0       16.99  1.01  Female     No  Sun  Dinner     2\n",
              "1       10.34  1.66    Male     No  Sun  Dinner     3\n",
              "2       21.01  3.50    Male     No  Sun  Dinner     3\n",
              "3       23.68  3.31    Male     No  Sun  Dinner     2\n",
              "4       24.59  3.61  Female     No  Sun  Dinner     4"
            ]
          },
          "execution_count": 39,
          "metadata": {},
          "output_type": "execute_result"
        }
      ],
      "source": [
        "tips.head()"
      ]
    },
    {
      "cell_type": "code",
      "execution_count": null,
      "metadata": {
        "id": "FrY0VMPZHuul"
      },
      "outputs": [],
      "source": [
        "titanic = pd.read_csv('train.csv')"
      ]
    },
    {
      "cell_type": "code",
      "execution_count": null,
      "metadata": {
        "id": "tjSkWOzMHuum"
      },
      "outputs": [],
      "source": [
        "flights = sns.load_dataset('flights')"
      ]
    },
    {
      "cell_type": "code",
      "execution_count": null,
      "metadata": {
        "id": "tgKUp7UBHuun",
        "outputId": "d625d24a-6c28-4913-9124-8f6f4c2c35b7"
      },
      "outputs": [
        {
          "data": {
            "text/html": [
              "<div>\n",
              "<style scoped>\n",
              "    .dataframe tbody tr th:only-of-type {\n",
              "        vertical-align: middle;\n",
              "    }\n",
              "\n",
              "    .dataframe tbody tr th {\n",
              "        vertical-align: top;\n",
              "    }\n",
              "\n",
              "    .dataframe thead th {\n",
              "        text-align: right;\n",
              "    }\n",
              "</style>\n",
              "<table border=\"1\" class=\"dataframe\">\n",
              "  <thead>\n",
              "    <tr style=\"text-align: right;\">\n",
              "      <th></th>\n",
              "      <th>year</th>\n",
              "      <th>month</th>\n",
              "      <th>passengers</th>\n",
              "    </tr>\n",
              "  </thead>\n",
              "  <tbody>\n",
              "    <tr>\n",
              "      <th>0</th>\n",
              "      <td>1949</td>\n",
              "      <td>January</td>\n",
              "      <td>112</td>\n",
              "    </tr>\n",
              "    <tr>\n",
              "      <th>1</th>\n",
              "      <td>1949</td>\n",
              "      <td>February</td>\n",
              "      <td>118</td>\n",
              "    </tr>\n",
              "    <tr>\n",
              "      <th>2</th>\n",
              "      <td>1949</td>\n",
              "      <td>March</td>\n",
              "      <td>132</td>\n",
              "    </tr>\n",
              "    <tr>\n",
              "      <th>3</th>\n",
              "      <td>1949</td>\n",
              "      <td>April</td>\n",
              "      <td>129</td>\n",
              "    </tr>\n",
              "    <tr>\n",
              "      <th>4</th>\n",
              "      <td>1949</td>\n",
              "      <td>May</td>\n",
              "      <td>121</td>\n",
              "    </tr>\n",
              "  </tbody>\n",
              "</table>\n",
              "</div>"
            ],
            "text/plain": [
              "   year     month  passengers\n",
              "0  1949   January         112\n",
              "1  1949  February         118\n",
              "2  1949     March         132\n",
              "3  1949     April         129\n",
              "4  1949       May         121"
            ]
          },
          "execution_count": 40,
          "metadata": {},
          "output_type": "execute_result"
        }
      ],
      "source": [
        "flights.head()"
      ]
    },
    {
      "cell_type": "code",
      "execution_count": null,
      "metadata": {
        "id": "EH7P8dPXHuup"
      },
      "outputs": [],
      "source": [
        "iris = sns.load_dataset('iris')"
      ]
    },
    {
      "cell_type": "code",
      "execution_count": null,
      "metadata": {
        "id": "6mR8ZdKgHuur",
        "outputId": "6b8de340-97c5-495b-e323-83eb08c8609d"
      },
      "outputs": [
        {
          "data": {
            "text/html": [
              "<div>\n",
              "<style scoped>\n",
              "    .dataframe tbody tr th:only-of-type {\n",
              "        vertical-align: middle;\n",
              "    }\n",
              "\n",
              "    .dataframe tbody tr th {\n",
              "        vertical-align: top;\n",
              "    }\n",
              "\n",
              "    .dataframe thead th {\n",
              "        text-align: right;\n",
              "    }\n",
              "</style>\n",
              "<table border=\"1\" class=\"dataframe\">\n",
              "  <thead>\n",
              "    <tr style=\"text-align: right;\">\n",
              "      <th></th>\n",
              "      <th>sepal_length</th>\n",
              "      <th>sepal_width</th>\n",
              "      <th>petal_length</th>\n",
              "      <th>petal_width</th>\n",
              "      <th>species</th>\n",
              "    </tr>\n",
              "  </thead>\n",
              "  <tbody>\n",
              "    <tr>\n",
              "      <th>0</th>\n",
              "      <td>5.1</td>\n",
              "      <td>3.5</td>\n",
              "      <td>1.4</td>\n",
              "      <td>0.2</td>\n",
              "      <td>setosa</td>\n",
              "    </tr>\n",
              "    <tr>\n",
              "      <th>1</th>\n",
              "      <td>4.9</td>\n",
              "      <td>3.0</td>\n",
              "      <td>1.4</td>\n",
              "      <td>0.2</td>\n",
              "      <td>setosa</td>\n",
              "    </tr>\n",
              "    <tr>\n",
              "      <th>2</th>\n",
              "      <td>4.7</td>\n",
              "      <td>3.2</td>\n",
              "      <td>1.3</td>\n",
              "      <td>0.2</td>\n",
              "      <td>setosa</td>\n",
              "    </tr>\n",
              "    <tr>\n",
              "      <th>3</th>\n",
              "      <td>4.6</td>\n",
              "      <td>3.1</td>\n",
              "      <td>1.5</td>\n",
              "      <td>0.2</td>\n",
              "      <td>setosa</td>\n",
              "    </tr>\n",
              "    <tr>\n",
              "      <th>4</th>\n",
              "      <td>5.0</td>\n",
              "      <td>3.6</td>\n",
              "      <td>1.4</td>\n",
              "      <td>0.2</td>\n",
              "      <td>setosa</td>\n",
              "    </tr>\n",
              "    <tr>\n",
              "      <th>...</th>\n",
              "      <td>...</td>\n",
              "      <td>...</td>\n",
              "      <td>...</td>\n",
              "      <td>...</td>\n",
              "      <td>...</td>\n",
              "    </tr>\n",
              "    <tr>\n",
              "      <th>145</th>\n",
              "      <td>6.7</td>\n",
              "      <td>3.0</td>\n",
              "      <td>5.2</td>\n",
              "      <td>2.3</td>\n",
              "      <td>virginica</td>\n",
              "    </tr>\n",
              "    <tr>\n",
              "      <th>146</th>\n",
              "      <td>6.3</td>\n",
              "      <td>2.5</td>\n",
              "      <td>5.0</td>\n",
              "      <td>1.9</td>\n",
              "      <td>virginica</td>\n",
              "    </tr>\n",
              "    <tr>\n",
              "      <th>147</th>\n",
              "      <td>6.5</td>\n",
              "      <td>3.0</td>\n",
              "      <td>5.2</td>\n",
              "      <td>2.0</td>\n",
              "      <td>virginica</td>\n",
              "    </tr>\n",
              "    <tr>\n",
              "      <th>148</th>\n",
              "      <td>6.2</td>\n",
              "      <td>3.4</td>\n",
              "      <td>5.4</td>\n",
              "      <td>2.3</td>\n",
              "      <td>virginica</td>\n",
              "    </tr>\n",
              "    <tr>\n",
              "      <th>149</th>\n",
              "      <td>5.9</td>\n",
              "      <td>3.0</td>\n",
              "      <td>5.1</td>\n",
              "      <td>1.8</td>\n",
              "      <td>virginica</td>\n",
              "    </tr>\n",
              "  </tbody>\n",
              "</table>\n",
              "<p>150 rows × 5 columns</p>\n",
              "</div>"
            ],
            "text/plain": [
              "     sepal_length  sepal_width  petal_length  petal_width    species\n",
              "0             5.1          3.5           1.4          0.2     setosa\n",
              "1             4.9          3.0           1.4          0.2     setosa\n",
              "2             4.7          3.2           1.3          0.2     setosa\n",
              "3             4.6          3.1           1.5          0.2     setosa\n",
              "4             5.0          3.6           1.4          0.2     setosa\n",
              "..            ...          ...           ...          ...        ...\n",
              "145           6.7          3.0           5.2          2.3  virginica\n",
              "146           6.3          2.5           5.0          1.9  virginica\n",
              "147           6.5          3.0           5.2          2.0  virginica\n",
              "148           6.2          3.4           5.4          2.3  virginica\n",
              "149           5.9          3.0           5.1          1.8  virginica\n",
              "\n",
              "[150 rows x 5 columns]"
            ]
          },
          "execution_count": 41,
          "metadata": {},
          "output_type": "execute_result"
        }
      ],
      "source": [
        "iris"
      ]
    },
    {
      "cell_type": "markdown",
      "metadata": {
        "id": "jTgNgdCWHuus"
      },
      "source": [
        "## 1. Scatterplot (Numerical - Numerical)"
      ]
    },
    {
      "cell_type": "code",
      "execution_count": null,
      "metadata": {
        "id": "49rR-RGhHuuu",
        "outputId": "0bab1de9-e800-4380-d6cc-56ad19b83ab2"
      },
      "outputs": [
        {
          "data": {
            "text/plain": [
              "<matplotlib.axes._subplots.AxesSubplot at 0x2a91dc2bcd0>"
            ]
          },
          "execution_count": 45,
          "metadata": {},
          "output_type": "execute_result"
        },
        {
          "data": {
            "image/png": "[encoded data removed]",
            "text/plain": [
              "<Figure size 432x288 with 1 Axes>"
            ]
          },
          "metadata": {
            "needs_background": "light"
          },
          "output_type": "display_data"
        }
      ],
      "source": [
        "sns.scatterplot(tips['total_bill'],tips['tip'],hue=df['sex'],style=df['smoker'],size=df['size'])"
      ]
    },
    {
      "cell_type": "markdown",
      "metadata": {
        "id": "CdN8UvXKHuuv"
      },
      "source": [
        "## 2. Bar Plot (Numerical - Categorical)"
      ]
    },
    {
      "cell_type": "code",
      "execution_count": null,
      "metadata": {
        "id": "I870AjJOHuuw",
        "outputId": "d5e98dde-4ef6-4d96-8770-1459fbb31f8d"
      },
      "outputs": [
        {
          "data": {
            "text/html": [
              "<div>\n",
              "<style scoped>\n",
              "    .dataframe tbody tr th:only-of-type {\n",
              "        vertical-align: middle;\n",
              "    }\n",
              "\n",
              "    .dataframe tbody tr th {\n",
              "        vertical-align: top;\n",
              "    }\n",
              "\n",
              "    .dataframe thead th {\n",
              "        text-align: right;\n",
              "    }\n",
              "</style>\n",
              "<table border=\"1\" class=\"dataframe\">\n",
              "  <thead>\n",
              "    <tr style=\"text-align: right;\">\n",
              "      <th></th>\n",
              "      <th>PassengerId</th>\n",
              "      <th>Survived</th>\n",
              "      <th>Pclass</th>\n",
              "      <th>Name</th>\n",
              "      <th>Sex</th>\n",
              "      <th>Age</th>\n",
              "      <th>SibSp</th>\n",
              "      <th>Parch</th>\n",
              "      <th>Ticket</th>\n",
              "      <th>Fare</th>\n",
              "      <th>Cabin</th>\n",
              "      <th>Embarked</th>\n",
              "    </tr>\n",
              "  </thead>\n",
              "  <tbody>\n",
              "    <tr>\n",
              "      <th>0</th>\n",
              "      <td>1</td>\n",
              "      <td>0</td>\n",
              "      <td>3</td>\n",
              "      <td>Braund, Mr. Owen Harris</td>\n",
              "      <td>male</td>\n",
              "      <td>22.0</td>\n",
              "      <td>1</td>\n",
              "      <td>0</td>\n",
              "      <td>A/5 21171</td>\n",
              "      <td>7.2500</td>\n",
              "      <td>NaN</td>\n",
              "      <td>S</td>\n",
              "    </tr>\n",
              "    <tr>\n",
              "      <th>1</th>\n",
              "      <td>2</td>\n",
              "      <td>1</td>\n",
              "      <td>1</td>\n",
              "      <td>Cumings, Mrs. John Bradley (Florence Briggs Th...</td>\n",
              "      <td>female</td>\n",
              "      <td>38.0</td>\n",
              "      <td>1</td>\n",
              "      <td>0</td>\n",
              "      <td>PC 17599</td>\n",
              "      <td>71.2833</td>\n",
              "      <td>C85</td>\n",
              "      <td>C</td>\n",
              "    </tr>\n",
              "    <tr>\n",
              "      <th>2</th>\n",
              "      <td>3</td>\n",
              "      <td>1</td>\n",
              "      <td>3</td>\n",
              "      <td>Heikkinen, Miss. Laina</td>\n",
              "      <td>female</td>\n",
              "      <td>26.0</td>\n",
              "      <td>0</td>\n",
              "      <td>0</td>\n",
              "      <td>STON/O2. 3101282</td>\n",
              "      <td>7.9250</td>\n",
              "      <td>NaN</td>\n",
              "      <td>S</td>\n",
              "    </tr>\n",
              "    <tr>\n",
              "      <th>3</th>\n",
              "      <td>4</td>\n",
              "      <td>1</td>\n",
              "      <td>1</td>\n",
              "      <td>Futrelle, Mrs. Jacques Heath (Lily May Peel)</td>\n",
              "      <td>female</td>\n",
              "      <td>35.0</td>\n",
              "      <td>1</td>\n",
              "      <td>0</td>\n",
              "      <td>113803</td>\n",
              "      <td>53.1000</td>\n",
              "      <td>C123</td>\n",
              "      <td>S</td>\n",
              "    </tr>\n",
              "    <tr>\n",
              "      <th>4</th>\n",
              "      <td>5</td>\n",
              "      <td>0</td>\n",
              "      <td>3</td>\n",
              "      <td>Allen, Mr. William Henry</td>\n",
              "      <td>male</td>\n",
              "      <td>35.0</td>\n",
              "      <td>0</td>\n",
              "      <td>0</td>\n",
              "      <td>373450</td>\n",
              "      <td>8.0500</td>\n",
              "      <td>NaN</td>\n",
              "      <td>S</td>\n",
              "    </tr>\n",
              "  </tbody>\n",
              "</table>\n",
              "</div>"
            ],
            "text/plain": [
              "   PassengerId  Survived  Pclass  \\\n",
              "0            1         0       3   \n",
              "1            2         1       1   \n",
              "2            3         1       3   \n",
              "3            4         1       1   \n",
              "4            5         0       3   \n",
              "\n",
              "                                                Name     Sex   Age  SibSp  \\\n",
              "0                            Braund, Mr. Owen Harris    male  22.0      1   \n",
              "1  Cumings, Mrs. John Bradley (Florence Briggs Th...  female  38.0      1   \n",
              "2                             Heikkinen, Miss. Laina  female  26.0      0   \n",
              "3       Futrelle, Mrs. Jacques Heath (Lily May Peel)  female  35.0      1   \n",
              "4                           Allen, Mr. William Henry    male  35.0      0   \n",
              "\n",
              "   Parch            Ticket     Fare Cabin Embarked  \n",
              "0      0         A/5 21171   7.2500   NaN        S  \n",
              "1      0          PC 17599  71.2833   C85        C  \n",
              "2      0  STON/O2. 3101282   7.9250   NaN        S  \n",
              "3      0            113803  53.1000  C123        S  \n",
              "4      0            373450   8.0500   NaN        S  "
            ]
          },
          "execution_count": 47,
          "metadata": {},
          "output_type": "execute_result"
        }
      ],
      "source": [
        "titanic.head()"
      ]
    },
    {
      "cell_type": "code",
      "execution_count": null,
      "metadata": {
        "id": "gOtDSuEZHuux",
        "outputId": "8695e591-ff31-48bf-e7c6-0f1930ce0b2a"
      },
      "outputs": [
        {
          "data": {
            "text/plain": [
              "<matplotlib.axes._subplots.AxesSubplot at 0x2a91f2a3c70>"
            ]
          },
          "execution_count": 52,
          "metadata": {},
          "output_type": "execute_result"
        },
        {
          "data": {
            "image/png": "[encoded data removed]",
            "text/plain": [
              "<Figure size 432x288 with 1 Axes>"
            ]
          },
          "metadata": {
            "needs_background": "light"
          },
          "output_type": "display_data"
        }
      ],
      "source": [
        "sns.barplot(titanic['Pclass'],titanic['Age'],hue=titanic['Sex'])"
      ]
    },
    {
      "cell_type": "markdown",
      "metadata": {
        "id": "1QaWI-RDHuux"
      },
      "source": [
        "## 3. Box Plot (Numerical - Categorical)"
      ]
    },
    {
      "cell_type": "code",
      "execution_count": null,
      "metadata": {
        "id": "YHeIwv8xHuuy",
        "outputId": "53eaeb87-de14-40f6-a66b-db37f7637847"
      },
      "outputs": [
        {
          "data": {
            "text/plain": [
              "<matplotlib.axes._subplots.AxesSubplot at 0x2a91f382310>"
            ]
          },
          "execution_count": 54,
          "metadata": {},
          "output_type": "execute_result"
        },
        {
          "data": {
            "image/png": "[encoded data removed]",
            "text/plain": [
              "<Figure size 432x288 with 1 Axes>"
            ]
          },
          "metadata": {
            "needs_background": "light"
          },
          "output_type": "display_data"
        }
      ],
      "source": [
        "sns.boxplot(titanic['Sex'],titanic['Age'],hue=titanic['Survived'])"
      ]
    },
    {
      "cell_type": "markdown",
      "metadata": {
        "id": "0ARnqFy-Huuy"
      },
      "source": [
        "## 4. Distplot (Numerical - Categorical)"
      ]
    },
    {
      "cell_type": "code",
      "execution_count": null,
      "metadata": {
        "id": "uczA3OWoHuuy",
        "outputId": "43135850-720b-42cb-e43b-ef7110062b1f"
      },
      "outputs": [
        {
          "data": {
            "text/plain": [
              "<matplotlib.axes._subplots.AxesSubplot at 0x2a91f51ceb0>"
            ]
          },
          "execution_count": 61,
          "metadata": {},
          "output_type": "execute_result"
        },
        {
          "data": {
            "image/png": "[encoded data removed]",
            "text/plain": [
              "<Figure size 432x288 with 1 Axes>"
            ]
          },
          "metadata": {
            "needs_background": "light"
          },
          "output_type": "display_data"
        }
      ],
      "source": [
        "sns.distplot(titanic[titanic['Survived']==0]['Age'],hist=False)\n",
        "sns.distplot(titanic[titanic['Survived']==1]['Age'],hist=False)"
      ]
    },
    {
      "cell_type": "markdown",
      "metadata": {
        "id": "KemU-s55Huuz"
      },
      "source": [
        "## 5. HeatMap (Categorical - Categorical)"
      ]
    },
    {
      "cell_type": "code",
      "execution_count": null,
      "metadata": {
        "id": "VixLfqD0Huuz",
        "outputId": "e5901741-01a2-483a-c9ce-d28e2a7d4fc8"
      },
      "outputs": [
        {
          "data": {
            "text/html": [
              "<div>\n",
              "<style scoped>\n",
              "    .dataframe tbody tr th:only-of-type {\n",
              "        vertical-align: middle;\n",
              "    }\n",
              "\n",
              "    .dataframe tbody tr th {\n",
              "        vertical-align: top;\n",
              "    }\n",
              "\n",
              "    .dataframe thead th {\n",
              "        text-align: right;\n",
              "    }\n",
              "</style>\n",
              "<table border=\"1\" class=\"dataframe\">\n",
              "  <thead>\n",
              "    <tr style=\"text-align: right;\">\n",
              "      <th></th>\n",
              "      <th>PassengerId</th>\n",
              "      <th>Survived</th>\n",
              "      <th>Pclass</th>\n",
              "      <th>Name</th>\n",
              "      <th>Sex</th>\n",
              "      <th>Age</th>\n",
              "      <th>SibSp</th>\n",
              "      <th>Parch</th>\n",
              "      <th>Ticket</th>\n",
              "      <th>Fare</th>\n",
              "      <th>Cabin</th>\n",
              "      <th>Embarked</th>\n",
              "    </tr>\n",
              "  </thead>\n",
              "  <tbody>\n",
              "    <tr>\n",
              "      <th>0</th>\n",
              "      <td>1</td>\n",
              "      <td>0</td>\n",
              "      <td>3</td>\n",
              "      <td>Braund, Mr. Owen Harris</td>\n",
              "      <td>male</td>\n",
              "      <td>22.0</td>\n",
              "      <td>1</td>\n",
              "      <td>0</td>\n",
              "      <td>A/5 21171</td>\n",
              "      <td>7.2500</td>\n",
              "      <td>NaN</td>\n",
              "      <td>S</td>\n",
              "    </tr>\n",
              "    <tr>\n",
              "      <th>1</th>\n",
              "      <td>2</td>\n",
              "      <td>1</td>\n",
              "      <td>1</td>\n",
              "      <td>Cumings, Mrs. John Bradley (Florence Briggs Th...</td>\n",
              "      <td>female</td>\n",
              "      <td>38.0</td>\n",
              "      <td>1</td>\n",
              "      <td>0</td>\n",
              "      <td>PC 17599</td>\n",
              "      <td>71.2833</td>\n",
              "      <td>C85</td>\n",
              "      <td>C</td>\n",
              "    </tr>\n",
              "    <tr>\n",
              "      <th>2</th>\n",
              "      <td>3</td>\n",
              "      <td>1</td>\n",
              "      <td>3</td>\n",
              "      <td>Heikkinen, Miss. Laina</td>\n",
              "      <td>female</td>\n",
              "      <td>26.0</td>\n",
              "      <td>0</td>\n",
              "      <td>0</td>\n",
              "      <td>STON/O2. 3101282</td>\n",
              "      <td>7.9250</td>\n",
              "      <td>NaN</td>\n",
              "      <td>S</td>\n",
              "    </tr>\n",
              "  </tbody>\n",
              "</table>\n",
              "</div>"
            ],
            "text/plain": [
              "   PassengerId  Survived  Pclass  \\\n",
              "0            1         0       3   \n",
              "1            2         1       1   \n",
              "2            3         1       3   \n",
              "\n",
              "                                                Name     Sex   Age  SibSp  \\\n",
              "0                            Braund, Mr. Owen Harris    male  22.0      1   \n",
              "1  Cumings, Mrs. John Bradley (Florence Briggs Th...  female  38.0      1   \n",
              "2                             Heikkinen, Miss. Laina  female  26.0      0   \n",
              "\n",
              "   Parch            Ticket     Fare Cabin Embarked  \n",
              "0      0         A/5 21171   7.2500   NaN        S  \n",
              "1      0          PC 17599  71.2833   C85        C  \n",
              "2      0  STON/O2. 3101282   7.9250   NaN        S  "
            ]
          },
          "execution_count": 62,
          "metadata": {},
          "output_type": "execute_result"
        }
      ],
      "source": [
        "titanic.head(3)"
      ]
    },
    {
      "cell_type": "code",
      "execution_count": null,
      "metadata": {
        "id": "iY0d4_0vHuu0",
        "outputId": "37a9b853-a252-48a7-8b7c-bc8a304fd65f"
      },
      "outputs": [
        {
          "data": {
            "text/plain": [
              "<matplotlib.axes._subplots.AxesSubplot at 0x2a91f6c5c10>"
            ]
          },
          "execution_count": 64,
          "metadata": {},
          "output_type": "execute_result"
        },
        {
          "data": {
            "image/png": "[encoded data removed]",
            "text/plain": [
              "<Figure size 432x288 with 2 Axes>"
            ]
          },
          "metadata": {
            "needs_background": "light"
          },
          "output_type": "display_data"
        }
      ],
      "source": [
        "sns.heatmap(pd.crosstab(titanic['Pclass'],titanic['Survived']))"
      ]
    },
    {
      "cell_type": "code",
      "execution_count": null,
      "metadata": {
        "id": "jxp8EmwCHuu0",
        "outputId": "3fcb8e5e-74f1-4fe2-d2e2-ddd01ca6b253"
      },
      "outputs": [
        {
          "data": {
            "text/plain": [
              "Embarked\n",
              "C    55.357143\n",
              "Q    38.961039\n",
              "S    33.695652\n",
              "Name: Survived, dtype: float64"
            ]
          },
          "execution_count": 72,
          "metadata": {},
          "output_type": "execute_result"
        }
      ],
      "source": [
        "(titanic.groupby('Embarked').mean()['Survived']*100)"
      ]
    },
    {
      "cell_type": "markdown",
      "metadata": {
        "id": "JJRet-WIHuu1"
      },
      "source": [
        "## 6. ClusterMap (Categorical - Categorical)"
      ]
    },
    {
      "cell_type": "code",
      "execution_count": null,
      "metadata": {
        "id": "Kj7sHOSsHuu2",
        "outputId": "6f8b34d7-0798-4577-c6f6-dc6fc5edc6d2"
      },
      "outputs": [
        {
          "data": {
            "text/plain": [
              "<seaborn.matrix.ClusterGrid at 0x2a91e118bb0>"
            ]
          },
          "execution_count": 75,
          "metadata": {},
          "output_type": "execute_result"
        },
        {
          "data": {
            "image/png": "[encoded data removed]",
            "text/plain": [
              "<Figure size 720x720 with 4 Axes>"
            ]
          },
          "metadata": {
            "needs_background": "light"
          },
          "output_type": "display_data"
        }
      ],
      "source": [
        "sns.clustermap(pd.crosstab(titanic['Parch'],titanic['Survived']))"
      ]
    },
    {
      "cell_type": "markdown",
      "metadata": {
        "id": "FUX8q6hGHuu2"
      },
      "source": [
        "## 7. Pairplot"
      ]
    },
    {
      "cell_type": "code",
      "execution_count": null,
      "metadata": {
        "id": "5LfeGTSYHuu2",
        "outputId": "56e5c6f2-1bf5-41e7-dd47-89073fc0ae56"
      },
      "outputs": [
        {
          "data": {
            "text/html": [
              "<div>\n",
              "<style scoped>\n",
              "    .dataframe tbody tr th:only-of-type {\n",
              "        vertical-align: middle;\n",
              "    }\n",
              "\n",
              "    .dataframe tbody tr th {\n",
              "        vertical-align: top;\n",
              "    }\n",
              "\n",
              "    .dataframe thead th {\n",
              "        text-align: right;\n",
              "    }\n",
              "</style>\n",
              "<table border=\"1\" class=\"dataframe\">\n",
              "  <thead>\n",
              "    <tr style=\"text-align: right;\">\n",
              "      <th></th>\n",
              "      <th>sepal_length</th>\n",
              "      <th>sepal_width</th>\n",
              "      <th>petal_length</th>\n",
              "      <th>petal_width</th>\n",
              "      <th>species</th>\n",
              "    </tr>\n",
              "  </thead>\n",
              "  <tbody>\n",
              "    <tr>\n",
              "      <th>0</th>\n",
              "      <td>5.1</td>\n",
              "      <td>3.5</td>\n",
              "      <td>1.4</td>\n",
              "      <td>0.2</td>\n",
              "      <td>setosa</td>\n",
              "    </tr>\n",
              "    <tr>\n",
              "      <th>1</th>\n",
              "      <td>4.9</td>\n",
              "      <td>3.0</td>\n",
              "      <td>1.4</td>\n",
              "      <td>0.2</td>\n",
              "      <td>setosa</td>\n",
              "    </tr>\n",
              "    <tr>\n",
              "      <th>2</th>\n",
              "      <td>4.7</td>\n",
              "      <td>3.2</td>\n",
              "      <td>1.3</td>\n",
              "      <td>0.2</td>\n",
              "      <td>setosa</td>\n",
              "    </tr>\n",
              "    <tr>\n",
              "      <th>3</th>\n",
              "      <td>4.6</td>\n",
              "      <td>3.1</td>\n",
              "      <td>1.5</td>\n",
              "      <td>0.2</td>\n",
              "      <td>setosa</td>\n",
              "    </tr>\n",
              "    <tr>\n",
              "      <th>4</th>\n",
              "      <td>5.0</td>\n",
              "      <td>3.6</td>\n",
              "      <td>1.4</td>\n",
              "      <td>0.2</td>\n",
              "      <td>setosa</td>\n",
              "    </tr>\n",
              "  </tbody>\n",
              "</table>\n",
              "</div>"
            ],
            "text/plain": [
              "   sepal_length  sepal_width  petal_length  petal_width species\n",
              "0           5.1          3.5           1.4          0.2  setosa\n",
              "1           4.9          3.0           1.4          0.2  setosa\n",
              "2           4.7          3.2           1.3          0.2  setosa\n",
              "3           4.6          3.1           1.5          0.2  setosa\n",
              "4           5.0          3.6           1.4          0.2  setosa"
            ]
          },
          "execution_count": 76,
          "metadata": {},
          "output_type": "execute_result"
        }
      ],
      "source": [
        "iris.head()"
      ]
    },
    {
      "cell_type": "code",
      "execution_count": null,
      "metadata": {
        "id": "sLYkpxzNHuu3",
        "outputId": "fa4dd5e6-207c-460c-8f4b-af3717ec42af"
      },
      "outputs": [
        {
          "data": {
            "text/plain": [
              "<seaborn.axisgrid.PairGrid at 0x2a9209a4fa0>"
            ]
          },
          "execution_count": 78,
          "metadata": {},
          "output_type": "execute_result"
        },
        {
          "data": {
            "image/png": "[encoded data removed]",
            "text/plain": [
              "<Figure size 804.75x720 with 20 Axes>"
            ]
          },
          "metadata": {
            "needs_background": "light"
          },
          "output_type": "display_data"
        }
      ],
      "source": [
        "sns.pairplot(iris,hue='species')"
      ]
    },
    {
      "cell_type": "markdown",
      "metadata": {
        "id": "-WgUQnGbHuu3"
      },
      "source": [
        "## 8. Lineplot (Numerical - Numerical)"
      ]
    },
    {
      "cell_type": "code",
      "execution_count": null,
      "metadata": {
        "id": "5l_rLPmaHuu3",
        "outputId": "e2c683fc-58fd-4414-9e3f-4b35ff24e96d"
      },
      "outputs": [
        {
          "data": {
            "text/html": [
              "<div>\n",
              "<style scoped>\n",
              "    .dataframe tbody tr th:only-of-type {\n",
              "        vertical-align: middle;\n",
              "    }\n",
              "\n",
              "    .dataframe tbody tr th {\n",
              "        vertical-align: top;\n",
              "    }\n",
              "\n",
              "    .dataframe thead th {\n",
              "        text-align: right;\n",
              "    }\n",
              "</style>\n",
              "<table border=\"1\" class=\"dataframe\">\n",
              "  <thead>\n",
              "    <tr style=\"text-align: right;\">\n",
              "      <th></th>\n",
              "      <th>year</th>\n",
              "      <th>month</th>\n",
              "      <th>passengers</th>\n",
              "    </tr>\n",
              "  </thead>\n",
              "  <tbody>\n",
              "    <tr>\n",
              "      <th>0</th>\n",
              "      <td>1949</td>\n",
              "      <td>January</td>\n",
              "      <td>112</td>\n",
              "    </tr>\n",
              "    <tr>\n",
              "      <th>1</th>\n",
              "      <td>1949</td>\n",
              "      <td>February</td>\n",
              "      <td>118</td>\n",
              "    </tr>\n",
              "    <tr>\n",
              "      <th>2</th>\n",
              "      <td>1949</td>\n",
              "      <td>March</td>\n",
              "      <td>132</td>\n",
              "    </tr>\n",
              "    <tr>\n",
              "      <th>3</th>\n",
              "      <td>1949</td>\n",
              "      <td>April</td>\n",
              "      <td>129</td>\n",
              "    </tr>\n",
              "    <tr>\n",
              "      <th>4</th>\n",
              "      <td>1949</td>\n",
              "      <td>May</td>\n",
              "      <td>121</td>\n",
              "    </tr>\n",
              "  </tbody>\n",
              "</table>\n",
              "</div>"
            ],
            "text/plain": [
              "   year     month  passengers\n",
              "0  1949   January         112\n",
              "1  1949  February         118\n",
              "2  1949     March         132\n",
              "3  1949     April         129\n",
              "4  1949       May         121"
            ]
          },
          "execution_count": 79,
          "metadata": {},
          "output_type": "execute_result"
        }
      ],
      "source": [
        "flights.head()"
      ]
    },
    {
      "cell_type": "code",
      "execution_count": null,
      "metadata": {
        "id": "pTrWyxwNHuu4"
      },
      "outputs": [],
      "source": [
        "new = flights.groupby('year').sum().reset_index()"
      ]
    },
    {
      "cell_type": "code",
      "execution_count": null,
      "metadata": {
        "id": "TP9ABdifHuu4",
        "outputId": "f223c649-702d-4713-9853-ade35798b4ea"
      },
      "outputs": [
        {
          "data": {
            "text/plain": [
              "<matplotlib.axes._subplots.AxesSubplot at 0x2a92265c5e0>"
            ]
          },
          "execution_count": 84,
          "metadata": {},
          "output_type": "execute_result"
        },
        {
          "data": {
            "image/png": "[encoded data removed]",
            "text/plain": [
              "<Figure size 432x288 with 1 Axes>"
            ]
          },
          "metadata": {
            "needs_background": "light"
          },
          "output_type": "display_data"
        }
      ],
      "source": [
        "sns.lineplot(new['year'],new['passengers'])"
      ]
    },
    {
      "cell_type": "code",
      "execution_count": null,
      "metadata": {
        "id": "B-smkrDQHuu4",
        "outputId": "4aadef25-5931-43df-ff91-b37969369ed3"
      },
      "outputs": [
        {
          "data": {
            "text/html": [
              "<div>\n",
              "<style scoped>\n",
              "    .dataframe tbody tr th:only-of-type {\n",
              "        vertical-align: middle;\n",
              "    }\n",
              "\n",
              "    .dataframe tbody tr th {\n",
              "        vertical-align: top;\n",
              "    }\n",
              "\n",
              "    .dataframe thead th {\n",
              "        text-align: right;\n",
              "    }\n",
              "</style>\n",
              "<table border=\"1\" class=\"dataframe\">\n",
              "  <thead>\n",
              "    <tr style=\"text-align: right;\">\n",
              "      <th></th>\n",
              "      <th>year</th>\n",
              "      <th>month</th>\n",
              "      <th>passengers</th>\n",
              "    </tr>\n",
              "  </thead>\n",
              "  <tbody>\n",
              "    <tr>\n",
              "      <th>0</th>\n",
              "      <td>1949</td>\n",
              "      <td>January</td>\n",
              "      <td>112</td>\n",
              "    </tr>\n",
              "    <tr>\n",
              "      <th>1</th>\n",
              "      <td>1949</td>\n",
              "      <td>February</td>\n",
              "      <td>118</td>\n",
              "    </tr>\n",
              "    <tr>\n",
              "      <th>2</th>\n",
              "      <td>1949</td>\n",
              "      <td>March</td>\n",
              "      <td>132</td>\n",
              "    </tr>\n",
              "    <tr>\n",
              "      <th>3</th>\n",
              "      <td>1949</td>\n",
              "      <td>April</td>\n",
              "      <td>129</td>\n",
              "    </tr>\n",
              "    <tr>\n",
              "      <th>4</th>\n",
              "      <td>1949</td>\n",
              "      <td>May</td>\n",
              "      <td>121</td>\n",
              "    </tr>\n",
              "    <tr>\n",
              "      <th>...</th>\n",
              "      <td>...</td>\n",
              "      <td>...</td>\n",
              "      <td>...</td>\n",
              "    </tr>\n",
              "    <tr>\n",
              "      <th>139</th>\n",
              "      <td>1960</td>\n",
              "      <td>August</td>\n",
              "      <td>606</td>\n",
              "    </tr>\n",
              "    <tr>\n",
              "      <th>140</th>\n",
              "      <td>1960</td>\n",
              "      <td>September</td>\n",
              "      <td>508</td>\n",
              "    </tr>\n",
              "    <tr>\n",
              "      <th>141</th>\n",
              "      <td>1960</td>\n",
              "      <td>October</td>\n",
              "      <td>461</td>\n",
              "    </tr>\n",
              "    <tr>\n",
              "      <th>142</th>\n",
              "      <td>1960</td>\n",
              "      <td>November</td>\n",
              "      <td>390</td>\n",
              "    </tr>\n",
              "    <tr>\n",
              "      <th>143</th>\n",
              "      <td>1960</td>\n",
              "      <td>December</td>\n",
              "      <td>432</td>\n",
              "    </tr>\n",
              "  </tbody>\n",
              "</table>\n",
              "<p>144 rows × 3 columns</p>\n",
              "</div>"
            ],
            "text/plain": [
              "     year      month  passengers\n",
              "0    1949    January         112\n",
              "1    1949   February         118\n",
              "2    1949      March         132\n",
              "3    1949      April         129\n",
              "4    1949        May         121\n",
              "..    ...        ...         ...\n",
              "139  1960     August         606\n",
              "140  1960  September         508\n",
              "141  1960    October         461\n",
              "142  1960   November         390\n",
              "143  1960   December         432\n",
              "\n",
              "[144 rows x 3 columns]"
            ]
          },
          "execution_count": 85,
          "metadata": {},
          "output_type": "execute_result"
        }
      ],
      "source": [
        "flights"
      ]
    },
    {
      "cell_type": "code",
      "execution_count": null,
      "metadata": {
        "id": "Cli2ZLzKHuu5",
        "outputId": "9ec4a717-514c-40a3-a624-b4600cb0abff"
      },
      "outputs": [
        {
          "data": {
            "text/plain": [
              "<seaborn.matrix.ClusterGrid at 0x2a9234173d0>"
            ]
          },
          "execution_count": 88,
          "metadata": {},
          "output_type": "execute_result"
        },
        {
          "data": {
            "image/png": "[encoded data removed]",
            "text/plain": [
              "<Figure size 720x720 with 4 Axes>"
            ]
          },
          "metadata": {
            "needs_background": "light"
          },
          "output_type": "display_data"
        }
      ],
      "source": [
        "sns.clustermap(flights.pivot_table(values='passengers',index='month',columns='year'))"
      ]
    },
    {
      "cell_type": "code",
      "execution_count": null,
      "metadata": {
        "id": "y5jUrOAIHuu6"
      },
      "outputs": [],
      "source": [
        "#22"
      ]
    },
    {
      "cell_type": "code",
      "source": [],
      "metadata": {
        "id": "AQHysqBAIopq"
      },
      "execution_count": null,
      "outputs": []
    },
    {
      "cell_type": "code",
      "execution_count": null,
      "metadata": {
        "id": "sLWhhTeBHvAq"
      },
      "outputs": [],
      "source": [
        "import pandas as pd"
      ]
    },
    {
      "cell_type": "code",
      "execution_count": null,
      "metadata": {
        "id": "b63SgiBsHvAs"
      },
      "outputs": [],
      "source": [
        "df = pd.read_csv('train.csv')"
      ]
    },
    {
      "cell_type": "code",
      "execution_count": null,
      "metadata": {
        "id": "q2y9qmR0HvAt",
        "outputId": "90a8e455-f84d-4eea-d8b3-e5d15409d75d"
      },
      "outputs": [
        {
          "data": {
            "text/html": [
              "<div>\n",
              "<style scoped>\n",
              "    .dataframe tbody tr th:only-of-type {\n",
              "        vertical-align: middle;\n",
              "    }\n",
              "\n",
              "    .dataframe tbody tr th {\n",
              "        vertical-align: top;\n",
              "    }\n",
              "\n",
              "    .dataframe thead th {\n",
              "        text-align: right;\n",
              "    }\n",
              "</style>\n",
              "<table border=\"1\" class=\"dataframe\">\n",
              "  <thead>\n",
              "    <tr style=\"text-align: right;\">\n",
              "      <th></th>\n",
              "      <th>PassengerId</th>\n",
              "      <th>Survived</th>\n",
              "      <th>Pclass</th>\n",
              "      <th>Name</th>\n",
              "      <th>Sex</th>\n",
              "      <th>Age</th>\n",
              "      <th>SibSp</th>\n",
              "      <th>Parch</th>\n",
              "      <th>Ticket</th>\n",
              "      <th>Fare</th>\n",
              "      <th>Cabin</th>\n",
              "      <th>Embarked</th>\n",
              "    </tr>\n",
              "  </thead>\n",
              "  <tbody>\n",
              "    <tr>\n",
              "      <th>0</th>\n",
              "      <td>1</td>\n",
              "      <td>0</td>\n",
              "      <td>3</td>\n",
              "      <td>Braund, Mr. Owen Harris</td>\n",
              "      <td>male</td>\n",
              "      <td>22.0</td>\n",
              "      <td>1</td>\n",
              "      <td>0</td>\n",
              "      <td>A/5 21171</td>\n",
              "      <td>7.2500</td>\n",
              "      <td>NaN</td>\n",
              "      <td>S</td>\n",
              "    </tr>\n",
              "    <tr>\n",
              "      <th>1</th>\n",
              "      <td>2</td>\n",
              "      <td>1</td>\n",
              "      <td>1</td>\n",
              "      <td>Cumings, Mrs. John Bradley (Florence Briggs Th...</td>\n",
              "      <td>female</td>\n",
              "      <td>38.0</td>\n",
              "      <td>1</td>\n",
              "      <td>0</td>\n",
              "      <td>PC 17599</td>\n",
              "      <td>71.2833</td>\n",
              "      <td>C85</td>\n",
              "      <td>C</td>\n",
              "    </tr>\n",
              "    <tr>\n",
              "      <th>2</th>\n",
              "      <td>3</td>\n",
              "      <td>1</td>\n",
              "      <td>3</td>\n",
              "      <td>Heikkinen, Miss. Laina</td>\n",
              "      <td>female</td>\n",
              "      <td>26.0</td>\n",
              "      <td>0</td>\n",
              "      <td>0</td>\n",
              "      <td>STON/O2. 3101282</td>\n",
              "      <td>7.9250</td>\n",
              "      <td>NaN</td>\n",
              "      <td>S</td>\n",
              "    </tr>\n",
              "    <tr>\n",
              "      <th>3</th>\n",
              "      <td>4</td>\n",
              "      <td>1</td>\n",
              "      <td>1</td>\n",
              "      <td>Futrelle, Mrs. Jacques Heath (Lily May Peel)</td>\n",
              "      <td>female</td>\n",
              "      <td>35.0</td>\n",
              "      <td>1</td>\n",
              "      <td>0</td>\n",
              "      <td>113803</td>\n",
              "      <td>53.1000</td>\n",
              "      <td>C123</td>\n",
              "      <td>S</td>\n",
              "    </tr>\n",
              "    <tr>\n",
              "      <th>4</th>\n",
              "      <td>5</td>\n",
              "      <td>0</td>\n",
              "      <td>3</td>\n",
              "      <td>Allen, Mr. William Henry</td>\n",
              "      <td>male</td>\n",
              "      <td>35.0</td>\n",
              "      <td>0</td>\n",
              "      <td>0</td>\n",
              "      <td>373450</td>\n",
              "      <td>8.0500</td>\n",
              "      <td>NaN</td>\n",
              "      <td>S</td>\n",
              "    </tr>\n",
              "  </tbody>\n",
              "</table>\n",
              "</div>"
            ],
            "text/plain": [
              "   PassengerId  Survived  Pclass  \\\n",
              "0            1         0       3   \n",
              "1            2         1       1   \n",
              "2            3         1       3   \n",
              "3            4         1       1   \n",
              "4            5         0       3   \n",
              "\n",
              "                                                Name     Sex   Age  SibSp  \\\n",
              "0                            Braund, Mr. Owen Harris    male  22.0      1   \n",
              "1  Cumings, Mrs. John Bradley (Florence Briggs Th...  female  38.0      1   \n",
              "2                             Heikkinen, Miss. Laina  female  26.0      0   \n",
              "3       Futrelle, Mrs. Jacques Heath (Lily May Peel)  female  35.0      1   \n",
              "4                           Allen, Mr. William Henry    male  35.0      0   \n",
              "\n",
              "   Parch            Ticket     Fare Cabin Embarked  \n",
              "0      0         A/5 21171   7.2500   NaN        S  \n",
              "1      0          PC 17599  71.2833   C85        C  \n",
              "2      0  STON/O2. 3101282   7.9250   NaN        S  \n",
              "3      0            113803  53.1000  C123        S  \n",
              "4      0            373450   8.0500   NaN        S  "
            ]
          },
          "execution_count": 5,
          "metadata": {},
          "output_type": "execute_result"
        }
      ],
      "source": [
        "df.head()"
      ]
    },
    {
      "cell_type": "code",
      "execution_count": null,
      "metadata": {
        "id": "d6CkmoFIHvAx",
        "outputId": "6f3abae2-6e0e-4fd2-b34c-51805fab4c19"
      },
      "outputs": [
        {
          "name": "stdout",
          "output_type": "stream",
          "text": [
            "Requirement already satisfied: pandas-profiling in c:\\users\\91842\\anaconda3\\lib\\site-packages (2.11.0)\n",
            "Requirement already satisfied: seaborn>=0.10.1 in c:\\users\\91842\\anaconda3\\lib\\site-packages (from pandas-profiling) (0.10.1)\n",
            "Requirement already satisfied: tqdm>=4.48.2 in c:\\users\\91842\\anaconda3\\lib\\site-packages (from pandas-profiling) (4.59.0)\n",
            "Requirement already satisfied: scipy>=1.4.1 in c:\\users\\91842\\anaconda3\\lib\\site-packages (from pandas-profiling) (1.5.0)\n",
            "Requirement already satisfied: htmlmin>=0.1.12 in c:\\users\\91842\\anaconda3\\lib\\site-packages (from pandas-profiling) (0.1.12)\n",
            "Requirement already satisfied: tangled-up-in-unicode>=0.0.6 in c:\\users\\91842\\anaconda3\\lib\\site-packages (from pandas-profiling) (0.0.7)\n",
            "Requirement already satisfied: missingno>=0.4.2 in c:\\users\\91842\\anaconda3\\lib\\site-packages (from pandas-profiling) (0.4.2)\n",
            "Requirement already satisfied: pandas!=1.0.0,!=1.0.1,!=1.0.2,!=1.1.0,>=0.25.3 in c:\\users\\91842\\anaconda3\\lib\\site-packages (from pandas-profiling) (1.0.5)\n",
            "Requirement already satisfied: confuse>=1.0.0 in c:\\users\\91842\\anaconda3\\lib\\site-packages (from pandas-profiling) (1.4.0)\n",
            "Requirement already satisfied: jinja2>=2.11.1 in c:\\users\\91842\\anaconda3\\lib\\site-packages (from pandas-profiling) (2.11.2)\n",
            "Requirement already satisfied: attrs>=19.3.0 in c:\\users\\91842\\anaconda3\\lib\\site-packages (from pandas-profiling) (19.3.0)\n",
            "Requirement already satisfied: phik>=0.10.0 in c:\\users\\91842\\anaconda3\\lib\\site-packages (from pandas-profiling) (0.11.2)\n",
            "Requirement already satisfied: visions[type_image_path]==0.6.0 in c:\\users\\91842\\anaconda3\\lib\\site-packages (from pandas-profiling) (0.6.0)\n",
            "Requirement already satisfied: requests>=2.24.0 in c:\\users\\91842\\anaconda3\\lib\\site-packages (from pandas-profiling) (2.24.0)\n",
            "Requirement already satisfied: numpy>=1.16.0 in c:\\users\\91842\\anaconda3\\lib\\site-packages (from pandas-profiling) (1.18.5)\n",
            "Requirement already satisfied: ipywidgets>=7.5.1 in c:\\users\\91842\\anaconda3\\lib\\site-packages (from pandas-profiling) (7.5.1)\n",
            "Requirement already satisfied: joblib in c:\\users\\91842\\anaconda3\\lib\\site-packages (from pandas-profiling) (0.16.0)\n",
            "Requirement already satisfied: matplotlib>=3.2.0 in c:\\users\\91842\\anaconda3\\lib\\site-packages (from pandas-profiling) (3.2.2)\n",
            "Requirement already satisfied: python-dateutil>=2.6.1 in c:\\users\\91842\\anaconda3\\lib\\site-packages (from pandas!=1.0.0,!=1.0.1,!=1.0.2,!=1.1.0,>=0.25.3->pandas-profiling) (2.8.1)\n",
            "Requirement already satisfied: pytz>=2017.2 in c:\\users\\91842\\anaconda3\\lib\\site-packages (from pandas!=1.0.0,!=1.0.1,!=1.0.2,!=1.1.0,>=0.25.3->pandas-profiling) (2020.1)\n",
            "Requirement already satisfied: pyyaml in c:\\users\\91842\\anaconda3\\lib\\site-packages (from confuse>=1.0.0->pandas-profiling) (5.3.1)\n",
            "Requirement already satisfied: MarkupSafe>=0.23 in c:\\users\\91842\\anaconda3\\lib\\site-packages (from jinja2>=2.11.1->pandas-profiling) (1.1.1)\n",
            "Requirement already satisfied: networkx>=2.4 in c:\\users\\91842\\anaconda3\\lib\\site-packages (from visions[type_image_path]==0.6.0->pandas-profiling) (2.4)\n",
            "Requirement already satisfied: imagehash; extra == \"type_image_path\" in c:\\users\\91842\\anaconda3\\lib\\site-packages (from visions[type_image_path]==0.6.0->pandas-profiling) (4.2.0)\n",
            "Requirement already satisfied: Pillow; extra == \"type_image_path\" in c:\\users\\91842\\anaconda3\\lib\\site-packages (from visions[type_image_path]==0.6.0->pandas-profiling) (7.2.0)\n",
            "Requirement already satisfied: chardet<4,>=3.0.2 in c:\\users\\91842\\anaconda3\\lib\\site-packages (from requests>=2.24.0->pandas-profiling) (3.0.4)\n",
            "Requirement already satisfied: urllib3!=1.25.0,!=1.25.1,<1.26,>=1.21.1 in c:\\users\\91842\\anaconda3\\lib\\site-packages (from requests>=2.24.0->pandas-profiling) (1.25.9)\n",
            "Requirement already satisfied: certifi>=2017.4.17 in c:\\users\\91842\\anaconda3\\lib\\site-packages (from requests>=2.24.0->pandas-profiling) (2020.6.20)\n",
            "Requirement already satisfied: idna<3,>=2.5 in c:\\users\\91842\\anaconda3\\lib\\site-packages (from requests>=2.24.0->pandas-profiling) (2.10)\n",
            "Requirement already satisfied: nbformat>=4.2.0 in c:\\users\\91842\\anaconda3\\lib\\site-packages (from ipywidgets>=7.5.1->pandas-profiling) (5.0.7)\n",
            "Requirement already satisfied: widgetsnbextension~=3.5.0 in c:\\users\\91842\\anaconda3\\lib\\site-packages (from ipywidgets>=7.5.1->pandas-profiling) (3.5.1)\n",
            "Requirement already satisfied: ipython>=4.0.0; python_version >= \"3.3\" in c:\\users\\91842\\anaconda3\\lib\\site-packages (from ipywidgets>=7.5.1->pandas-profiling) (7.16.1)\n",
            "Requirement already satisfied: ipykernel>=4.5.1 in c:\\users\\91842\\anaconda3\\lib\\site-packages (from ipywidgets>=7.5.1->pandas-profiling) (5.3.2)\n",
            "Requirement already satisfied: traitlets>=4.3.1 in c:\\users\\91842\\anaconda3\\lib\\site-packages (from ipywidgets>=7.5.1->pandas-profiling) (4.3.3)\n",
            "Requirement already satisfied: cycler>=0.10 in c:\\users\\91842\\anaconda3\\lib\\site-packages (from matplotlib>=3.2.0->pandas-profiling) (0.10.0)\n",
            "Requirement already satisfied: pyparsing!=2.0.4,!=2.1.2,!=2.1.6,>=2.0.1 in c:\\users\\91842\\anaconda3\\lib\\site-packages (from matplotlib>=3.2.0->pandas-profiling) (2.4.7)\n",
            "Requirement already satisfied: kiwisolver>=1.0.1 in c:\\users\\91842\\anaconda3\\lib\\site-packages (from matplotlib>=3.2.0->pandas-profiling) (1.2.0)\n",
            "Requirement already satisfied: six>=1.5 in c:\\users\\91842\\anaconda3\\lib\\site-packages (from python-dateutil>=2.6.1->pandas!=1.0.0,!=1.0.1,!=1.0.2,!=1.1.0,>=0.25.3->pandas-profiling) (1.15.0)\n",
            "Requirement already satisfied: decorator>=4.3.0 in c:\\users\\91842\\anaconda3\\lib\\site-packages (from networkx>=2.4->visions[type_image_path]==0.6.0->pandas-profiling) (4.4.2)\n",
            "Requirement already satisfied: PyWavelets in c:\\users\\91842\\anaconda3\\lib\\site-packages (from imagehash; extra == \"type_image_path\"->visions[type_image_path]==0.6.0->pandas-profiling) (1.1.1)\n",
            "Requirement already satisfied: jupyter-core in c:\\users\\91842\\anaconda3\\lib\\site-packages (from nbformat>=4.2.0->ipywidgets>=7.5.1->pandas-profiling) (4.6.3)\n",
            "Requirement already satisfied: jsonschema!=2.5.0,>=2.4 in c:\\users\\91842\\anaconda3\\lib\\site-packages (from nbformat>=4.2.0->ipywidgets>=7.5.1->pandas-profiling) (3.2.0)\n",
            "Requirement already satisfied: ipython-genutils in c:\\users\\91842\\anaconda3\\lib\\site-packages (from nbformat>=4.2.0->ipywidgets>=7.5.1->pandas-profiling) (0.2.0)\n",
            "Requirement already satisfied: notebook>=4.4.1 in c:\\users\\91842\\anaconda3\\lib\\site-packages (from widgetsnbextension~=3.5.0->ipywidgets>=7.5.1->pandas-profiling) (6.0.3)\n",
            "Requirement already satisfied: setuptools>=18.5 in c:\\users\\91842\\anaconda3\\lib\\site-packages (from ipython>=4.0.0; python_version >= \"3.3\"->ipywidgets>=7.5.1->pandas-profiling) (49.2.0.post20200714)\n",
            "Requirement already satisfied: pygments in c:\\users\\91842\\anaconda3\\lib\\site-packages (from ipython>=4.0.0; python_version >= \"3.3\"->ipywidgets>=7.5.1->pandas-profiling) (2.6.1)\n",
            "Requirement already satisfied: prompt-toolkit!=3.0.0,!=3.0.1,<3.1.0,>=2.0.0 in c:\\users\\91842\\anaconda3\\lib\\site-packages (from ipython>=4.0.0; python_version >= \"3.3\"->ipywidgets>=7.5.1->pandas-profiling) (3.0.5)\n",
            "Requirement already satisfied: jedi>=0.10 in c:\\users\\91842\\anaconda3\\lib\\site-packages (from ipython>=4.0.0; python_version >= \"3.3\"->ipywidgets>=7.5.1->pandas-profiling) (0.17.1)\n",
            "Requirement already satisfied: pickleshare in c:\\users\\91842\\anaconda3\\lib\\site-packages (from ipython>=4.0.0; python_version >= \"3.3\"->ipywidgets>=7.5.1->pandas-profiling) (0.7.5)\n",
            "Requirement already satisfied: backcall in c:\\users\\91842\\anaconda3\\lib\\site-packages (from ipython>=4.0.0; python_version >= \"3.3\"->ipywidgets>=7.5.1->pandas-profiling) (0.2.0)\n",
            "Requirement already satisfied: colorama; sys_platform == \"win32\" in c:\\users\\91842\\anaconda3\\lib\\site-packages (from ipython>=4.0.0; python_version >= \"3.3\"->ipywidgets>=7.5.1->pandas-profiling) (0.4.3)\n",
            "Requirement already satisfied: jupyter-client in c:\\users\\91842\\anaconda3\\lib\\site-packages (from ipykernel>=4.5.1->ipywidgets>=7.5.1->pandas-profiling) (6.1.6)\n",
            "Requirement already satisfied: tornado>=4.2 in c:\\users\\91842\\anaconda3\\lib\\site-packages (from ipykernel>=4.5.1->ipywidgets>=7.5.1->pandas-profiling) (6.0.4)\n",
            "Requirement already satisfied: pywin32>=1.0; sys_platform == \"win32\" in c:\\users\\91842\\anaconda3\\lib\\site-packages (from jupyter-core->nbformat>=4.2.0->ipywidgets>=7.5.1->pandas-profiling) (227)\n",
            "Requirement already satisfied: pyrsistent>=0.14.0 in c:\\users\\91842\\anaconda3\\lib\\site-packages (from jsonschema!=2.5.0,>=2.4->nbformat>=4.2.0->ipywidgets>=7.5.1->pandas-profiling) (0.16.0)\n",
            "Requirement already satisfied: Send2Trash in c:\\users\\91842\\anaconda3\\lib\\site-packages (from notebook>=4.4.1->widgetsnbextension~=3.5.0->ipywidgets>=7.5.1->pandas-profiling) (1.5.0)\n",
            "Requirement already satisfied: terminado>=0.8.1 in c:\\users\\91842\\anaconda3\\lib\\site-packages (from notebook>=4.4.1->widgetsnbextension~=3.5.0->ipywidgets>=7.5.1->pandas-profiling) (0.8.3)\n",
            "Requirement already satisfied: pyzmq>=17 in c:\\users\\91842\\anaconda3\\lib\\site-packages (from notebook>=4.4.1->widgetsnbextension~=3.5.0->ipywidgets>=7.5.1->pandas-profiling) (19.0.1)\n",
            "Requirement already satisfied: nbconvert in c:\\users\\91842\\anaconda3\\lib\\site-packages (from notebook>=4.4.1->widgetsnbextension~=3.5.0->ipywidgets>=7.5.1->pandas-profiling) (5.6.1)\n",
            "Requirement already satisfied: prometheus-client in c:\\users\\91842\\anaconda3\\lib\\site-packages (from notebook>=4.4.1->widgetsnbextension~=3.5.0->ipywidgets>=7.5.1->pandas-profiling) (0.8.0)\n",
            "Requirement already satisfied: wcwidth in c:\\users\\91842\\anaconda3\\lib\\site-packages (from prompt-toolkit!=3.0.0,!=3.0.1,<3.1.0,>=2.0.0->ipython>=4.0.0; python_version >= \"3.3\"->ipywidgets>=7.5.1->pandas-profiling) (0.2.5)\n",
            "Requirement already satisfied: parso<0.8.0,>=0.7.0 in c:\\users\\91842\\anaconda3\\lib\\site-packages (from jedi>=0.10->ipython>=4.0.0; python_version >= \"3.3\"->ipywidgets>=7.5.1->pandas-profiling) (0.7.0)\n",
            "Requirement already satisfied: pandocfilters>=1.4.1 in c:\\users\\91842\\anaconda3\\lib\\site-packages (from nbconvert->notebook>=4.4.1->widgetsnbextension~=3.5.0->ipywidgets>=7.5.1->pandas-profiling) (1.4.2)\n",
            "Requirement already satisfied: defusedxml in c:\\users\\91842\\anaconda3\\lib\\site-packages (from nbconvert->notebook>=4.4.1->widgetsnbextension~=3.5.0->ipywidgets>=7.5.1->pandas-profiling) (0.6.0)\n",
            "Requirement already satisfied: bleach in c:\\users\\91842\\anaconda3\\lib\\site-packages (from nbconvert->notebook>=4.4.1->widgetsnbextension~=3.5.0->ipywidgets>=7.5.1->pandas-profiling) (3.1.5)\n",
            "Requirement already satisfied: entrypoints>=0.2.2 in c:\\users\\91842\\anaconda3\\lib\\site-packages (from nbconvert->notebook>=4.4.1->widgetsnbextension~=3.5.0->ipywidgets>=7.5.1->pandas-profiling) (0.3)\n",
            "Requirement already satisfied: mistune<2,>=0.8.1 in c:\\users\\91842\\anaconda3\\lib\\site-packages (from nbconvert->notebook>=4.4.1->widgetsnbextension~=3.5.0->ipywidgets>=7.5.1->pandas-profiling) (0.8.4)\n",
            "Requirement already satisfied: testpath in c:\\users\\91842\\anaconda3\\lib\\site-packages (from nbconvert->notebook>=4.4.1->widgetsnbextension~=3.5.0->ipywidgets>=7.5.1->pandas-profiling) (0.4.4)\n",
            "Requirement already satisfied: webencodings in c:\\users\\91842\\anaconda3\\lib\\site-packages (from bleach->nbconvert->notebook>=4.4.1->widgetsnbextension~=3.5.0->ipywidgets>=7.5.1->pandas-profiling) (0.5.1)\n",
            "Requirement already satisfied: packaging in c:\\users\\91842\\anaconda3\\lib\\site-packages (from bleach->nbconvert->notebook>=4.4.1->widgetsnbextension~=3.5.0->ipywidgets>=7.5.1->pandas-profiling) (20.4)\n"
          ]
        }
      ],
      "source": [
        "!pip install pandas-profiling"
      ]
    },
    {
      "cell_type": "code",
      "execution_count": null,
      "metadata": {
        "id": "bfF4zwNPHvAy",
        "outputId": "04cfd986-2dc0-42c5-9246-07d1282e0190",
        "colab": {
          "referenced_widgets": [
            "34d4efd759914a83b5d32f9ba9822793",
            "b055bd44fb4a467cac2544e38885562e",
            "56f3d02c622a4d3b9037ac72efa05d10",
            "e97b27670e804370a567917a26c1e1b1"
          ]
        }
      },
      "outputs": [
        {
          "data": {
            "application/vnd.jupyter.widget-view+json": {
              "model_id": "34d4efd759914a83b5d32f9ba9822793",
              "version_major": 2,
              "version_minor": 0
            },
            "text/plain": [
              "Summarize dataset:   0%|          | 0/25 [00:00<?, ?it/s]"
            ]
          },
          "metadata": {},
          "output_type": "display_data"
        },
        {
          "data": {
            "application/vnd.jupyter.widget-view+json": {
              "model_id": "b055bd44fb4a467cac2544e38885562e",
              "version_major": 2,
              "version_minor": 0
            },
            "text/plain": [
              "Generate report structure:   0%|          | 0/1 [00:00<?, ?it/s]"
            ]
          },
          "metadata": {},
          "output_type": "display_data"
        },
        {
          "data": {
            "application/vnd.jupyter.widget-view+json": {
              "model_id": "56f3d02c622a4d3b9037ac72efa05d10",
              "version_major": 2,
              "version_minor": 0
            },
            "text/plain": [
              "Render HTML:   0%|          | 0/1 [00:00<?, ?it/s]"
            ]
          },
          "metadata": {},
          "output_type": "display_data"
        },
        {
          "data": {
            "application/vnd.jupyter.widget-view+json": {
              "model_id": "e97b27670e804370a567917a26c1e1b1",
              "version_major": 2,
              "version_minor": 0
            },
            "text/plain": [
              "Export report to file:   0%|          | 0/1 [00:00<?, ?it/s]"
            ]
          },
          "metadata": {},
          "output_type": "display_data"
        }
      ],
      "source": [
        "from pandas_profiling import ProfileReport\n",
        "prof = ProfileReport(df)\n",
        "prof.to_file(output_file='output.html')"
      ]
    },
    {
      "cell_type": "code",
      "execution_count": null,
      "metadata": {
        "id": "7qs0X77xHvAz"
      },
      "outputs": [],
      "source": []
    },
    {
      "cell_type": "code",
      "execution_count": null,
      "metadata": {
        "_cell_guid": "b1076dfc-b9ad-4769-8c92-a6c4dae69d19",
        "_uuid": "8f2839f25d086af736a60e9eeb907d3b93b6e0e5",
        "id": "timIpC1LHv_w"
      },
      "outputs": [],
      "source": [
        "import numpy as np # linear algebra\n",
        "import pandas as pd # data processing\n",
        "import matplotlib.pyplot as plt\n",
        "import seaborn as sns"
      ]
    },
    {
      "cell_type": "code",
      "execution_count": null,
      "metadata": {
        "id": "UQgjT0PrHv_z"
      },
      "outputs": [],
      "source": [
        "df = pd.read_csv('Social_Network_Ads.csv')"
      ]
    },
    {
      "cell_type": "code",
      "execution_count": null,
      "metadata": {
        "id": "czv4iWRbHv_0"
      },
      "outputs": [],
      "source": [
        "df=df.iloc[:,2:]"
      ]
    },
    {
      "cell_type": "code",
      "execution_count": null,
      "metadata": {
        "id": "YcsV-4ZdHv_2",
        "outputId": "94ee74c5-98c0-4661-fffb-a2c32d56747f"
      },
      "outputs": [
        {
          "data": {
            "text/html": [
              "<div>\n",
              "<style scoped>\n",
              "    .dataframe tbody tr th:only-of-type {\n",
              "        vertical-align: middle;\n",
              "    }\n",
              "\n",
              "    .dataframe tbody tr th {\n",
              "        vertical-align: top;\n",
              "    }\n",
              "\n",
              "    .dataframe thead th {\n",
              "        text-align: right;\n",
              "    }\n",
              "</style>\n",
              "<table border=\"1\" class=\"dataframe\">\n",
              "  <thead>\n",
              "    <tr style=\"text-align: right;\">\n",
              "      <th></th>\n",
              "      <th>Age</th>\n",
              "      <th>EstimatedSalary</th>\n",
              "      <th>Purchased</th>\n",
              "    </tr>\n",
              "  </thead>\n",
              "  <tbody>\n",
              "    <tr>\n",
              "      <th>137</th>\n",
              "      <td>30</td>\n",
              "      <td>107000</td>\n",
              "      <td>1</td>\n",
              "    </tr>\n",
              "    <tr>\n",
              "      <th>251</th>\n",
              "      <td>37</td>\n",
              "      <td>52000</td>\n",
              "      <td>0</td>\n",
              "    </tr>\n",
              "    <tr>\n",
              "      <th>262</th>\n",
              "      <td>55</td>\n",
              "      <td>125000</td>\n",
              "      <td>1</td>\n",
              "    </tr>\n",
              "    <tr>\n",
              "      <th>144</th>\n",
              "      <td>34</td>\n",
              "      <td>25000</td>\n",
              "      <td>0</td>\n",
              "    </tr>\n",
              "    <tr>\n",
              "      <th>292</th>\n",
              "      <td>55</td>\n",
              "      <td>39000</td>\n",
              "      <td>1</td>\n",
              "    </tr>\n",
              "  </tbody>\n",
              "</table>\n",
              "</div>"
            ],
            "text/plain": [
              "     Age  EstimatedSalary  Purchased\n",
              "137   30           107000          1\n",
              "251   37            52000          0\n",
              "262   55           125000          1\n",
              "144   34            25000          0\n",
              "292   55            39000          1"
            ]
          },
          "execution_count": 45,
          "metadata": {},
          "output_type": "execute_result"
        }
      ],
      "source": [
        "df.sample(5)"
      ]
    },
    {
      "cell_type": "markdown",
      "metadata": {
        "id": "5s6kF3xSHv_4"
      },
      "source": [
        "## Train test split"
      ]
    },
    {
      "cell_type": "code",
      "execution_count": null,
      "metadata": {
        "id": "Qn9Rxa7KHv_5",
        "outputId": "ed5fd10a-dee6-40a8-8b9e-d416d99a41ad"
      },
      "outputs": [
        {
          "data": {
            "text/plain": [
              "((280, 2), (120, 2))"
            ]
          },
          "execution_count": 46,
          "metadata": {},
          "output_type": "execute_result"
        }
      ],
      "source": [
        "from sklearn.model_selection import train_test_split\n",
        "X_train, X_test, y_train, y_test = train_test_split(df.drop('Purchased', axis=1),\n",
        "                                                    df['Purchased'],\n",
        "                                                    test_size=0.3,\n",
        "                                                    random_state=0)\n",
        "\n",
        "X_train.shape, X_test.shape"
      ]
    },
    {
      "cell_type": "markdown",
      "metadata": {
        "id": "yDkrGqYPHv_7"
      },
      "source": [
        "# StandardScaler"
      ]
    },
    {
      "cell_type": "code",
      "execution_count": null,
      "metadata": {
        "id": "g9sholQWHv_8"
      },
      "outputs": [],
      "source": [
        "from sklearn.preprocessing import StandardScaler\n",
        "\n",
        "scaler = StandardScaler()\n",
        "\n",
        "# fit the scaler to the train set, it will learn the parameters\n",
        "scaler.fit(X_train)\n",
        "\n",
        "# transform train and test sets\n",
        "X_train_scaled = scaler.transform(X_train)\n",
        "X_test_scaled = scaler.transform(X_test)"
      ]
    },
    {
      "cell_type": "code",
      "execution_count": null,
      "metadata": {
        "id": "JmcJvNT7Hv_9",
        "outputId": "a453cbe7-7cd4-4a9f-a1bd-ff2e2113bde1"
      },
      "outputs": [
        {
          "data": {
            "text/plain": [
              "array([3.78642857e+01, 6.98071429e+04])"
            ]
          },
          "execution_count": 48,
          "metadata": {},
          "output_type": "execute_result"
        }
      ],
      "source": [
        "scaler.mean_"
      ]
    },
    {
      "cell_type": "code",
      "execution_count": null,
      "metadata": {
        "id": "1XEpaiINHv__",
        "outputId": "c6622d98-d777-457d-bc54-dda89f813a8f"
      },
      "outputs": [
        {
          "data": {
            "text/html": [
              "<div>\n",
              "<style scoped>\n",
              "    .dataframe tbody tr th:only-of-type {\n",
              "        vertical-align: middle;\n",
              "    }\n",
              "\n",
              "    .dataframe tbody tr th {\n",
              "        vertical-align: top;\n",
              "    }\n",
              "\n",
              "    .dataframe thead th {\n",
              "        text-align: right;\n",
              "    }\n",
              "</style>\n",
              "<table border=\"1\" class=\"dataframe\">\n",
              "  <thead>\n",
              "    <tr style=\"text-align: right;\">\n",
              "      <th></th>\n",
              "      <th>Age</th>\n",
              "      <th>EstimatedSalary</th>\n",
              "    </tr>\n",
              "  </thead>\n",
              "  <tbody>\n",
              "    <tr>\n",
              "      <th>92</th>\n",
              "      <td>26</td>\n",
              "      <td>15000</td>\n",
              "    </tr>\n",
              "    <tr>\n",
              "      <th>223</th>\n",
              "      <td>60</td>\n",
              "      <td>102000</td>\n",
              "    </tr>\n",
              "    <tr>\n",
              "      <th>234</th>\n",
              "      <td>38</td>\n",
              "      <td>112000</td>\n",
              "    </tr>\n",
              "    <tr>\n",
              "      <th>232</th>\n",
              "      <td>40</td>\n",
              "      <td>107000</td>\n",
              "    </tr>\n",
              "    <tr>\n",
              "      <th>377</th>\n",
              "      <td>42</td>\n",
              "      <td>53000</td>\n",
              "    </tr>\n",
              "    <tr>\n",
              "      <th>...</th>\n",
              "      <td>...</td>\n",
              "      <td>...</td>\n",
              "    </tr>\n",
              "    <tr>\n",
              "      <th>323</th>\n",
              "      <td>48</td>\n",
              "      <td>30000</td>\n",
              "    </tr>\n",
              "    <tr>\n",
              "      <th>192</th>\n",
              "      <td>29</td>\n",
              "      <td>43000</td>\n",
              "    </tr>\n",
              "    <tr>\n",
              "      <th>117</th>\n",
              "      <td>36</td>\n",
              "      <td>52000</td>\n",
              "    </tr>\n",
              "    <tr>\n",
              "      <th>47</th>\n",
              "      <td>27</td>\n",
              "      <td>54000</td>\n",
              "    </tr>\n",
              "    <tr>\n",
              "      <th>172</th>\n",
              "      <td>26</td>\n",
              "      <td>118000</td>\n",
              "    </tr>\n",
              "  </tbody>\n",
              "</table>\n",
              "<p>280 rows × 2 columns</p>\n",
              "</div>"
            ],
            "text/plain": [
              "     Age  EstimatedSalary\n",
              "92    26            15000\n",
              "223   60           102000\n",
              "234   38           112000\n",
              "232   40           107000\n",
              "377   42            53000\n",
              "..   ...              ...\n",
              "323   48            30000\n",
              "192   29            43000\n",
              "117   36            52000\n",
              "47    27            54000\n",
              "172   26           118000\n",
              "\n",
              "[280 rows x 2 columns]"
            ]
          },
          "execution_count": 49,
          "metadata": {},
          "output_type": "execute_result"
        }
      ],
      "source": [
        "X_train"
      ]
    },
    {
      "cell_type": "code",
      "execution_count": null,
      "metadata": {
        "id": "inUegPciHwAA",
        "outputId": "331f5578-e3a0-4023-e684-927db75687fe"
      },
      "outputs": [
        {
          "data": {
            "text/html": [
              "<div>\n",
              "<style scoped>\n",
              "    .dataframe tbody tr th:only-of-type {\n",
              "        vertical-align: middle;\n",
              "    }\n",
              "\n",
              "    .dataframe tbody tr th {\n",
              "        vertical-align: top;\n",
              "    }\n",
              "\n",
              "    .dataframe thead th {\n",
              "        text-align: right;\n",
              "    }\n",
              "</style>\n",
              "<table border=\"1\" class=\"dataframe\">\n",
              "  <thead>\n",
              "    <tr style=\"text-align: right;\">\n",
              "      <th></th>\n",
              "      <th>Age</th>\n",
              "      <th>EstimatedSalary</th>\n",
              "    </tr>\n",
              "  </thead>\n",
              "  <tbody>\n",
              "    <tr>\n",
              "      <th>0</th>\n",
              "      <td>-1.163172</td>\n",
              "      <td>-1.584970</td>\n",
              "    </tr>\n",
              "    <tr>\n",
              "      <th>1</th>\n",
              "      <td>2.170181</td>\n",
              "      <td>0.930987</td>\n",
              "    </tr>\n",
              "    <tr>\n",
              "      <th>2</th>\n",
              "      <td>0.013305</td>\n",
              "      <td>1.220177</td>\n",
              "    </tr>\n",
              "    <tr>\n",
              "      <th>3</th>\n",
              "      <td>0.209385</td>\n",
              "      <td>1.075582</td>\n",
              "    </tr>\n",
              "    <tr>\n",
              "      <th>4</th>\n",
              "      <td>0.405465</td>\n",
              "      <td>-0.486047</td>\n",
              "    </tr>\n",
              "    <tr>\n",
              "      <th>...</th>\n",
              "      <td>...</td>\n",
              "      <td>...</td>\n",
              "    </tr>\n",
              "    <tr>\n",
              "      <th>275</th>\n",
              "      <td>0.993704</td>\n",
              "      <td>-1.151185</td>\n",
              "    </tr>\n",
              "    <tr>\n",
              "      <th>276</th>\n",
              "      <td>-0.869053</td>\n",
              "      <td>-0.775237</td>\n",
              "    </tr>\n",
              "    <tr>\n",
              "      <th>277</th>\n",
              "      <td>-0.182774</td>\n",
              "      <td>-0.514966</td>\n",
              "    </tr>\n",
              "    <tr>\n",
              "      <th>278</th>\n",
              "      <td>-1.065133</td>\n",
              "      <td>-0.457127</td>\n",
              "    </tr>\n",
              "    <tr>\n",
              "      <th>279</th>\n",
              "      <td>-1.163172</td>\n",
              "      <td>1.393691</td>\n",
              "    </tr>\n",
              "  </tbody>\n",
              "</table>\n",
              "<p>280 rows × 2 columns</p>\n",
              "</div>"
            ],
            "text/plain": [
              "          Age  EstimatedSalary\n",
              "0   -1.163172        -1.584970\n",
              "1    2.170181         0.930987\n",
              "2    0.013305         1.220177\n",
              "3    0.209385         1.075582\n",
              "4    0.405465        -0.486047\n",
              "..        ...              ...\n",
              "275  0.993704        -1.151185\n",
              "276 -0.869053        -0.775237\n",
              "277 -0.182774        -0.514966\n",
              "278 -1.065133        -0.457127\n",
              "279 -1.163172         1.393691\n",
              "\n",
              "[280 rows x 2 columns]"
            ]
          },
          "execution_count": 52,
          "metadata": {},
          "output_type": "execute_result"
        }
      ],
      "source": [
        "X_train_scaled"
      ]
    },
    {
      "cell_type": "code",
      "execution_count": null,
      "metadata": {
        "id": "nJthhOGLHwAA"
      },
      "outputs": [],
      "source": [
        "X_train_scaled = pd.DataFrame(X_train_scaled, columns=X_train.columns)\n",
        "X_test_scaled = pd.DataFrame(X_test_scaled, columns=X_test.columns)"
      ]
    },
    {
      "cell_type": "code",
      "execution_count": null,
      "metadata": {
        "id": "5O5CRDCuHwAB",
        "outputId": "2ac21433-02b3-41ab-c679-59406c460f0c"
      },
      "outputs": [
        {
          "data": {
            "text/html": [
              "<div>\n",
              "<style scoped>\n",
              "    .dataframe tbody tr th:only-of-type {\n",
              "        vertical-align: middle;\n",
              "    }\n",
              "\n",
              "    .dataframe tbody tr th {\n",
              "        vertical-align: top;\n",
              "    }\n",
              "\n",
              "    .dataframe thead th {\n",
              "        text-align: right;\n",
              "    }\n",
              "</style>\n",
              "<table border=\"1\" class=\"dataframe\">\n",
              "  <thead>\n",
              "    <tr style=\"text-align: right;\">\n",
              "      <th></th>\n",
              "      <th>Age</th>\n",
              "      <th>EstimatedSalary</th>\n",
              "    </tr>\n",
              "  </thead>\n",
              "  <tbody>\n",
              "    <tr>\n",
              "      <th>count</th>\n",
              "      <td>280.0</td>\n",
              "      <td>280.0</td>\n",
              "    </tr>\n",
              "    <tr>\n",
              "      <th>mean</th>\n",
              "      <td>37.9</td>\n",
              "      <td>69807.1</td>\n",
              "    </tr>\n",
              "    <tr>\n",
              "      <th>std</th>\n",
              "      <td>10.2</td>\n",
              "      <td>34641.2</td>\n",
              "    </tr>\n",
              "    <tr>\n",
              "      <th>min</th>\n",
              "      <td>18.0</td>\n",
              "      <td>15000.0</td>\n",
              "    </tr>\n",
              "    <tr>\n",
              "      <th>25%</th>\n",
              "      <td>30.0</td>\n",
              "      <td>43000.0</td>\n",
              "    </tr>\n",
              "    <tr>\n",
              "      <th>50%</th>\n",
              "      <td>37.0</td>\n",
              "      <td>70500.0</td>\n",
              "    </tr>\n",
              "    <tr>\n",
              "      <th>75%</th>\n",
              "      <td>46.0</td>\n",
              "      <td>88000.0</td>\n",
              "    </tr>\n",
              "    <tr>\n",
              "      <th>max</th>\n",
              "      <td>60.0</td>\n",
              "      <td>150000.0</td>\n",
              "    </tr>\n",
              "  </tbody>\n",
              "</table>\n",
              "</div>"
            ],
            "text/plain": [
              "         Age  EstimatedSalary\n",
              "count  280.0            280.0\n",
              "mean    37.9          69807.1\n",
              "std     10.2          34641.2\n",
              "min     18.0          15000.0\n",
              "25%     30.0          43000.0\n",
              "50%     37.0          70500.0\n",
              "75%     46.0          88000.0\n",
              "max     60.0         150000.0"
            ]
          },
          "execution_count": 9,
          "metadata": {},
          "output_type": "execute_result"
        }
      ],
      "source": [
        "np.round(X_train.describe(), 1)"
      ]
    },
    {
      "cell_type": "code",
      "execution_count": null,
      "metadata": {
        "id": "zWuxI4VtHwAC",
        "outputId": "9d613c75-5028-4a91-bb76-da118b017714"
      },
      "outputs": [
        {
          "data": {
            "text/html": [
              "<div>\n",
              "<style scoped>\n",
              "    .dataframe tbody tr th:only-of-type {\n",
              "        vertical-align: middle;\n",
              "    }\n",
              "\n",
              "    .dataframe tbody tr th {\n",
              "        vertical-align: top;\n",
              "    }\n",
              "\n",
              "    .dataframe thead th {\n",
              "        text-align: right;\n",
              "    }\n",
              "</style>\n",
              "<table border=\"1\" class=\"dataframe\">\n",
              "  <thead>\n",
              "    <tr style=\"text-align: right;\">\n",
              "      <th></th>\n",
              "      <th>Age</th>\n",
              "      <th>EstimatedSalary</th>\n",
              "    </tr>\n",
              "  </thead>\n",
              "  <tbody>\n",
              "    <tr>\n",
              "      <th>count</th>\n",
              "      <td>280.0</td>\n",
              "      <td>280.0</td>\n",
              "    </tr>\n",
              "    <tr>\n",
              "      <th>mean</th>\n",
              "      <td>0.0</td>\n",
              "      <td>0.0</td>\n",
              "    </tr>\n",
              "    <tr>\n",
              "      <th>std</th>\n",
              "      <td>1.0</td>\n",
              "      <td>1.0</td>\n",
              "    </tr>\n",
              "    <tr>\n",
              "      <th>min</th>\n",
              "      <td>-1.9</td>\n",
              "      <td>-1.6</td>\n",
              "    </tr>\n",
              "    <tr>\n",
              "      <th>25%</th>\n",
              "      <td>-0.8</td>\n",
              "      <td>-0.8</td>\n",
              "    </tr>\n",
              "    <tr>\n",
              "      <th>50%</th>\n",
              "      <td>-0.1</td>\n",
              "      <td>0.0</td>\n",
              "    </tr>\n",
              "    <tr>\n",
              "      <th>75%</th>\n",
              "      <td>0.8</td>\n",
              "      <td>0.5</td>\n",
              "    </tr>\n",
              "    <tr>\n",
              "      <th>max</th>\n",
              "      <td>2.2</td>\n",
              "      <td>2.3</td>\n",
              "    </tr>\n",
              "  </tbody>\n",
              "</table>\n",
              "</div>"
            ],
            "text/plain": [
              "         Age  EstimatedSalary\n",
              "count  280.0            280.0\n",
              "mean     0.0              0.0\n",
              "std      1.0              1.0\n",
              "min     -1.9             -1.6\n",
              "25%     -0.8             -0.8\n",
              "50%     -0.1              0.0\n",
              "75%      0.8              0.5\n",
              "max      2.2              2.3"
            ]
          },
          "execution_count": 10,
          "metadata": {},
          "output_type": "execute_result"
        }
      ],
      "source": [
        "np.round(X_train_scaled.describe(), 1)"
      ]
    },
    {
      "cell_type": "markdown",
      "metadata": {
        "id": "g4B-8m4GHwAC"
      },
      "source": [
        "# Effect of Scaling"
      ]
    },
    {
      "cell_type": "code",
      "execution_count": null,
      "metadata": {
        "id": "FxoxYCFUHwAD",
        "outputId": "4e2c15d7-8544-4662-ee69-86a8e503716f"
      },
      "outputs": [
        {
          "data": {
            "image/png": "[encoded data removed]",
            "text/plain": [
              "<Figure size 864x360 with 2 Axes>"
            ]
          },
          "metadata": {
            "needs_background": "light"
          },
          "output_type": "display_data"
        }
      ],
      "source": [
        "fig, (ax1, ax2) = plt.subplots(ncols=2, figsize=(12, 5))\n",
        "\n",
        "ax1.scatter(X_train['Age'], X_train['EstimatedSalary'])\n",
        "ax1.set_title(\"Before Scaling\")\n",
        "ax2.scatter(X_train_scaled['Age'], X_train_scaled['EstimatedSalary'],color='red')\n",
        "ax2.set_title(\"After Scaling\")\n",
        "plt.show()"
      ]
    },
    {
      "cell_type": "code",
      "execution_count": null,
      "metadata": {
        "id": "c_9i72cRHwAD",
        "outputId": "e65bf35d-31c9-451e-a8c0-5303e4d82c84"
      },
      "outputs": [
        {
          "data": {
            "image/png": "[encoded data removed]",
            "text/plain": [
              "<Figure size 864x360 with 2 Axes>"
            ]
          },
          "metadata": {
            "needs_background": "light"
          },
          "output_type": "display_data"
        }
      ],
      "source": [
        "fig, (ax1, ax2) = plt.subplots(ncols=2, figsize=(12, 5))\n",
        "\n",
        "# before scaling\n",
        "ax1.set_title('Before Scaling')\n",
        "sns.kdeplot(X_train['Age'], ax=ax1)\n",
        "sns.kdeplot(X_train['EstimatedSalary'], ax=ax1)\n",
        "\n",
        "# after scaling\n",
        "ax2.set_title('After Standard Scaling')\n",
        "sns.kdeplot(X_train_scaled['Age'], ax=ax2)\n",
        "sns.kdeplot(X_train_scaled['EstimatedSalary'], ax=ax2)\n",
        "plt.show()"
      ]
    },
    {
      "cell_type": "markdown",
      "metadata": {
        "id": "NCQm2o7MHwAE"
      },
      "source": [
        "# Comparison of Distributions"
      ]
    },
    {
      "cell_type": "code",
      "execution_count": null,
      "metadata": {
        "id": "6XOaFs8BHwAE",
        "outputId": "478038a9-5f9a-4c25-a489-6aab30e1e995"
      },
      "outputs": [
        {
          "data": {
            "image/png": "[encoded data removed]",
            "text/plain": [
              "<Figure size 864x360 with 2 Axes>"
            ]
          },
          "metadata": {
            "needs_background": "light"
          },
          "output_type": "display_data"
        }
      ],
      "source": [
        "fig, (ax1, ax2) = plt.subplots(ncols=2, figsize=(12, 5))\n",
        "\n",
        "# before scaling\n",
        "ax1.set_title('Age Distribution Before Scaling')\n",
        "sns.kdeplot(X_train['Age'], ax=ax1)\n",
        "\n",
        "# after scaling\n",
        "ax2.set_title('Age Distribution After Standard Scaling')\n",
        "sns.kdeplot(X_train_scaled['Age'], ax=ax2)\n",
        "plt.show()"
      ]
    },
    {
      "cell_type": "code",
      "execution_count": null,
      "metadata": {
        "id": "6aLKymFaHwAF",
        "outputId": "01678117-4a7b-48d2-dbc5-b012a129b71a"
      },
      "outputs": [
        {
          "data": {
            "image/png": "[encoded data removed]",
            "text/plain": [
              "<Figure size 864x360 with 2 Axes>"
            ]
          },
          "metadata": {
            "needs_background": "light"
          },
          "output_type": "display_data"
        }
      ],
      "source": [
        "fig, (ax1, ax2) = plt.subplots(ncols=2, figsize=(12, 5))\n",
        "\n",
        "# before scaling\n",
        "ax1.set_title('Salary Distribution Before Scaling')\n",
        "sns.kdeplot(X_train['EstimatedSalary'], ax=ax1)\n",
        "\n",
        "# after scaling\n",
        "ax2.set_title('Salary Distribution Standard Scaling')\n",
        "sns.kdeplot(X_train_scaled['EstimatedSalary'], ax=ax2)\n",
        "plt.show()"
      ]
    },
    {
      "cell_type": "markdown",
      "metadata": {
        "id": "1oBFc6YgHwAF"
      },
      "source": [
        "# Why scaling is important?"
      ]
    },
    {
      "cell_type": "code",
      "execution_count": null,
      "metadata": {
        "id": "B0xo5r7vHwAF"
      },
      "outputs": [],
      "source": [
        "from sklearn.linear_model import LogisticRegression"
      ]
    },
    {
      "cell_type": "code",
      "execution_count": null,
      "metadata": {
        "id": "bhkj9XQzHwAF"
      },
      "outputs": [],
      "source": [
        "lr = LogisticRegression()\n",
        "lr_scaled = LogisticRegression()"
      ]
    },
    {
      "cell_type": "code",
      "execution_count": null,
      "metadata": {
        "id": "hZ7IukBEHwAG",
        "outputId": "0f5868bb-7c27-4aeb-fc94-36cbfef49b88"
      },
      "outputs": [
        {
          "data": {
            "text/plain": [
              "LogisticRegression()"
            ]
          },
          "execution_count": 18,
          "metadata": {},
          "output_type": "execute_result"
        }
      ],
      "source": [
        "lr.fit(X_train,y_train)\n",
        "lr_scaled.fit(X_train_scaled,y_train)"
      ]
    },
    {
      "cell_type": "code",
      "execution_count": null,
      "metadata": {
        "id": "9PAiVC5-HwAG"
      },
      "outputs": [],
      "source": [
        "y_pred = lr.predict(X_test)\n",
        "y_pred_scaled = lr_scaled.predict(X_test_scaled)"
      ]
    },
    {
      "cell_type": "code",
      "execution_count": null,
      "metadata": {
        "id": "5iVx6zBiHwAG"
      },
      "outputs": [],
      "source": [
        "from sklearn.metrics import accuracy_score"
      ]
    },
    {
      "cell_type": "code",
      "execution_count": null,
      "metadata": {
        "id": "RRTjSSeIHwAH",
        "outputId": "4fe925c6-0693-44dc-cf4f-a0e60188e298"
      },
      "outputs": [
        {
          "name": "stdout",
          "output_type": "stream",
          "text": [
            "Actual 0.6583333333333333\n",
            "Scaled 0.8666666666666667\n"
          ]
        }
      ],
      "source": [
        "print(\"Actual\",accuracy_score(y_test,y_pred))\n",
        "print(\"Scaled\",accuracy_score(y_test,y_pred_scaled))"
      ]
    },
    {
      "cell_type": "code",
      "execution_count": null,
      "metadata": {
        "id": "Bfv3eT8NHwAH"
      },
      "outputs": [],
      "source": [
        "from sklearn.tree import DecisionTreeClassifier"
      ]
    },
    {
      "cell_type": "code",
      "execution_count": null,
      "metadata": {
        "id": "ePF9NS4AHwAH"
      },
      "outputs": [],
      "source": [
        "dt = DecisionTreeClassifier()\n",
        "dt_scaled = DecisionTreeClassifier()"
      ]
    },
    {
      "cell_type": "code",
      "execution_count": null,
      "metadata": {
        "id": "tIEBjpVHHwAH",
        "outputId": "97c8bf74-a514-4207-a1c1-79bfe700c146"
      },
      "outputs": [
        {
          "data": {
            "text/plain": [
              "DecisionTreeClassifier()"
            ]
          },
          "execution_count": 25,
          "metadata": {},
          "output_type": "execute_result"
        }
      ],
      "source": [
        "dt.fit(X_train,y_train)\n",
        "dt_scaled.fit(X_train_scaled,y_train)"
      ]
    },
    {
      "cell_type": "code",
      "execution_count": null,
      "metadata": {
        "id": "INrf9BVWHwAI"
      },
      "outputs": [],
      "source": [
        "y_pred = dt.predict(X_test)\n",
        "y_pred_scaled = dt_scaled.predict(X_test_scaled)"
      ]
    },
    {
      "cell_type": "code",
      "execution_count": null,
      "metadata": {
        "id": "_0QIQ7T9HwAJ",
        "outputId": "18575038-246c-432a-d442-fde100040f7c"
      },
      "outputs": [
        {
          "name": "stdout",
          "output_type": "stream",
          "text": [
            "Actual 0.875\n",
            "Scaled 0.875\n"
          ]
        }
      ],
      "source": [
        "print(\"Actual\",accuracy_score(y_test,y_pred))\n",
        "print(\"Scaled\",accuracy_score(y_test,y_pred_scaled))"
      ]
    },
    {
      "cell_type": "code",
      "execution_count": null,
      "metadata": {
        "id": "q0yiSMQkHwAJ",
        "outputId": "1cf03b8d-d63b-4317-ef0f-78a65e79b7e4"
      },
      "outputs": [
        {
          "data": {
            "text/html": [
              "<div>\n",
              "<style scoped>\n",
              "    .dataframe tbody tr th:only-of-type {\n",
              "        vertical-align: middle;\n",
              "    }\n",
              "\n",
              "    .dataframe tbody tr th {\n",
              "        vertical-align: top;\n",
              "    }\n",
              "\n",
              "    .dataframe thead th {\n",
              "        text-align: right;\n",
              "    }\n",
              "</style>\n",
              "<table border=\"1\" class=\"dataframe\">\n",
              "  <thead>\n",
              "    <tr style=\"text-align: right;\">\n",
              "      <th></th>\n",
              "      <th>Age</th>\n",
              "      <th>EstimatedSalary</th>\n",
              "      <th>Purchased</th>\n",
              "    </tr>\n",
              "  </thead>\n",
              "  <tbody>\n",
              "    <tr>\n",
              "      <th>count</th>\n",
              "      <td>400.000000</td>\n",
              "      <td>400.000000</td>\n",
              "      <td>400.000000</td>\n",
              "    </tr>\n",
              "    <tr>\n",
              "      <th>mean</th>\n",
              "      <td>37.655000</td>\n",
              "      <td>69742.500000</td>\n",
              "      <td>0.357500</td>\n",
              "    </tr>\n",
              "    <tr>\n",
              "      <th>std</th>\n",
              "      <td>10.482877</td>\n",
              "      <td>34096.960282</td>\n",
              "      <td>0.479864</td>\n",
              "    </tr>\n",
              "    <tr>\n",
              "      <th>min</th>\n",
              "      <td>18.000000</td>\n",
              "      <td>15000.000000</td>\n",
              "      <td>0.000000</td>\n",
              "    </tr>\n",
              "    <tr>\n",
              "      <th>25%</th>\n",
              "      <td>29.750000</td>\n",
              "      <td>43000.000000</td>\n",
              "      <td>0.000000</td>\n",
              "    </tr>\n",
              "    <tr>\n",
              "      <th>50%</th>\n",
              "      <td>37.000000</td>\n",
              "      <td>70000.000000</td>\n",
              "      <td>0.000000</td>\n",
              "    </tr>\n",
              "    <tr>\n",
              "      <th>75%</th>\n",
              "      <td>46.000000</td>\n",
              "      <td>88000.000000</td>\n",
              "      <td>1.000000</td>\n",
              "    </tr>\n",
              "    <tr>\n",
              "      <th>max</th>\n",
              "      <td>60.000000</td>\n",
              "      <td>150000.000000</td>\n",
              "      <td>1.000000</td>\n",
              "    </tr>\n",
              "  </tbody>\n",
              "</table>\n",
              "</div>"
            ],
            "text/plain": [
              "              Age  EstimatedSalary   Purchased\n",
              "count  400.000000       400.000000  400.000000\n",
              "mean    37.655000     69742.500000    0.357500\n",
              "std     10.482877     34096.960282    0.479864\n",
              "min     18.000000     15000.000000    0.000000\n",
              "25%     29.750000     43000.000000    0.000000\n",
              "50%     37.000000     70000.000000    0.000000\n",
              "75%     46.000000     88000.000000    1.000000\n",
              "max     60.000000    150000.000000    1.000000"
            ]
          },
          "execution_count": 29,
          "metadata": {},
          "output_type": "execute_result"
        }
      ],
      "source": [
        "df.describe()"
      ]
    },
    {
      "cell_type": "markdown",
      "metadata": {
        "id": "mVUxAbHIHwAK"
      },
      "source": [
        "# Effect of Outlier"
      ]
    },
    {
      "cell_type": "code",
      "execution_count": null,
      "metadata": {
        "id": "uuH---PqHwAK"
      },
      "outputs": [],
      "source": [
        "df = df.append(pd.DataFrame({'Age':[5,90,95],'EstimatedSalary':[1000,250000,350000],'Purchased':[0,1,1]}),ignore_index=True)"
      ]
    },
    {
      "cell_type": "code",
      "execution_count": null,
      "metadata": {
        "id": "SJAqTnvKHwAK",
        "outputId": "5092f8ac-8da1-47ac-fd9b-887f159a65ed"
      },
      "outputs": [
        {
          "data": {
            "text/html": [
              "<div>\n",
              "<style scoped>\n",
              "    .dataframe tbody tr th:only-of-type {\n",
              "        vertical-align: middle;\n",
              "    }\n",
              "\n",
              "    .dataframe tbody tr th {\n",
              "        vertical-align: top;\n",
              "    }\n",
              "\n",
              "    .dataframe thead th {\n",
              "        text-align: right;\n",
              "    }\n",
              "</style>\n",
              "<table border=\"1\" class=\"dataframe\">\n",
              "  <thead>\n",
              "    <tr style=\"text-align: right;\">\n",
              "      <th></th>\n",
              "      <th>Age</th>\n",
              "      <th>EstimatedSalary</th>\n",
              "      <th>Purchased</th>\n",
              "    </tr>\n",
              "  </thead>\n",
              "  <tbody>\n",
              "    <tr>\n",
              "      <th>0</th>\n",
              "      <td>19</td>\n",
              "      <td>19000</td>\n",
              "      <td>0</td>\n",
              "    </tr>\n",
              "    <tr>\n",
              "      <th>1</th>\n",
              "      <td>35</td>\n",
              "      <td>20000</td>\n",
              "      <td>0</td>\n",
              "    </tr>\n",
              "    <tr>\n",
              "      <th>2</th>\n",
              "      <td>26</td>\n",
              "      <td>43000</td>\n",
              "      <td>0</td>\n",
              "    </tr>\n",
              "    <tr>\n",
              "      <th>3</th>\n",
              "      <td>27</td>\n",
              "      <td>57000</td>\n",
              "      <td>0</td>\n",
              "    </tr>\n",
              "    <tr>\n",
              "      <th>4</th>\n",
              "      <td>19</td>\n",
              "      <td>76000</td>\n",
              "      <td>0</td>\n",
              "    </tr>\n",
              "    <tr>\n",
              "      <th>...</th>\n",
              "      <td>...</td>\n",
              "      <td>...</td>\n",
              "      <td>...</td>\n",
              "    </tr>\n",
              "    <tr>\n",
              "      <th>395</th>\n",
              "      <td>46</td>\n",
              "      <td>41000</td>\n",
              "      <td>1</td>\n",
              "    </tr>\n",
              "    <tr>\n",
              "      <th>396</th>\n",
              "      <td>51</td>\n",
              "      <td>23000</td>\n",
              "      <td>1</td>\n",
              "    </tr>\n",
              "    <tr>\n",
              "      <th>397</th>\n",
              "      <td>50</td>\n",
              "      <td>20000</td>\n",
              "      <td>1</td>\n",
              "    </tr>\n",
              "    <tr>\n",
              "      <th>398</th>\n",
              "      <td>36</td>\n",
              "      <td>33000</td>\n",
              "      <td>0</td>\n",
              "    </tr>\n",
              "    <tr>\n",
              "      <th>399</th>\n",
              "      <td>49</td>\n",
              "      <td>36000</td>\n",
              "      <td>1</td>\n",
              "    </tr>\n",
              "  </tbody>\n",
              "</table>\n",
              "<p>400 rows × 3 columns</p>\n",
              "</div>"
            ],
            "text/plain": [
              "     Age  EstimatedSalary  Purchased\n",
              "0     19            19000          0\n",
              "1     35            20000          0\n",
              "2     26            43000          0\n",
              "3     27            57000          0\n",
              "4     19            76000          0\n",
              "..   ...              ...        ...\n",
              "395   46            41000          1\n",
              "396   51            23000          1\n",
              "397   50            20000          1\n",
              "398   36            33000          0\n",
              "399   49            36000          1\n",
              "\n",
              "[400 rows x 3 columns]"
            ]
          },
          "execution_count": 32,
          "metadata": {},
          "output_type": "execute_result"
        }
      ],
      "source": [
        "df"
      ]
    },
    {
      "cell_type": "code",
      "execution_count": null,
      "metadata": {
        "id": "_L3xqsbwHwAL",
        "outputId": "a584f563-c9c9-44c6-c267-b80127e2a556"
      },
      "outputs": [
        {
          "data": {
            "text/plain": [
              "<matplotlib.collections.PathCollection at 0x1d6823eba00>"
            ]
          },
          "execution_count": 36,
          "metadata": {},
          "output_type": "execute_result"
        },
        {
          "data": {
            "image/png": "[encoded data removed]",
            "text/plain": [
              "<Figure size 432x288 with 1 Axes>"
            ]
          },
          "metadata": {
            "needs_background": "light"
          },
          "output_type": "display_data"
        }
      ],
      "source": [
        "plt.scatter(df['Age'], df['EstimatedSalary'])"
      ]
    },
    {
      "cell_type": "code",
      "execution_count": null,
      "metadata": {
        "id": "FMQYZuGWHwAO",
        "outputId": "433028d0-2f43-4f87-e44c-b7867d25020e"
      },
      "outputs": [
        {
          "data": {
            "text/plain": [
              "((282, 2), (121, 2))"
            ]
          },
          "execution_count": 37,
          "metadata": {},
          "output_type": "execute_result"
        }
      ],
      "source": [
        "from sklearn.model_selection import train_test_split\n",
        "X_train, X_test, y_train, y_test = train_test_split(df.drop('Purchased', axis=1),\n",
        "                                                    df['Purchased'],\n",
        "                                                    test_size=0.3,\n",
        "                                                    random_state=0)\n",
        "\n",
        "X_train.shape, X_test.shape"
      ]
    },
    {
      "cell_type": "code",
      "execution_count": null,
      "metadata": {
        "id": "TYaCJb4MHwAO"
      },
      "outputs": [],
      "source": [
        "from sklearn.preprocessing import StandardScaler\n",
        "\n",
        "scaler = StandardScaler()\n",
        "\n",
        "# fit the scaler to the train set, it will learn the parameters\n",
        "scaler.fit(X_train)\n",
        "\n",
        "# transform train and test sets\n",
        "X_train_scaled = scaler.transform(X_train)\n",
        "X_test_scaled = scaler.transform(X_test)"
      ]
    },
    {
      "cell_type": "code",
      "execution_count": null,
      "metadata": {
        "id": "QU7AuweiHwAX"
      },
      "outputs": [],
      "source": [
        "X_train_scaled = pd.DataFrame(X_train_scaled, columns=X_train.columns)\n",
        "X_test_scaled = pd.DataFrame(X_test_scaled, columns=X_test.columns)"
      ]
    },
    {
      "cell_type": "code",
      "execution_count": null,
      "metadata": {
        "id": "PalSoN7FHwAX",
        "outputId": "09cab601-f867-41ff-d12c-edb75efb4eb6"
      },
      "outputs": [
        {
          "data": {
            "image/png": "[encoded data removed]",
            "text/plain": [
              "<Figure size 864x360 with 2 Axes>"
            ]
          },
          "metadata": {
            "needs_background": "light"
          },
          "output_type": "display_data"
        }
      ],
      "source": [
        "fig, (ax1, ax2) = plt.subplots(ncols=2, figsize=(12, 5))\n",
        "\n",
        "ax1.scatter(X_train['Age'], X_train['EstimatedSalary'])\n",
        "ax1.set_title(\"Before Scaling\")\n",
        "ax2.scatter(X_train_scaled['Age'], X_train_scaled['EstimatedSalary'],color='red')\n",
        "ax2.set_title(\"After Scaling\")\n",
        "plt.show()"
      ]
    },
    {
      "cell_type": "code",
      "execution_count": null,
      "metadata": {
        "id": "1hsER5A_HwAX"
      },
      "outputs": [],
      "source": [
        "#25"
      ]
    },
    {
      "cell_type": "code",
      "source": [],
      "metadata": {
        "id": "QUJhIeKTI7MF"
      },
      "execution_count": null,
      "outputs": []
    },
    {
      "cell_type": "code",
      "execution_count": null,
      "metadata": {
        "id": "_9P5E5wMHxGz"
      },
      "outputs": [],
      "source": [
        "import numpy as np # linear algebra\n",
        "import pandas as pd # data processing\n",
        "import matplotlib.pyplot as plt\n",
        "import seaborn as sns"
      ]
    },
    {
      "cell_type": "code",
      "execution_count": null,
      "metadata": {
        "id": "x7LzNaEhHxG1"
      },
      "outputs": [],
      "source": [
        "df = pd.read_csv('wine_data.csv',header=None,usecols=[0,1,2])\n",
        "df.columns=['Class label', 'Alcohol', 'Malic acid']"
      ]
    },
    {
      "cell_type": "code",
      "execution_count": null,
      "metadata": {
        "id": "x9WqwxkrHxG3",
        "outputId": "8cea4188-2885-455a-d9b2-7257fc36bf2c"
      },
      "outputs": [
        {
          "data": {
            "text/html": [
              "<div>\n",
              "<style scoped>\n",
              "    .dataframe tbody tr th:only-of-type {\n",
              "        vertical-align: middle;\n",
              "    }\n",
              "\n",
              "    .dataframe tbody tr th {\n",
              "        vertical-align: top;\n",
              "    }\n",
              "\n",
              "    .dataframe thead th {\n",
              "        text-align: right;\n",
              "    }\n",
              "</style>\n",
              "<table border=\"1\" class=\"dataframe\">\n",
              "  <thead>\n",
              "    <tr style=\"text-align: right;\">\n",
              "      <th></th>\n",
              "      <th>Class label</th>\n",
              "      <th>Alcohol</th>\n",
              "      <th>Malic acid</th>\n",
              "    </tr>\n",
              "  </thead>\n",
              "  <tbody>\n",
              "    <tr>\n",
              "      <th>0</th>\n",
              "      <td>1</td>\n",
              "      <td>14.23</td>\n",
              "      <td>1.71</td>\n",
              "    </tr>\n",
              "    <tr>\n",
              "      <th>1</th>\n",
              "      <td>1</td>\n",
              "      <td>13.20</td>\n",
              "      <td>1.78</td>\n",
              "    </tr>\n",
              "    <tr>\n",
              "      <th>2</th>\n",
              "      <td>1</td>\n",
              "      <td>13.16</td>\n",
              "      <td>2.36</td>\n",
              "    </tr>\n",
              "    <tr>\n",
              "      <th>3</th>\n",
              "      <td>1</td>\n",
              "      <td>14.37</td>\n",
              "      <td>1.95</td>\n",
              "    </tr>\n",
              "    <tr>\n",
              "      <th>4</th>\n",
              "      <td>1</td>\n",
              "      <td>13.24</td>\n",
              "      <td>2.59</td>\n",
              "    </tr>\n",
              "    <tr>\n",
              "      <th>...</th>\n",
              "      <td>...</td>\n",
              "      <td>...</td>\n",
              "      <td>...</td>\n",
              "    </tr>\n",
              "    <tr>\n",
              "      <th>173</th>\n",
              "      <td>3</td>\n",
              "      <td>13.71</td>\n",
              "      <td>5.65</td>\n",
              "    </tr>\n",
              "    <tr>\n",
              "      <th>174</th>\n",
              "      <td>3</td>\n",
              "      <td>13.40</td>\n",
              "      <td>3.91</td>\n",
              "    </tr>\n",
              "    <tr>\n",
              "      <th>175</th>\n",
              "      <td>3</td>\n",
              "      <td>13.27</td>\n",
              "      <td>4.28</td>\n",
              "    </tr>\n",
              "    <tr>\n",
              "      <th>176</th>\n",
              "      <td>3</td>\n",
              "      <td>13.17</td>\n",
              "      <td>2.59</td>\n",
              "    </tr>\n",
              "    <tr>\n",
              "      <th>177</th>\n",
              "      <td>3</td>\n",
              "      <td>14.13</td>\n",
              "      <td>4.10</td>\n",
              "    </tr>\n",
              "  </tbody>\n",
              "</table>\n",
              "<p>178 rows × 3 columns</p>\n",
              "</div>"
            ],
            "text/plain": [
              "     Class label  Alcohol  Malic acid\n",
              "0              1    14.23        1.71\n",
              "1              1    13.20        1.78\n",
              "2              1    13.16        2.36\n",
              "3              1    14.37        1.95\n",
              "4              1    13.24        2.59\n",
              "..           ...      ...         ...\n",
              "173            3    13.71        5.65\n",
              "174            3    13.40        3.91\n",
              "175            3    13.27        4.28\n",
              "176            3    13.17        2.59\n",
              "177            3    14.13        4.10\n",
              "\n",
              "[178 rows x 3 columns]"
            ]
          },
          "execution_count": 33,
          "metadata": {},
          "output_type": "execute_result"
        }
      ],
      "source": [
        "df"
      ]
    },
    {
      "cell_type": "code",
      "execution_count": null,
      "metadata": {
        "id": "e7wfaarKHxG6",
        "outputId": "9bb9119b-d803-4c15-c4bb-467fa27ec21f"
      },
      "outputs": [
        {
          "data": {
            "text/plain": [
              "<matplotlib.axes._subplots.AxesSubplot at 0x216645559d0>"
            ]
          },
          "execution_count": 34,
          "metadata": {},
          "output_type": "execute_result"
        },
        {
          "data": {
            "image/png": "[encoded data removed]",
            "text/plain": [
              "<Figure size 432x288 with 1 Axes>"
            ]
          },
          "metadata": {
            "needs_background": "light"
          },
          "output_type": "display_data"
        }
      ],
      "source": [
        "sns.kdeplot(df['Alcohol'])"
      ]
    },
    {
      "cell_type": "code",
      "execution_count": null,
      "metadata": {
        "id": "5DCSg6htHxG7",
        "outputId": "bf8df405-fe07-43ea-aa12-9fbab21ebc68"
      },
      "outputs": [
        {
          "data": {
            "text/plain": [
              "<matplotlib.axes._subplots.AxesSubplot at 0x21666036940>"
            ]
          },
          "execution_count": 36,
          "metadata": {},
          "output_type": "execute_result"
        },
        {
          "data": {
            "image/png": "[encoded data removed]",
            "text/plain": [
              "<Figure size 432x288 with 1 Axes>"
            ]
          },
          "metadata": {
            "needs_background": "light"
          },
          "output_type": "display_data"
        }
      ],
      "source": [
        "sns.kdeplot(df['Malic acid'])"
      ]
    },
    {
      "cell_type": "code",
      "execution_count": null,
      "metadata": {
        "id": "e26vNlLdHxG8",
        "outputId": "0b4f0411-b1d3-4d57-8085-4c7e5ba33e43"
      },
      "outputs": [
        {
          "data": {
            "text/plain": [
              "<matplotlib.axes._subplots.AxesSubplot at 0x21665b02f70>"
            ]
          },
          "execution_count": 43,
          "metadata": {},
          "output_type": "execute_result"
        },
        {
          "data": {
            "image/png": "[encoded data removed]",
            "text/plain": [
              "<Figure size 432x288 with 1 Axes>"
            ]
          },
          "metadata": {
            "needs_background": "light"
          },
          "output_type": "display_data"
        }
      ],
      "source": [
        "color_dict={1:'red',3:'green',2:'blue'}\n",
        "sns.scatterplot(df['Alcohol'],df['Malic acid'],hue=df['Class label'],palette=color_dict)"
      ]
    },
    {
      "cell_type": "code",
      "execution_count": null,
      "metadata": {
        "id": "wXZ5zODUHxG9",
        "outputId": "3a655331-1af9-4795-b52f-43687bcaa881"
      },
      "outputs": [
        {
          "data": {
            "text/plain": [
              "((124, 2), (54, 2))"
            ]
          },
          "execution_count": 44,
          "metadata": {},
          "output_type": "execute_result"
        }
      ],
      "source": [
        "from sklearn.model_selection import train_test_split\n",
        "X_train, X_test, y_train, y_test = train_test_split(df.drop('Class label', axis=1),\n",
        "                                                    df['Class label'],\n",
        "                                                    test_size=0.3,\n",
        "                                                    random_state=0)\n",
        "\n",
        "X_train.shape, X_test.shape"
      ]
    },
    {
      "cell_type": "code",
      "execution_count": null,
      "metadata": {
        "id": "QviySxA4HxG_"
      },
      "outputs": [],
      "source": [
        "from sklearn.preprocessing import MinMaxScaler\n",
        "\n",
        "scaler = MinMaxScaler()\n",
        "\n",
        "# fit the scaler to the train set, it will learn the parameters\n",
        "scaler.fit(X_train)\n",
        "\n",
        "# transform train and test sets\n",
        "X_train_scaled = scaler.transform(X_train)\n",
        "X_test_scaled = scaler.transform(X_test)"
      ]
    },
    {
      "cell_type": "code",
      "execution_count": null,
      "metadata": {
        "id": "VzI3JcDaHxHB"
      },
      "outputs": [],
      "source": [
        "X_train_scaled = pd.DataFrame(X_train_scaled, columns=X_train.columns)\n",
        "X_test_scaled = pd.DataFrame(X_test_scaled, columns=X_test.columns)"
      ]
    },
    {
      "cell_type": "code",
      "execution_count": null,
      "metadata": {
        "id": "OX6rxDwTHxHD",
        "outputId": "cba6dbb9-0721-41ef-8dd7-c02168a0da25"
      },
      "outputs": [
        {
          "data": {
            "text/html": [
              "<div>\n",
              "<style scoped>\n",
              "    .dataframe tbody tr th:only-of-type {\n",
              "        vertical-align: middle;\n",
              "    }\n",
              "\n",
              "    .dataframe tbody tr th {\n",
              "        vertical-align: top;\n",
              "    }\n",
              "\n",
              "    .dataframe thead th {\n",
              "        text-align: right;\n",
              "    }\n",
              "</style>\n",
              "<table border=\"1\" class=\"dataframe\">\n",
              "  <thead>\n",
              "    <tr style=\"text-align: right;\">\n",
              "      <th></th>\n",
              "      <th>Alcohol</th>\n",
              "      <th>Malic acid</th>\n",
              "    </tr>\n",
              "  </thead>\n",
              "  <tbody>\n",
              "    <tr>\n",
              "      <th>count</th>\n",
              "      <td>124.0</td>\n",
              "      <td>124.0</td>\n",
              "    </tr>\n",
              "    <tr>\n",
              "      <th>mean</th>\n",
              "      <td>13.0</td>\n",
              "      <td>2.4</td>\n",
              "    </tr>\n",
              "    <tr>\n",
              "      <th>std</th>\n",
              "      <td>0.8</td>\n",
              "      <td>1.1</td>\n",
              "    </tr>\n",
              "    <tr>\n",
              "      <th>min</th>\n",
              "      <td>11.0</td>\n",
              "      <td>0.9</td>\n",
              "    </tr>\n",
              "    <tr>\n",
              "      <th>25%</th>\n",
              "      <td>12.4</td>\n",
              "      <td>1.6</td>\n",
              "    </tr>\n",
              "    <tr>\n",
              "      <th>50%</th>\n",
              "      <td>13.0</td>\n",
              "      <td>1.9</td>\n",
              "    </tr>\n",
              "    <tr>\n",
              "      <th>75%</th>\n",
              "      <td>13.6</td>\n",
              "      <td>3.2</td>\n",
              "    </tr>\n",
              "    <tr>\n",
              "      <th>max</th>\n",
              "      <td>14.8</td>\n",
              "      <td>5.6</td>\n",
              "    </tr>\n",
              "  </tbody>\n",
              "</table>\n",
              "</div>"
            ],
            "text/plain": [
              "       Alcohol  Malic acid\n",
              "count    124.0       124.0\n",
              "mean      13.0         2.4\n",
              "std        0.8         1.1\n",
              "min       11.0         0.9\n",
              "25%       12.4         1.6\n",
              "50%       13.0         1.9\n",
              "75%       13.6         3.2\n",
              "max       14.8         5.6"
            ]
          },
          "execution_count": 47,
          "metadata": {},
          "output_type": "execute_result"
        }
      ],
      "source": [
        "np.round(X_train.describe(), 1)"
      ]
    },
    {
      "cell_type": "code",
      "execution_count": null,
      "metadata": {
        "id": "7vkSsxWoHxHE",
        "outputId": "a79b2fa4-0fe6-48e7-ec04-c51439226832"
      },
      "outputs": [
        {
          "data": {
            "text/html": [
              "<div>\n",
              "<style scoped>\n",
              "    .dataframe tbody tr th:only-of-type {\n",
              "        vertical-align: middle;\n",
              "    }\n",
              "\n",
              "    .dataframe tbody tr th {\n",
              "        vertical-align: top;\n",
              "    }\n",
              "\n",
              "    .dataframe thead th {\n",
              "        text-align: right;\n",
              "    }\n",
              "</style>\n",
              "<table border=\"1\" class=\"dataframe\">\n",
              "  <thead>\n",
              "    <tr style=\"text-align: right;\">\n",
              "      <th></th>\n",
              "      <th>Alcohol</th>\n",
              "      <th>Malic acid</th>\n",
              "    </tr>\n",
              "  </thead>\n",
              "  <tbody>\n",
              "    <tr>\n",
              "      <th>count</th>\n",
              "      <td>124.0</td>\n",
              "      <td>124.0</td>\n",
              "    </tr>\n",
              "    <tr>\n",
              "      <th>mean</th>\n",
              "      <td>0.5</td>\n",
              "      <td>0.3</td>\n",
              "    </tr>\n",
              "    <tr>\n",
              "      <th>std</th>\n",
              "      <td>0.2</td>\n",
              "      <td>0.2</td>\n",
              "    </tr>\n",
              "    <tr>\n",
              "      <th>min</th>\n",
              "      <td>0.0</td>\n",
              "      <td>0.0</td>\n",
              "    </tr>\n",
              "    <tr>\n",
              "      <th>25%</th>\n",
              "      <td>0.4</td>\n",
              "      <td>0.2</td>\n",
              "    </tr>\n",
              "    <tr>\n",
              "      <th>50%</th>\n",
              "      <td>0.5</td>\n",
              "      <td>0.2</td>\n",
              "    </tr>\n",
              "    <tr>\n",
              "      <th>75%</th>\n",
              "      <td>0.7</td>\n",
              "      <td>0.5</td>\n",
              "    </tr>\n",
              "    <tr>\n",
              "      <th>max</th>\n",
              "      <td>1.0</td>\n",
              "      <td>1.0</td>\n",
              "    </tr>\n",
              "  </tbody>\n",
              "</table>\n",
              "</div>"
            ],
            "text/plain": [
              "       Alcohol  Malic acid\n",
              "count    124.0       124.0\n",
              "mean       0.5         0.3\n",
              "std        0.2         0.2\n",
              "min        0.0         0.0\n",
              "25%        0.4         0.2\n",
              "50%        0.5         0.2\n",
              "75%        0.7         0.5\n",
              "max        1.0         1.0"
            ]
          },
          "execution_count": 48,
          "metadata": {},
          "output_type": "execute_result"
        }
      ],
      "source": [
        "np.round(X_train_scaled.describe(), 1)"
      ]
    },
    {
      "cell_type": "code",
      "execution_count": null,
      "metadata": {
        "id": "uNKTA7BeHxHE",
        "outputId": "4405030a-fabd-4bd9-a45b-d94647ac8cb4"
      },
      "outputs": [
        {
          "data": {
            "image/png": "[encoded data removed]",
            "text/plain": [
              "<Figure size 864x360 with 2 Axes>"
            ]
          },
          "metadata": {
            "needs_background": "light"
          },
          "output_type": "display_data"
        }
      ],
      "source": [
        "fig, (ax1, ax2) = plt.subplots(ncols=2, figsize=(12, 5))\n",
        "\n",
        "ax1.scatter(X_train['Alcohol'], X_train['Malic acid'],c=y_train)\n",
        "ax1.set_title(\"Before Scaling\")\n",
        "ax2.scatter(X_train_scaled['Alcohol'], X_train_scaled['Malic acid'],c=y_train)\n",
        "ax2.set_title(\"After Scaling\")\n",
        "plt.show()"
      ]
    },
    {
      "cell_type": "code",
      "execution_count": null,
      "metadata": {
        "id": "4i4XA6FPHxHF",
        "outputId": "405b5261-36d7-4e84-a050-a0126649e127"
      },
      "outputs": [
        {
          "data": {
            "image/png": "[encoded data removed]",
            "text/plain": [
              "<Figure size 864x360 with 2 Axes>"
            ]
          },
          "metadata": {
            "needs_background": "light"
          },
          "output_type": "display_data"
        }
      ],
      "source": [
        "fig, (ax1, ax2) = plt.subplots(ncols=2, figsize=(12, 5))\n",
        "\n",
        "# before scaling\n",
        "ax1.set_title('Before Scaling')\n",
        "sns.kdeplot(X_train['Alcohol'], ax=ax1)\n",
        "sns.kdeplot(X_train['Malic acid'], ax=ax1)\n",
        "\n",
        "# after scaling\n",
        "ax2.set_title('After Standard Scaling')\n",
        "sns.kdeplot(X_train_scaled['Alcohol'], ax=ax2)\n",
        "sns.kdeplot(X_train_scaled['Malic acid'], ax=ax2)\n",
        "plt.show()"
      ]
    },
    {
      "cell_type": "code",
      "execution_count": null,
      "metadata": {
        "id": "UBrFzY5eHxHF",
        "outputId": "4ffb7ad7-8920-4e60-8f99-a7f9d14f8f14"
      },
      "outputs": [
        {
          "data": {
            "image/png": "[encoded data removed]",
            "text/plain": [
              "<Figure size 864x360 with 2 Axes>"
            ]
          },
          "metadata": {
            "needs_background": "light"
          },
          "output_type": "display_data"
        }
      ],
      "source": [
        "fig, (ax1, ax2) = plt.subplots(ncols=2, figsize=(12, 5))\n",
        "\n",
        "# before scaling\n",
        "ax1.set_title('Alcohol Distribution Before Scaling')\n",
        "sns.kdeplot(X_train['Alcohol'], ax=ax1)\n",
        "\n",
        "# after scaling\n",
        "ax2.set_title('Alcohol Distribution After Standard Scaling')\n",
        "sns.kdeplot(X_train_scaled['Alcohol'], ax=ax2)\n",
        "plt.show()"
      ]
    },
    {
      "cell_type": "code",
      "execution_count": null,
      "metadata": {
        "id": "PMzb7NGpHxHG",
        "outputId": "a0f44080-d673-4799-99a4-74ddd3dcaded"
      },
      "outputs": [
        {
          "data": {
            "image/png": "[encoded data removed]",
            "text/plain": [
              "<Figure size 864x360 with 2 Axes>"
            ]
          },
          "metadata": {
            "needs_background": "light"
          },
          "output_type": "display_data"
        }
      ],
      "source": [
        "fig, (ax1, ax2) = plt.subplots(ncols=2, figsize=(12, 5))\n",
        "\n",
        "# before scaling\n",
        "ax1.set_title('Malic acid Distribution Before Scaling')\n",
        "sns.kdeplot(X_train['Malic acid'], ax=ax1)\n",
        "\n",
        "# after scaling\n",
        "ax2.set_title('Malic acid Distribution After Standard Scaling')\n",
        "sns.kdeplot(X_train_scaled['Malic acid'], ax=ax2)\n",
        "plt.show()"
      ]
    },
    {
      "cell_type": "code",
      "execution_count": null,
      "metadata": {
        "id": "h46x91WDHxHG"
      },
      "outputs": [],
      "source": [
        "#26"
      ]
    },
    {
      "cell_type": "code",
      "source": [],
      "metadata": {
        "id": "wfvl-48TI8p5"
      },
      "execution_count": null,
      "outputs": []
    },
    {
      "cell_type": "code",
      "execution_count": null,
      "metadata": {
        "id": "l0EYDpYwHx6p"
      },
      "outputs": [],
      "source": [
        "import numpy as np\n",
        "import pandas as pd"
      ]
    },
    {
      "cell_type": "code",
      "execution_count": null,
      "metadata": {
        "id": "8VyiF5K1Hx6r"
      },
      "outputs": [],
      "source": [
        "df = pd.read_csv('customer.csv')"
      ]
    },
    {
      "cell_type": "code",
      "execution_count": null,
      "metadata": {
        "id": "YZLJChpqHx6s",
        "outputId": "c175675f-4ce0-47bb-aea3-df275f9c2c95"
      },
      "outputs": [
        {
          "data": {
            "text/html": [
              "<div>\n",
              "<style scoped>\n",
              "    .dataframe tbody tr th:only-of-type {\n",
              "        vertical-align: middle;\n",
              "    }\n",
              "\n",
              "    .dataframe tbody tr th {\n",
              "        vertical-align: top;\n",
              "    }\n",
              "\n",
              "    .dataframe thead th {\n",
              "        text-align: right;\n",
              "    }\n",
              "</style>\n",
              "<table border=\"1\" class=\"dataframe\">\n",
              "  <thead>\n",
              "    <tr style=\"text-align: right;\">\n",
              "      <th></th>\n",
              "      <th>age</th>\n",
              "      <th>gender</th>\n",
              "      <th>review</th>\n",
              "      <th>education</th>\n",
              "      <th>purchased</th>\n",
              "    </tr>\n",
              "  </thead>\n",
              "  <tbody>\n",
              "    <tr>\n",
              "      <th>33</th>\n",
              "      <td>89</td>\n",
              "      <td>Female</td>\n",
              "      <td>Good</td>\n",
              "      <td>PG</td>\n",
              "      <td>Yes</td>\n",
              "    </tr>\n",
              "    <tr>\n",
              "      <th>10</th>\n",
              "      <td>98</td>\n",
              "      <td>Female</td>\n",
              "      <td>Good</td>\n",
              "      <td>UG</td>\n",
              "      <td>Yes</td>\n",
              "    </tr>\n",
              "    <tr>\n",
              "      <th>9</th>\n",
              "      <td>74</td>\n",
              "      <td>Male</td>\n",
              "      <td>Good</td>\n",
              "      <td>UG</td>\n",
              "      <td>Yes</td>\n",
              "    </tr>\n",
              "    <tr>\n",
              "      <th>48</th>\n",
              "      <td>39</td>\n",
              "      <td>Female</td>\n",
              "      <td>Good</td>\n",
              "      <td>UG</td>\n",
              "      <td>Yes</td>\n",
              "    </tr>\n",
              "    <tr>\n",
              "      <th>30</th>\n",
              "      <td>73</td>\n",
              "      <td>Male</td>\n",
              "      <td>Average</td>\n",
              "      <td>UG</td>\n",
              "      <td>No</td>\n",
              "    </tr>\n",
              "  </tbody>\n",
              "</table>\n",
              "</div>"
            ],
            "text/plain": [
              "    age  gender   review education purchased\n",
              "33   89  Female     Good        PG       Yes\n",
              "10   98  Female     Good        UG       Yes\n",
              "9    74    Male     Good        UG       Yes\n",
              "48   39  Female     Good        UG       Yes\n",
              "30   73    Male  Average        UG        No"
            ]
          },
          "execution_count": 76,
          "metadata": {},
          "output_type": "execute_result"
        }
      ],
      "source": [
        "df.sample(5)"
      ]
    },
    {
      "cell_type": "code",
      "execution_count": null,
      "metadata": {
        "id": "S8KQeMzTHx6u"
      },
      "outputs": [],
      "source": [
        "df = df.iloc[:,2:]"
      ]
    },
    {
      "cell_type": "code",
      "execution_count": null,
      "metadata": {
        "id": "ds70De13Hx6v",
        "outputId": "c337089e-536d-45f3-94de-2df9986fcb1a"
      },
      "outputs": [
        {
          "data": {
            "text/html": [
              "<div>\n",
              "<style scoped>\n",
              "    .dataframe tbody tr th:only-of-type {\n",
              "        vertical-align: middle;\n",
              "    }\n",
              "\n",
              "    .dataframe tbody tr th {\n",
              "        vertical-align: top;\n",
              "    }\n",
              "\n",
              "    .dataframe thead th {\n",
              "        text-align: right;\n",
              "    }\n",
              "</style>\n",
              "<table border=\"1\" class=\"dataframe\">\n",
              "  <thead>\n",
              "    <tr style=\"text-align: right;\">\n",
              "      <th></th>\n",
              "      <th>review</th>\n",
              "      <th>education</th>\n",
              "      <th>purchased</th>\n",
              "    </tr>\n",
              "  </thead>\n",
              "  <tbody>\n",
              "    <tr>\n",
              "      <th>0</th>\n",
              "      <td>Average</td>\n",
              "      <td>School</td>\n",
              "      <td>No</td>\n",
              "    </tr>\n",
              "    <tr>\n",
              "      <th>1</th>\n",
              "      <td>Poor</td>\n",
              "      <td>UG</td>\n",
              "      <td>No</td>\n",
              "    </tr>\n",
              "    <tr>\n",
              "      <th>2</th>\n",
              "      <td>Good</td>\n",
              "      <td>PG</td>\n",
              "      <td>No</td>\n",
              "    </tr>\n",
              "    <tr>\n",
              "      <th>3</th>\n",
              "      <td>Good</td>\n",
              "      <td>PG</td>\n",
              "      <td>No</td>\n",
              "    </tr>\n",
              "    <tr>\n",
              "      <th>4</th>\n",
              "      <td>Average</td>\n",
              "      <td>UG</td>\n",
              "      <td>No</td>\n",
              "    </tr>\n",
              "  </tbody>\n",
              "</table>\n",
              "</div>"
            ],
            "text/plain": [
              "    review education purchased\n",
              "0  Average    School        No\n",
              "1     Poor        UG        No\n",
              "2     Good        PG        No\n",
              "3     Good        PG        No\n",
              "4  Average        UG        No"
            ]
          },
          "execution_count": 78,
          "metadata": {},
          "output_type": "execute_result"
        }
      ],
      "source": [
        "df.head()"
      ]
    },
    {
      "cell_type": "code",
      "execution_count": null,
      "metadata": {
        "id": "gL8KbTayHx6w"
      },
      "outputs": [],
      "source": [
        "from sklearn.preprocessing import OrdinalEncoder"
      ]
    },
    {
      "cell_type": "code",
      "execution_count": null,
      "metadata": {
        "id": "C_Te9lJPHx6x",
        "outputId": "19afc373-9f95-49a6-82cd-cbd8790f26a0"
      },
      "outputs": [
        {
          "data": {
            "text/html": [
              "<div>\n",
              "<style scoped>\n",
              "    .dataframe tbody tr th:only-of-type {\n",
              "        vertical-align: middle;\n",
              "    }\n",
              "\n",
              "    .dataframe tbody tr th {\n",
              "        vertical-align: top;\n",
              "    }\n",
              "\n",
              "    .dataframe thead th {\n",
              "        text-align: right;\n",
              "    }\n",
              "</style>\n",
              "<table border=\"1\" class=\"dataframe\">\n",
              "  <thead>\n",
              "    <tr style=\"text-align: right;\">\n",
              "      <th></th>\n",
              "      <th>review</th>\n",
              "      <th>education</th>\n",
              "    </tr>\n",
              "  </thead>\n",
              "  <tbody>\n",
              "    <tr>\n",
              "      <th>16</th>\n",
              "      <td>Poor</td>\n",
              "      <td>UG</td>\n",
              "    </tr>\n",
              "    <tr>\n",
              "      <th>44</th>\n",
              "      <td>Average</td>\n",
              "      <td>UG</td>\n",
              "    </tr>\n",
              "    <tr>\n",
              "      <th>13</th>\n",
              "      <td>Average</td>\n",
              "      <td>School</td>\n",
              "    </tr>\n",
              "    <tr>\n",
              "      <th>48</th>\n",
              "      <td>Good</td>\n",
              "      <td>UG</td>\n",
              "    </tr>\n",
              "    <tr>\n",
              "      <th>42</th>\n",
              "      <td>Good</td>\n",
              "      <td>PG</td>\n",
              "    </tr>\n",
              "    <tr>\n",
              "      <th>38</th>\n",
              "      <td>Good</td>\n",
              "      <td>School</td>\n",
              "    </tr>\n",
              "    <tr>\n",
              "      <th>17</th>\n",
              "      <td>Poor</td>\n",
              "      <td>UG</td>\n",
              "    </tr>\n",
              "    <tr>\n",
              "      <th>4</th>\n",
              "      <td>Average</td>\n",
              "      <td>UG</td>\n",
              "    </tr>\n",
              "    <tr>\n",
              "      <th>5</th>\n",
              "      <td>Average</td>\n",
              "      <td>School</td>\n",
              "    </tr>\n",
              "    <tr>\n",
              "      <th>24</th>\n",
              "      <td>Average</td>\n",
              "      <td>PG</td>\n",
              "    </tr>\n",
              "    <tr>\n",
              "      <th>47</th>\n",
              "      <td>Good</td>\n",
              "      <td>PG</td>\n",
              "    </tr>\n",
              "    <tr>\n",
              "      <th>32</th>\n",
              "      <td>Average</td>\n",
              "      <td>UG</td>\n",
              "    </tr>\n",
              "    <tr>\n",
              "      <th>37</th>\n",
              "      <td>Average</td>\n",
              "      <td>PG</td>\n",
              "    </tr>\n",
              "    <tr>\n",
              "      <th>26</th>\n",
              "      <td>Poor</td>\n",
              "      <td>PG</td>\n",
              "    </tr>\n",
              "    <tr>\n",
              "      <th>15</th>\n",
              "      <td>Poor</td>\n",
              "      <td>UG</td>\n",
              "    </tr>\n",
              "    <tr>\n",
              "      <th>41</th>\n",
              "      <td>Good</td>\n",
              "      <td>PG</td>\n",
              "    </tr>\n",
              "    <tr>\n",
              "      <th>30</th>\n",
              "      <td>Average</td>\n",
              "      <td>UG</td>\n",
              "    </tr>\n",
              "    <tr>\n",
              "      <th>21</th>\n",
              "      <td>Average</td>\n",
              "      <td>PG</td>\n",
              "    </tr>\n",
              "    <tr>\n",
              "      <th>9</th>\n",
              "      <td>Good</td>\n",
              "      <td>UG</td>\n",
              "    </tr>\n",
              "    <tr>\n",
              "      <th>20</th>\n",
              "      <td>Average</td>\n",
              "      <td>School</td>\n",
              "    </tr>\n",
              "    <tr>\n",
              "      <th>23</th>\n",
              "      <td>Good</td>\n",
              "      <td>School</td>\n",
              "    </tr>\n",
              "    <tr>\n",
              "      <th>12</th>\n",
              "      <td>Poor</td>\n",
              "      <td>School</td>\n",
              "    </tr>\n",
              "    <tr>\n",
              "      <th>33</th>\n",
              "      <td>Good</td>\n",
              "      <td>PG</td>\n",
              "    </tr>\n",
              "    <tr>\n",
              "      <th>14</th>\n",
              "      <td>Poor</td>\n",
              "      <td>PG</td>\n",
              "    </tr>\n",
              "    <tr>\n",
              "      <th>2</th>\n",
              "      <td>Good</td>\n",
              "      <td>PG</td>\n",
              "    </tr>\n",
              "    <tr>\n",
              "      <th>8</th>\n",
              "      <td>Average</td>\n",
              "      <td>UG</td>\n",
              "    </tr>\n",
              "    <tr>\n",
              "      <th>7</th>\n",
              "      <td>Poor</td>\n",
              "      <td>School</td>\n",
              "    </tr>\n",
              "    <tr>\n",
              "      <th>1</th>\n",
              "      <td>Poor</td>\n",
              "      <td>UG</td>\n",
              "    </tr>\n",
              "    <tr>\n",
              "      <th>36</th>\n",
              "      <td>Good</td>\n",
              "      <td>UG</td>\n",
              "    </tr>\n",
              "    <tr>\n",
              "      <th>46</th>\n",
              "      <td>Poor</td>\n",
              "      <td>PG</td>\n",
              "    </tr>\n",
              "    <tr>\n",
              "      <th>19</th>\n",
              "      <td>Poor</td>\n",
              "      <td>PG</td>\n",
              "    </tr>\n",
              "    <tr>\n",
              "      <th>18</th>\n",
              "      <td>Good</td>\n",
              "      <td>School</td>\n",
              "    </tr>\n",
              "    <tr>\n",
              "      <th>22</th>\n",
              "      <td>Poor</td>\n",
              "      <td>PG</td>\n",
              "    </tr>\n",
              "    <tr>\n",
              "      <th>29</th>\n",
              "      <td>Average</td>\n",
              "      <td>UG</td>\n",
              "    </tr>\n",
              "    <tr>\n",
              "      <th>49</th>\n",
              "      <td>Good</td>\n",
              "      <td>UG</td>\n",
              "    </tr>\n",
              "    <tr>\n",
              "      <th>28</th>\n",
              "      <td>Poor</td>\n",
              "      <td>School</td>\n",
              "    </tr>\n",
              "    <tr>\n",
              "      <th>43</th>\n",
              "      <td>Poor</td>\n",
              "      <td>PG</td>\n",
              "    </tr>\n",
              "    <tr>\n",
              "      <th>27</th>\n",
              "      <td>Poor</td>\n",
              "      <td>PG</td>\n",
              "    </tr>\n",
              "    <tr>\n",
              "      <th>10</th>\n",
              "      <td>Good</td>\n",
              "      <td>UG</td>\n",
              "    </tr>\n",
              "    <tr>\n",
              "      <th>11</th>\n",
              "      <td>Good</td>\n",
              "      <td>UG</td>\n",
              "    </tr>\n",
              "  </tbody>\n",
              "</table>\n",
              "</div>"
            ],
            "text/plain": [
              "     review education\n",
              "16     Poor        UG\n",
              "44  Average        UG\n",
              "13  Average    School\n",
              "48     Good        UG\n",
              "42     Good        PG\n",
              "38     Good    School\n",
              "17     Poor        UG\n",
              "4   Average        UG\n",
              "5   Average    School\n",
              "24  Average        PG\n",
              "47     Good        PG\n",
              "32  Average        UG\n",
              "37  Average        PG\n",
              "26     Poor        PG\n",
              "15     Poor        UG\n",
              "41     Good        PG\n",
              "30  Average        UG\n",
              "21  Average        PG\n",
              "9      Good        UG\n",
              "20  Average    School\n",
              "23     Good    School\n",
              "12     Poor    School\n",
              "33     Good        PG\n",
              "14     Poor        PG\n",
              "2      Good        PG\n",
              "8   Average        UG\n",
              "7      Poor    School\n",
              "1      Poor        UG\n",
              "36     Good        UG\n",
              "46     Poor        PG\n",
              "19     Poor        PG\n",
              "18     Good    School\n",
              "22     Poor        PG\n",
              "29  Average        UG\n",
              "49     Good        UG\n",
              "28     Poor    School\n",
              "43     Poor        PG\n",
              "27     Poor        PG\n",
              "10     Good        UG\n",
              "11     Good        UG"
            ]
          },
          "execution_count": 89,
          "metadata": {},
          "output_type": "execute_result"
        }
      ],
      "source": [
        "X_train"
      ]
    },
    {
      "cell_type": "code",
      "execution_count": null,
      "metadata": {
        "id": "EzNn-e3cHx6y"
      },
      "outputs": [],
      "source": [
        "oe = OrdinalEncoder(categories=[['Poor','Average','Good'],['School','UG','PG']])"
      ]
    },
    {
      "cell_type": "code",
      "execution_count": null,
      "metadata": {
        "id": "9-Zw618oHx6z",
        "outputId": "c861af46-1b7f-4c43-f1d0-d885e445e75c"
      },
      "outputs": [
        {
          "data": {
            "text/plain": [
              "OrdinalEncoder(categories=[['Poor', 'Average', 'Good'], ['School', 'UG', 'PG']])"
            ]
          },
          "execution_count": 91,
          "metadata": {},
          "output_type": "execute_result"
        }
      ],
      "source": [
        "oe.fit(X_train)"
      ]
    },
    {
      "cell_type": "code",
      "execution_count": null,
      "metadata": {
        "id": "o8MwmQw5Hx61"
      },
      "outputs": [],
      "source": [
        "X_train = oe.transform(X_train)"
      ]
    },
    {
      "cell_type": "code",
      "execution_count": null,
      "metadata": {
        "id": "319oCdkWHx61",
        "outputId": "6338294c-d3a0-4499-c3c6-71a75800841b"
      },
      "outputs": [
        {
          "data": {
            "text/plain": [
              "array([[0., 1.],\n",
              "       [1., 1.],\n",
              "       [1., 0.],\n",
              "       [2., 1.],\n",
              "       [2., 2.],\n",
              "       [2., 0.],\n",
              "       [0., 1.],\n",
              "       [1., 1.],\n",
              "       [1., 0.],\n",
              "       [1., 2.],\n",
              "       [2., 2.],\n",
              "       [1., 1.],\n",
              "       [1., 2.],\n",
              "       [0., 2.],\n",
              "       [0., 1.],\n",
              "       [2., 2.],\n",
              "       [1., 1.],\n",
              "       [1., 2.],\n",
              "       [2., 1.],\n",
              "       [1., 0.],\n",
              "       [2., 0.],\n",
              "       [0., 0.],\n",
              "       [2., 2.],\n",
              "       [0., 2.],\n",
              "       [2., 2.],\n",
              "       [1., 1.],\n",
              "       [0., 0.],\n",
              "       [0., 1.],\n",
              "       [2., 1.],\n",
              "       [0., 2.],\n",
              "       [0., 2.],\n",
              "       [2., 0.],\n",
              "       [0., 2.],\n",
              "       [1., 1.],\n",
              "       [2., 1.],\n",
              "       [0., 0.],\n",
              "       [0., 2.],\n",
              "       [0., 2.],\n",
              "       [2., 1.],\n",
              "       [2., 1.]])"
            ]
          },
          "execution_count": 93,
          "metadata": {},
          "output_type": "execute_result"
        }
      ],
      "source": [
        "X_train"
      ]
    },
    {
      "cell_type": "code",
      "execution_count": null,
      "metadata": {
        "id": "EdwMUzDCHx61",
        "outputId": "ae193321-c974-419c-9ba3-0e340299bf5c"
      },
      "outputs": [
        {
          "data": {
            "text/plain": [
              "[array(['Poor', 'Average', 'Good'], dtype=object),\n",
              " array(['School', 'UG', 'PG'], dtype=object)]"
            ]
          },
          "execution_count": 86,
          "metadata": {},
          "output_type": "execute_result"
        }
      ],
      "source": [
        "oe.categories_"
      ]
    },
    {
      "cell_type": "code",
      "execution_count": null,
      "metadata": {
        "id": "MVTq1DlRHx62",
        "outputId": "13021b27-fdc7-49dd-abde-c32c3e0d92dc"
      },
      "outputs": [
        {
          "data": {
            "text/plain": [
              "array([[1., 2.],\n",
              "       [1., 0.],\n",
              "       [0., 1.],\n",
              "       [2., 0.],\n",
              "       [2., 1.],\n",
              "       [1., 1.],\n",
              "       [2., 1.],\n",
              "       [0., 0.],\n",
              "       [2., 1.],\n",
              "       [0., 2.],\n",
              "       [1., 1.],\n",
              "       [0., 2.],\n",
              "       [2., 0.],\n",
              "       [2., 2.],\n",
              "       [0., 0.],\n",
              "       [2., 2.],\n",
              "       [2., 1.],\n",
              "       [0., 2.],\n",
              "       [0., 1.],\n",
              "       [2., 0.],\n",
              "       [2., 2.],\n",
              "       [0., 2.],\n",
              "       [0., 0.],\n",
              "       [2., 0.],\n",
              "       [2., 0.],\n",
              "       [1., 1.],\n",
              "       [2., 2.],\n",
              "       [0., 1.],\n",
              "       [2., 2.],\n",
              "       [1., 1.],\n",
              "       [2., 2.],\n",
              "       [0., 1.],\n",
              "       [1., 0.],\n",
              "       [0., 0.],\n",
              "       [0., 2.],\n",
              "       [0., 2.],\n",
              "       [1., 2.],\n",
              "       [2., 1.],\n",
              "       [1., 0.],\n",
              "       [2., 0.]])"
            ]
          },
          "execution_count": 87,
          "metadata": {},
          "output_type": "execute_result"
        }
      ],
      "source": [
        "X_train"
      ]
    },
    {
      "cell_type": "code",
      "execution_count": null,
      "metadata": {
        "id": "kemG2lhUHx63"
      },
      "outputs": [],
      "source": [
        "from sklearn.preprocessing import LabelEncoder"
      ]
    },
    {
      "cell_type": "code",
      "execution_count": null,
      "metadata": {
        "id": "NR8cQj7HHx63"
      },
      "outputs": [],
      "source": [
        "le = LabelEncoder()"
      ]
    },
    {
      "cell_type": "code",
      "execution_count": null,
      "metadata": {
        "id": "yzY4xyY4Hx63",
        "outputId": "affb0b1b-0bdd-41f7-fc33-314699439b05"
      },
      "outputs": [
        {
          "data": {
            "text/plain": [
              "LabelEncoder()"
            ]
          },
          "execution_count": 97,
          "metadata": {},
          "output_type": "execute_result"
        }
      ],
      "source": [
        "le.fit(y_train)"
      ]
    },
    {
      "cell_type": "code",
      "execution_count": null,
      "metadata": {
        "id": "SeWdUpy3Hx63",
        "outputId": "26f80ea9-1ee3-452d-a320-1608613cc08a"
      },
      "outputs": [
        {
          "data": {
            "text/plain": [
              "array(['No', 'Yes'], dtype=object)"
            ]
          },
          "execution_count": 98,
          "metadata": {},
          "output_type": "execute_result"
        }
      ],
      "source": [
        "le.classes_"
      ]
    },
    {
      "cell_type": "code",
      "execution_count": null,
      "metadata": {
        "id": "WRoSIqMSHx65"
      },
      "outputs": [],
      "source": [
        "y_train = le.transform(y_train)\n",
        "y_test = le.transform(y_test)"
      ]
    },
    {
      "cell_type": "code",
      "execution_count": null,
      "metadata": {
        "id": "0A4caOj6Hx66",
        "outputId": "584f238a-c60c-4a42-90b9-2505450ef1c5"
      },
      "outputs": [
        {
          "data": {
            "text/plain": [
              "array([1, 0, 0, 1, 1, 0, 1, 0, 1, 1, 1, 1, 1, 0, 0, 1, 0, 0, 1, 1, 0, 0,\n",
              "       1, 1, 0, 0, 1, 0, 1, 0, 1, 0, 1, 1, 0, 0, 0, 0, 1, 1])"
            ]
          },
          "execution_count": 100,
          "metadata": {},
          "output_type": "execute_result"
        }
      ],
      "source": [
        "y_train"
      ]
    },
    {
      "cell_type": "code",
      "execution_count": null,
      "metadata": {
        "id": "jJmJM4ANHx66"
      },
      "outputs": [],
      "source": [
        "#27"
      ]
    },
    {
      "cell_type": "code",
      "source": [],
      "metadata": {
        "id": "TyVxLKm6JDVE"
      },
      "execution_count": null,
      "outputs": []
    },
    {
      "cell_type": "code",
      "execution_count": null,
      "metadata": {
        "id": "ITxX-GA8Hy7K"
      },
      "outputs": [],
      "source": [
        "import numpy as np\n",
        "import pandas as pd"
      ]
    },
    {
      "cell_type": "code",
      "execution_count": null,
      "metadata": {
        "id": "JERfRodVHy7N"
      },
      "outputs": [],
      "source": [
        "df = pd.read_csv('cars.csv')"
      ]
    },
    {
      "cell_type": "code",
      "execution_count": null,
      "metadata": {
        "id": "hnPw_7ryHy7P",
        "outputId": "e0c91f3d-ceb7-401a-96be-c053aa5f39f5"
      },
      "outputs": [
        {
          "data": {
            "text/html": [
              "<div>\n",
              "<style scoped>\n",
              "    .dataframe tbody tr th:only-of-type {\n",
              "        vertical-align: middle;\n",
              "    }\n",
              "\n",
              "    .dataframe tbody tr th {\n",
              "        vertical-align: top;\n",
              "    }\n",
              "\n",
              "    .dataframe thead th {\n",
              "        text-align: right;\n",
              "    }\n",
              "</style>\n",
              "<table border=\"1\" class=\"dataframe\">\n",
              "  <thead>\n",
              "    <tr style=\"text-align: right;\">\n",
              "      <th></th>\n",
              "      <th>brand</th>\n",
              "      <th>km_driven</th>\n",
              "      <th>fuel</th>\n",
              "      <th>owner</th>\n",
              "      <th>selling_price</th>\n",
              "    </tr>\n",
              "  </thead>\n",
              "  <tbody>\n",
              "    <tr>\n",
              "      <th>0</th>\n",
              "      <td>Maruti</td>\n",
              "      <td>145500</td>\n",
              "      <td>Diesel</td>\n",
              "      <td>First Owner</td>\n",
              "      <td>450000</td>\n",
              "    </tr>\n",
              "    <tr>\n",
              "      <th>1</th>\n",
              "      <td>Skoda</td>\n",
              "      <td>120000</td>\n",
              "      <td>Diesel</td>\n",
              "      <td>Second Owner</td>\n",
              "      <td>370000</td>\n",
              "    </tr>\n",
              "    <tr>\n",
              "      <th>2</th>\n",
              "      <td>Honda</td>\n",
              "      <td>140000</td>\n",
              "      <td>Petrol</td>\n",
              "      <td>Third Owner</td>\n",
              "      <td>158000</td>\n",
              "    </tr>\n",
              "    <tr>\n",
              "      <th>3</th>\n",
              "      <td>Hyundai</td>\n",
              "      <td>127000</td>\n",
              "      <td>Diesel</td>\n",
              "      <td>First Owner</td>\n",
              "      <td>225000</td>\n",
              "    </tr>\n",
              "    <tr>\n",
              "      <th>4</th>\n",
              "      <td>Maruti</td>\n",
              "      <td>120000</td>\n",
              "      <td>Petrol</td>\n",
              "      <td>First Owner</td>\n",
              "      <td>130000</td>\n",
              "    </tr>\n",
              "  </tbody>\n",
              "</table>\n",
              "</div>"
            ],
            "text/plain": [
              "     brand  km_driven    fuel         owner  selling_price\n",
              "0   Maruti     145500  Diesel   First Owner         450000\n",
              "1    Skoda     120000  Diesel  Second Owner         370000\n",
              "2    Honda     140000  Petrol   Third Owner         158000\n",
              "3  Hyundai     127000  Diesel   First Owner         225000\n",
              "4   Maruti     120000  Petrol   First Owner         130000"
            ]
          },
          "execution_count": 120,
          "metadata": {},
          "output_type": "execute_result"
        }
      ],
      "source": [
        "df.head()"
      ]
    },
    {
      "cell_type": "code",
      "execution_count": null,
      "metadata": {
        "id": "3y-haQy3Hy7T",
        "outputId": "c8ec99d5-fa01-4c39-c2db-69c687fbaabf"
      },
      "outputs": [
        {
          "data": {
            "text/plain": [
              "First Owner             5289\n",
              "Second Owner            2105\n",
              "Third Owner              555\n",
              "Fourth & Above Owner     174\n",
              "Test Drive Car             5\n",
              "Name: owner, dtype: int64"
            ]
          },
          "execution_count": 121,
          "metadata": {},
          "output_type": "execute_result"
        }
      ],
      "source": [
        "df['owner'].value_counts()"
      ]
    },
    {
      "cell_type": "markdown",
      "metadata": {
        "id": "zdwjeQoyHy7V"
      },
      "source": [
        "## 1. OneHotEncoding using Pandas"
      ]
    },
    {
      "cell_type": "code",
      "execution_count": null,
      "metadata": {
        "id": "kGMybnHkHy7Y",
        "outputId": "9ce13fb8-9500-4f82-f92e-78d05f8fe975"
      },
      "outputs": [
        {
          "data": {
            "text/html": [
              "<div>\n",
              "<style scoped>\n",
              "    .dataframe tbody tr th:only-of-type {\n",
              "        vertical-align: middle;\n",
              "    }\n",
              "\n",
              "    .dataframe tbody tr th {\n",
              "        vertical-align: top;\n",
              "    }\n",
              "\n",
              "    .dataframe thead th {\n",
              "        text-align: right;\n",
              "    }\n",
              "</style>\n",
              "<table border=\"1\" class=\"dataframe\">\n",
              "  <thead>\n",
              "    <tr style=\"text-align: right;\">\n",
              "      <th></th>\n",
              "      <th>brand</th>\n",
              "      <th>km_driven</th>\n",
              "      <th>selling_price</th>\n",
              "      <th>fuel_CNG</th>\n",
              "      <th>fuel_Diesel</th>\n",
              "      <th>fuel_LPG</th>\n",
              "      <th>fuel_Petrol</th>\n",
              "      <th>owner_First Owner</th>\n",
              "      <th>owner_Fourth &amp; Above Owner</th>\n",
              "      <th>owner_Second Owner</th>\n",
              "      <th>owner_Test Drive Car</th>\n",
              "      <th>owner_Third Owner</th>\n",
              "    </tr>\n",
              "  </thead>\n",
              "  <tbody>\n",
              "    <tr>\n",
              "      <th>0</th>\n",
              "      <td>Maruti</td>\n",
              "      <td>145500</td>\n",
              "      <td>450000</td>\n",
              "      <td>0</td>\n",
              "      <td>1</td>\n",
              "      <td>0</td>\n",
              "      <td>0</td>\n",
              "      <td>1</td>\n",
              "      <td>0</td>\n",
              "      <td>0</td>\n",
              "      <td>0</td>\n",
              "      <td>0</td>\n",
              "    </tr>\n",
              "    <tr>\n",
              "      <th>1</th>\n",
              "      <td>Skoda</td>\n",
              "      <td>120000</td>\n",
              "      <td>370000</td>\n",
              "      <td>0</td>\n",
              "      <td>1</td>\n",
              "      <td>0</td>\n",
              "      <td>0</td>\n",
              "      <td>0</td>\n",
              "      <td>0</td>\n",
              "      <td>1</td>\n",
              "      <td>0</td>\n",
              "      <td>0</td>\n",
              "    </tr>\n",
              "    <tr>\n",
              "      <th>2</th>\n",
              "      <td>Honda</td>\n",
              "      <td>140000</td>\n",
              "      <td>158000</td>\n",
              "      <td>0</td>\n",
              "      <td>0</td>\n",
              "      <td>0</td>\n",
              "      <td>1</td>\n",
              "      <td>0</td>\n",
              "      <td>0</td>\n",
              "      <td>0</td>\n",
              "      <td>0</td>\n",
              "      <td>1</td>\n",
              "    </tr>\n",
              "    <tr>\n",
              "      <th>3</th>\n",
              "      <td>Hyundai</td>\n",
              "      <td>127000</td>\n",
              "      <td>225000</td>\n",
              "      <td>0</td>\n",
              "      <td>1</td>\n",
              "      <td>0</td>\n",
              "      <td>0</td>\n",
              "      <td>1</td>\n",
              "      <td>0</td>\n",
              "      <td>0</td>\n",
              "      <td>0</td>\n",
              "      <td>0</td>\n",
              "    </tr>\n",
              "    <tr>\n",
              "      <th>4</th>\n",
              "      <td>Maruti</td>\n",
              "      <td>120000</td>\n",
              "      <td>130000</td>\n",
              "      <td>0</td>\n",
              "      <td>0</td>\n",
              "      <td>0</td>\n",
              "      <td>1</td>\n",
              "      <td>1</td>\n",
              "      <td>0</td>\n",
              "      <td>0</td>\n",
              "      <td>0</td>\n",
              "      <td>0</td>\n",
              "    </tr>\n",
              "    <tr>\n",
              "      <th>...</th>\n",
              "      <td>...</td>\n",
              "      <td>...</td>\n",
              "      <td>...</td>\n",
              "      <td>...</td>\n",
              "      <td>...</td>\n",
              "      <td>...</td>\n",
              "      <td>...</td>\n",
              "      <td>...</td>\n",
              "      <td>...</td>\n",
              "      <td>...</td>\n",
              "      <td>...</td>\n",
              "      <td>...</td>\n",
              "    </tr>\n",
              "    <tr>\n",
              "      <th>8123</th>\n",
              "      <td>Hyundai</td>\n",
              "      <td>110000</td>\n",
              "      <td>320000</td>\n",
              "      <td>0</td>\n",
              "      <td>0</td>\n",
              "      <td>0</td>\n",
              "      <td>1</td>\n",
              "      <td>1</td>\n",
              "      <td>0</td>\n",
              "      <td>0</td>\n",
              "      <td>0</td>\n",
              "      <td>0</td>\n",
              "    </tr>\n",
              "    <tr>\n",
              "      <th>8124</th>\n",
              "      <td>Hyundai</td>\n",
              "      <td>119000</td>\n",
              "      <td>135000</td>\n",
              "      <td>0</td>\n",
              "      <td>1</td>\n",
              "      <td>0</td>\n",
              "      <td>0</td>\n",
              "      <td>0</td>\n",
              "      <td>1</td>\n",
              "      <td>0</td>\n",
              "      <td>0</td>\n",
              "      <td>0</td>\n",
              "    </tr>\n",
              "    <tr>\n",
              "      <th>8125</th>\n",
              "      <td>Maruti</td>\n",
              "      <td>120000</td>\n",
              "      <td>382000</td>\n",
              "      <td>0</td>\n",
              "      <td>1</td>\n",
              "      <td>0</td>\n",
              "      <td>0</td>\n",
              "      <td>1</td>\n",
              "      <td>0</td>\n",
              "      <td>0</td>\n",
              "      <td>0</td>\n",
              "      <td>0</td>\n",
              "    </tr>\n",
              "    <tr>\n",
              "      <th>8126</th>\n",
              "      <td>Tata</td>\n",
              "      <td>25000</td>\n",
              "      <td>290000</td>\n",
              "      <td>0</td>\n",
              "      <td>1</td>\n",
              "      <td>0</td>\n",
              "      <td>0</td>\n",
              "      <td>1</td>\n",
              "      <td>0</td>\n",
              "      <td>0</td>\n",
              "      <td>0</td>\n",
              "      <td>0</td>\n",
              "    </tr>\n",
              "    <tr>\n",
              "      <th>8127</th>\n",
              "      <td>Tata</td>\n",
              "      <td>25000</td>\n",
              "      <td>290000</td>\n",
              "      <td>0</td>\n",
              "      <td>1</td>\n",
              "      <td>0</td>\n",
              "      <td>0</td>\n",
              "      <td>1</td>\n",
              "      <td>0</td>\n",
              "      <td>0</td>\n",
              "      <td>0</td>\n",
              "      <td>0</td>\n",
              "    </tr>\n",
              "  </tbody>\n",
              "</table>\n",
              "<p>8128 rows × 12 columns</p>\n",
              "</div>"
            ],
            "text/plain": [
              "        brand  km_driven  selling_price  fuel_CNG  fuel_Diesel  fuel_LPG  \\\n",
              "0      Maruti     145500         450000         0            1         0   \n",
              "1       Skoda     120000         370000         0            1         0   \n",
              "2       Honda     140000         158000         0            0         0   \n",
              "3     Hyundai     127000         225000         0            1         0   \n",
              "4      Maruti     120000         130000         0            0         0   \n",
              "...       ...        ...            ...       ...          ...       ...   \n",
              "8123  Hyundai     110000         320000         0            0         0   \n",
              "8124  Hyundai     119000         135000         0            1         0   \n",
              "8125   Maruti     120000         382000         0            1         0   \n",
              "8126     Tata      25000         290000         0            1         0   \n",
              "8127     Tata      25000         290000         0            1         0   \n",
              "\n",
              "      fuel_Petrol  owner_First Owner  owner_Fourth & Above Owner  \\\n",
              "0               0                  1                           0   \n",
              "1               0                  0                           0   \n",
              "2               1                  0                           0   \n",
              "3               0                  1                           0   \n",
              "4               1                  1                           0   \n",
              "...           ...                ...                         ...   \n",
              "8123            1                  1                           0   \n",
              "8124            0                  0                           1   \n",
              "8125            0                  1                           0   \n",
              "8126            0                  1                           0   \n",
              "8127            0                  1                           0   \n",
              "\n",
              "      owner_Second Owner  owner_Test Drive Car  owner_Third Owner  \n",
              "0                      0                     0                  0  \n",
              "1                      1                     0                  0  \n",
              "2                      0                     0                  1  \n",
              "3                      0                     0                  0  \n",
              "4                      0                     0                  0  \n",
              "...                  ...                   ...                ...  \n",
              "8123                   0                     0                  0  \n",
              "8124                   0                     0                  0  \n",
              "8125                   0                     0                  0  \n",
              "8126                   0                     0                  0  \n",
              "8127                   0                     0                  0  \n",
              "\n",
              "[8128 rows x 12 columns]"
            ]
          },
          "execution_count": 99,
          "metadata": {},
          "output_type": "execute_result"
        }
      ],
      "source": [
        "pd.get_dummies(df,columns=['fuel','owner'])"
      ]
    },
    {
      "cell_type": "markdown",
      "metadata": {
        "id": "QKnYOhm2Hy7b"
      },
      "source": [
        "## 2. K-1 OneHotEncoding"
      ]
    },
    {
      "cell_type": "code",
      "execution_count": null,
      "metadata": {
        "id": "AAAWK9i7Hy7d",
        "outputId": "bdbd7ec0-c769-4112-df49-c378f54ce304"
      },
      "outputs": [
        {
          "data": {
            "text/html": [
              "<div>\n",
              "<style scoped>\n",
              "    .dataframe tbody tr th:only-of-type {\n",
              "        vertical-align: middle;\n",
              "    }\n",
              "\n",
              "    .dataframe tbody tr th {\n",
              "        vertical-align: top;\n",
              "    }\n",
              "\n",
              "    .dataframe thead th {\n",
              "        text-align: right;\n",
              "    }\n",
              "</style>\n",
              "<table border=\"1\" class=\"dataframe\">\n",
              "  <thead>\n",
              "    <tr style=\"text-align: right;\">\n",
              "      <th></th>\n",
              "      <th>brand</th>\n",
              "      <th>km_driven</th>\n",
              "      <th>selling_price</th>\n",
              "      <th>fuel_Diesel</th>\n",
              "      <th>fuel_LPG</th>\n",
              "      <th>fuel_Petrol</th>\n",
              "      <th>owner_Fourth &amp; Above Owner</th>\n",
              "      <th>owner_Second Owner</th>\n",
              "      <th>owner_Test Drive Car</th>\n",
              "      <th>owner_Third Owner</th>\n",
              "    </tr>\n",
              "  </thead>\n",
              "  <tbody>\n",
              "    <tr>\n",
              "      <th>0</th>\n",
              "      <td>Maruti</td>\n",
              "      <td>145500</td>\n",
              "      <td>450000</td>\n",
              "      <td>1</td>\n",
              "      <td>0</td>\n",
              "      <td>0</td>\n",
              "      <td>0</td>\n",
              "      <td>0</td>\n",
              "      <td>0</td>\n",
              "      <td>0</td>\n",
              "    </tr>\n",
              "    <tr>\n",
              "      <th>1</th>\n",
              "      <td>Skoda</td>\n",
              "      <td>120000</td>\n",
              "      <td>370000</td>\n",
              "      <td>1</td>\n",
              "      <td>0</td>\n",
              "      <td>0</td>\n",
              "      <td>0</td>\n",
              "      <td>1</td>\n",
              "      <td>0</td>\n",
              "      <td>0</td>\n",
              "    </tr>\n",
              "    <tr>\n",
              "      <th>2</th>\n",
              "      <td>Honda</td>\n",
              "      <td>140000</td>\n",
              "      <td>158000</td>\n",
              "      <td>0</td>\n",
              "      <td>0</td>\n",
              "      <td>1</td>\n",
              "      <td>0</td>\n",
              "      <td>0</td>\n",
              "      <td>0</td>\n",
              "      <td>1</td>\n",
              "    </tr>\n",
              "    <tr>\n",
              "      <th>3</th>\n",
              "      <td>Hyundai</td>\n",
              "      <td>127000</td>\n",
              "      <td>225000</td>\n",
              "      <td>1</td>\n",
              "      <td>0</td>\n",
              "      <td>0</td>\n",
              "      <td>0</td>\n",
              "      <td>0</td>\n",
              "      <td>0</td>\n",
              "      <td>0</td>\n",
              "    </tr>\n",
              "    <tr>\n",
              "      <th>4</th>\n",
              "      <td>Maruti</td>\n",
              "      <td>120000</td>\n",
              "      <td>130000</td>\n",
              "      <td>0</td>\n",
              "      <td>0</td>\n",
              "      <td>1</td>\n",
              "      <td>0</td>\n",
              "      <td>0</td>\n",
              "      <td>0</td>\n",
              "      <td>0</td>\n",
              "    </tr>\n",
              "    <tr>\n",
              "      <th>...</th>\n",
              "      <td>...</td>\n",
              "      <td>...</td>\n",
              "      <td>...</td>\n",
              "      <td>...</td>\n",
              "      <td>...</td>\n",
              "      <td>...</td>\n",
              "      <td>...</td>\n",
              "      <td>...</td>\n",
              "      <td>...</td>\n",
              "      <td>...</td>\n",
              "    </tr>\n",
              "    <tr>\n",
              "      <th>8123</th>\n",
              "      <td>Hyundai</td>\n",
              "      <td>110000</td>\n",
              "      <td>320000</td>\n",
              "      <td>0</td>\n",
              "      <td>0</td>\n",
              "      <td>1</td>\n",
              "      <td>0</td>\n",
              "      <td>0</td>\n",
              "      <td>0</td>\n",
              "      <td>0</td>\n",
              "    </tr>\n",
              "    <tr>\n",
              "      <th>8124</th>\n",
              "      <td>Hyundai</td>\n",
              "      <td>119000</td>\n",
              "      <td>135000</td>\n",
              "      <td>1</td>\n",
              "      <td>0</td>\n",
              "      <td>0</td>\n",
              "      <td>1</td>\n",
              "      <td>0</td>\n",
              "      <td>0</td>\n",
              "      <td>0</td>\n",
              "    </tr>\n",
              "    <tr>\n",
              "      <th>8125</th>\n",
              "      <td>Maruti</td>\n",
              "      <td>120000</td>\n",
              "      <td>382000</td>\n",
              "      <td>1</td>\n",
              "      <td>0</td>\n",
              "      <td>0</td>\n",
              "      <td>0</td>\n",
              "      <td>0</td>\n",
              "      <td>0</td>\n",
              "      <td>0</td>\n",
              "    </tr>\n",
              "    <tr>\n",
              "      <th>8126</th>\n",
              "      <td>Tata</td>\n",
              "      <td>25000</td>\n",
              "      <td>290000</td>\n",
              "      <td>1</td>\n",
              "      <td>0</td>\n",
              "      <td>0</td>\n",
              "      <td>0</td>\n",
              "      <td>0</td>\n",
              "      <td>0</td>\n",
              "      <td>0</td>\n",
              "    </tr>\n",
              "    <tr>\n",
              "      <th>8127</th>\n",
              "      <td>Tata</td>\n",
              "      <td>25000</td>\n",
              "      <td>290000</td>\n",
              "      <td>1</td>\n",
              "      <td>0</td>\n",
              "      <td>0</td>\n",
              "      <td>0</td>\n",
              "      <td>0</td>\n",
              "      <td>0</td>\n",
              "      <td>0</td>\n",
              "    </tr>\n",
              "  </tbody>\n",
              "</table>\n",
              "<p>8128 rows × 10 columns</p>\n",
              "</div>"
            ],
            "text/plain": [
              "        brand  km_driven  selling_price  fuel_Diesel  fuel_LPG  fuel_Petrol  \\\n",
              "0      Maruti     145500         450000            1         0            0   \n",
              "1       Skoda     120000         370000            1         0            0   \n",
              "2       Honda     140000         158000            0         0            1   \n",
              "3     Hyundai     127000         225000            1         0            0   \n",
              "4      Maruti     120000         130000            0         0            1   \n",
              "...       ...        ...            ...          ...       ...          ...   \n",
              "8123  Hyundai     110000         320000            0         0            1   \n",
              "8124  Hyundai     119000         135000            1         0            0   \n",
              "8125   Maruti     120000         382000            1         0            0   \n",
              "8126     Tata      25000         290000            1         0            0   \n",
              "8127     Tata      25000         290000            1         0            0   \n",
              "\n",
              "      owner_Fourth & Above Owner  owner_Second Owner  owner_Test Drive Car  \\\n",
              "0                              0                   0                     0   \n",
              "1                              0                   1                     0   \n",
              "2                              0                   0                     0   \n",
              "3                              0                   0                     0   \n",
              "4                              0                   0                     0   \n",
              "...                          ...                 ...                   ...   \n",
              "8123                           0                   0                     0   \n",
              "8124                           1                   0                     0   \n",
              "8125                           0                   0                     0   \n",
              "8126                           0                   0                     0   \n",
              "8127                           0                   0                     0   \n",
              "\n",
              "      owner_Third Owner  \n",
              "0                     0  \n",
              "1                     0  \n",
              "2                     1  \n",
              "3                     0  \n",
              "4                     0  \n",
              "...                 ...  \n",
              "8123                  0  \n",
              "8124                  0  \n",
              "8125                  0  \n",
              "8126                  0  \n",
              "8127                  0  \n",
              "\n",
              "[8128 rows x 10 columns]"
            ]
          },
          "execution_count": 100,
          "metadata": {},
          "output_type": "execute_result"
        }
      ],
      "source": [
        "pd.get_dummies(df,columns=['fuel','owner'],drop_first=True)"
      ]
    },
    {
      "cell_type": "markdown",
      "metadata": {
        "id": "UtRhRdO7Hy7f"
      },
      "source": [
        "## 3. OneHotEncoding using Sklearn"
      ]
    },
    {
      "cell_type": "code",
      "execution_count": null,
      "metadata": {
        "id": "PvTz7GakHy7g"
      },
      "outputs": [],
      "source": [
        "from sklearn.model_selection import train_test_split\n",
        "X_train,X_test,y_train,y_test = train_test_split(df.iloc[:,0:4],df.iloc[:,-1],test_size=0.2,random_state=2)"
      ]
    },
    {
      "cell_type": "code",
      "execution_count": null,
      "metadata": {
        "id": "-ndFVjHRHy7h",
        "outputId": "f68c42c5-04a0-4c8a-8a4b-70c9974ec7eb"
      },
      "outputs": [
        {
          "data": {
            "text/html": [
              "<div>\n",
              "<style scoped>\n",
              "    .dataframe tbody tr th:only-of-type {\n",
              "        vertical-align: middle;\n",
              "    }\n",
              "\n",
              "    .dataframe tbody tr th {\n",
              "        vertical-align: top;\n",
              "    }\n",
              "\n",
              "    .dataframe thead th {\n",
              "        text-align: right;\n",
              "    }\n",
              "</style>\n",
              "<table border=\"1\" class=\"dataframe\">\n",
              "  <thead>\n",
              "    <tr style=\"text-align: right;\">\n",
              "      <th></th>\n",
              "      <th>brand</th>\n",
              "      <th>km_driven</th>\n",
              "      <th>fuel</th>\n",
              "      <th>owner</th>\n",
              "    </tr>\n",
              "  </thead>\n",
              "  <tbody>\n",
              "    <tr>\n",
              "      <th>5571</th>\n",
              "      <td>Hyundai</td>\n",
              "      <td>35000</td>\n",
              "      <td>Diesel</td>\n",
              "      <td>First Owner</td>\n",
              "    </tr>\n",
              "    <tr>\n",
              "      <th>2038</th>\n",
              "      <td>Jeep</td>\n",
              "      <td>60000</td>\n",
              "      <td>Diesel</td>\n",
              "      <td>First Owner</td>\n",
              "    </tr>\n",
              "    <tr>\n",
              "      <th>2957</th>\n",
              "      <td>Hyundai</td>\n",
              "      <td>25000</td>\n",
              "      <td>Petrol</td>\n",
              "      <td>First Owner</td>\n",
              "    </tr>\n",
              "    <tr>\n",
              "      <th>7618</th>\n",
              "      <td>Mahindra</td>\n",
              "      <td>130000</td>\n",
              "      <td>Diesel</td>\n",
              "      <td>Second Owner</td>\n",
              "    </tr>\n",
              "    <tr>\n",
              "      <th>6684</th>\n",
              "      <td>Hyundai</td>\n",
              "      <td>155000</td>\n",
              "      <td>Diesel</td>\n",
              "      <td>First Owner</td>\n",
              "    </tr>\n",
              "  </tbody>\n",
              "</table>\n",
              "</div>"
            ],
            "text/plain": [
              "         brand  km_driven    fuel         owner\n",
              "5571   Hyundai      35000  Diesel   First Owner\n",
              "2038      Jeep      60000  Diesel   First Owner\n",
              "2957   Hyundai      25000  Petrol   First Owner\n",
              "7618  Mahindra     130000  Diesel  Second Owner\n",
              "6684   Hyundai     155000  Diesel   First Owner"
            ]
          },
          "execution_count": 111,
          "metadata": {},
          "output_type": "execute_result"
        }
      ],
      "source": [
        "X_train.head()"
      ]
    },
    {
      "cell_type": "code",
      "execution_count": null,
      "metadata": {
        "id": "-pbOiGWAHy7i"
      },
      "outputs": [],
      "source": [
        "from sklearn.preprocessing import OneHotEncoder"
      ]
    },
    {
      "cell_type": "code",
      "execution_count": null,
      "metadata": {
        "id": "1K9pW2bvHy7j"
      },
      "outputs": [],
      "source": [
        "ohe = OneHotEncoder(drop='first',sparse=False,dtype=np.int32)"
      ]
    },
    {
      "cell_type": "code",
      "execution_count": null,
      "metadata": {
        "id": "P5ElL0c1Hy7k"
      },
      "outputs": [],
      "source": [
        "X_train_new = ohe.fit_transform(X_train[['fuel','owner']])"
      ]
    },
    {
      "cell_type": "code",
      "execution_count": null,
      "metadata": {
        "id": "3PdHQAMSHy7k"
      },
      "outputs": [],
      "source": [
        "X_test_new = ohe.transform(X_test[['fuel','owner']])"
      ]
    },
    {
      "cell_type": "code",
      "execution_count": null,
      "metadata": {
        "id": "pPyM0PfvHy7k",
        "outputId": "32da9f2f-41c9-4f85-a4ee-fa821ffd0f10"
      },
      "outputs": [
        {
          "data": {
            "text/plain": [
              "(6502, 7)"
            ]
          },
          "execution_count": 140,
          "metadata": {},
          "output_type": "execute_result"
        }
      ],
      "source": [
        "X_train_new.shape"
      ]
    },
    {
      "cell_type": "code",
      "execution_count": null,
      "metadata": {
        "scrolled": true,
        "id": "ijhcKuXsHy7l",
        "outputId": "421fa946-7907-4b17-91b2-d2b474455ccc"
      },
      "outputs": [
        {
          "data": {
            "text/plain": [
              "array([['Hyundai', 35000, 1, ..., 0, 0, 0],\n",
              "       ['Jeep', 60000, 1, ..., 0, 0, 0],\n",
              "       ['Hyundai', 25000, 0, ..., 0, 0, 0],\n",
              "       ...,\n",
              "       ['Tata', 15000, 0, ..., 0, 0, 0],\n",
              "       ['Maruti', 32500, 1, ..., 1, 0, 0],\n",
              "       ['Isuzu', 121000, 1, ..., 0, 0, 0]], dtype=object)"
            ]
          },
          "execution_count": 141,
          "metadata": {},
          "output_type": "execute_result"
        }
      ],
      "source": [
        "np.hstack((X_train[['brand','km_driven']].values,X_train_new))"
      ]
    },
    {
      "cell_type": "code",
      "execution_count": null,
      "metadata": {
        "id": "U5QqmoQQHy7m"
      },
      "outputs": [],
      "source": []
    },
    {
      "cell_type": "code",
      "execution_count": null,
      "metadata": {
        "id": "IlolBkrbHy7m"
      },
      "outputs": [],
      "source": []
    },
    {
      "cell_type": "markdown",
      "metadata": {
        "id": "UsMmqgFZHy7m"
      },
      "source": [
        "## 4. OneHotEncoding with Top Categories"
      ]
    },
    {
      "cell_type": "code",
      "execution_count": null,
      "metadata": {
        "id": "An10LX5FHy7n"
      },
      "outputs": [],
      "source": [
        "counts = df['brand'].value_counts()"
      ]
    },
    {
      "cell_type": "code",
      "execution_count": null,
      "metadata": {
        "id": "RP_EERXBHy7n"
      },
      "outputs": [],
      "source": [
        "df['brand'].nunique()\n",
        "threshold = 100"
      ]
    },
    {
      "cell_type": "code",
      "execution_count": null,
      "metadata": {
        "id": "lx3GgsH-Hy7n"
      },
      "outputs": [],
      "source": [
        "repl = counts[counts <= threshold].index"
      ]
    },
    {
      "cell_type": "code",
      "execution_count": null,
      "metadata": {
        "id": "KofV8z3tHy7o",
        "outputId": "01763e37-658c-4a46-ef8a-e46d23cc89d6"
      },
      "outputs": [
        {
          "data": {
            "text/html": [
              "<div>\n",
              "<style scoped>\n",
              "    .dataframe tbody tr th:only-of-type {\n",
              "        vertical-align: middle;\n",
              "    }\n",
              "\n",
              "    .dataframe tbody tr th {\n",
              "        vertical-align: top;\n",
              "    }\n",
              "\n",
              "    .dataframe thead th {\n",
              "        text-align: right;\n",
              "    }\n",
              "</style>\n",
              "<table border=\"1\" class=\"dataframe\">\n",
              "  <thead>\n",
              "    <tr style=\"text-align: right;\">\n",
              "      <th></th>\n",
              "      <th>BMW</th>\n",
              "      <th>Chevrolet</th>\n",
              "      <th>Ford</th>\n",
              "      <th>Honda</th>\n",
              "      <th>Hyundai</th>\n",
              "      <th>Mahindra</th>\n",
              "      <th>Maruti</th>\n",
              "      <th>Renault</th>\n",
              "      <th>Skoda</th>\n",
              "      <th>Tata</th>\n",
              "      <th>Toyota</th>\n",
              "      <th>Volkswagen</th>\n",
              "      <th>uncommon</th>\n",
              "    </tr>\n",
              "  </thead>\n",
              "  <tbody>\n",
              "    <tr>\n",
              "      <th>8093</th>\n",
              "      <td>0</td>\n",
              "      <td>0</td>\n",
              "      <td>0</td>\n",
              "      <td>0</td>\n",
              "      <td>1</td>\n",
              "      <td>0</td>\n",
              "      <td>0</td>\n",
              "      <td>0</td>\n",
              "      <td>0</td>\n",
              "      <td>0</td>\n",
              "      <td>0</td>\n",
              "      <td>0</td>\n",
              "      <td>0</td>\n",
              "    </tr>\n",
              "    <tr>\n",
              "      <th>3274</th>\n",
              "      <td>0</td>\n",
              "      <td>0</td>\n",
              "      <td>0</td>\n",
              "      <td>0</td>\n",
              "      <td>0</td>\n",
              "      <td>0</td>\n",
              "      <td>1</td>\n",
              "      <td>0</td>\n",
              "      <td>0</td>\n",
              "      <td>0</td>\n",
              "      <td>0</td>\n",
              "      <td>0</td>\n",
              "      <td>0</td>\n",
              "    </tr>\n",
              "    <tr>\n",
              "      <th>2966</th>\n",
              "      <td>0</td>\n",
              "      <td>0</td>\n",
              "      <td>0</td>\n",
              "      <td>0</td>\n",
              "      <td>0</td>\n",
              "      <td>0</td>\n",
              "      <td>1</td>\n",
              "      <td>0</td>\n",
              "      <td>0</td>\n",
              "      <td>0</td>\n",
              "      <td>0</td>\n",
              "      <td>0</td>\n",
              "      <td>0</td>\n",
              "    </tr>\n",
              "    <tr>\n",
              "      <th>1092</th>\n",
              "      <td>1</td>\n",
              "      <td>0</td>\n",
              "      <td>0</td>\n",
              "      <td>0</td>\n",
              "      <td>0</td>\n",
              "      <td>0</td>\n",
              "      <td>0</td>\n",
              "      <td>0</td>\n",
              "      <td>0</td>\n",
              "      <td>0</td>\n",
              "      <td>0</td>\n",
              "      <td>0</td>\n",
              "      <td>0</td>\n",
              "    </tr>\n",
              "    <tr>\n",
              "      <th>5355</th>\n",
              "      <td>0</td>\n",
              "      <td>0</td>\n",
              "      <td>0</td>\n",
              "      <td>0</td>\n",
              "      <td>0</td>\n",
              "      <td>0</td>\n",
              "      <td>0</td>\n",
              "      <td>0</td>\n",
              "      <td>0</td>\n",
              "      <td>0</td>\n",
              "      <td>0</td>\n",
              "      <td>0</td>\n",
              "      <td>1</td>\n",
              "    </tr>\n",
              "  </tbody>\n",
              "</table>\n",
              "</div>"
            ],
            "text/plain": [
              "      BMW  Chevrolet  Ford  Honda  Hyundai  Mahindra  Maruti  Renault  Skoda  \\\n",
              "8093    0          0     0      0        1         0       0        0      0   \n",
              "3274    0          0     0      0        0         0       1        0      0   \n",
              "2966    0          0     0      0        0         0       1        0      0   \n",
              "1092    1          0     0      0        0         0       0        0      0   \n",
              "5355    0          0     0      0        0         0       0        0      0   \n",
              "\n",
              "      Tata  Toyota  Volkswagen  uncommon  \n",
              "8093     0       0           0         0  \n",
              "3274     0       0           0         0  \n",
              "2966     0       0           0         0  \n",
              "1092     0       0           0         0  \n",
              "5355     0       0           0         1  "
            ]
          },
          "execution_count": 150,
          "metadata": {},
          "output_type": "execute_result"
        }
      ],
      "source": [
        "pd.get_dummies(df['brand'].replace(repl, 'uncommon')).sample(5)"
      ]
    },
    {
      "cell_type": "code",
      "execution_count": null,
      "metadata": {
        "id": "Y1ZR7Z4zHy7o"
      },
      "outputs": [],
      "source": [
        "#28"
      ]
    },
    {
      "cell_type": "code",
      "source": [],
      "metadata": {
        "id": "RC7E32q3JctH"
      },
      "execution_count": null,
      "outputs": []
    }
  ],
  "metadata": {
    "kernelspec": {
      "display_name": "Python 3",
      "language": "python",
      "name": "python3"
    },
    "language_info": {
      "codemirror_mode": {
        "name": "ipython",
        "version": 3
      },
      "file_extension": ".py",
      "mimetype": "text/x-python",
      "name": "python",
      "nbconvert_exporter": "python",
      "pygments_lexer": "ipython3",
      "version": "3.8.3"
    },
    "colab": {
      "provenance": []
    }
  },
  "nbformat": 4,
  "nbformat_minor": 0
}